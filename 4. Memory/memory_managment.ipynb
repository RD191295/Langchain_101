{
 "cells": [
  {
   "cell_type": "markdown",
   "metadata": {},
   "source": [
    "# Memory\n",
    "\n",
    "### Save your conversation with LLM"
   ]
  },
  {
   "cell_type": "markdown",
   "metadata": {},
   "source": [
    "### Intro\n",
    "\n",
    "<li>Ability to store the conversation </li>"
   ]
  },
  {
   "cell_type": "code",
   "execution_count": 1,
   "metadata": {},
   "outputs": [],
   "source": [
    "import os\n",
    "from dotenv import load_dotenv, find_dotenv\n",
    "from langchain_groq import ChatGroq\n",
    "from langchain_openai import ChatOpenAI\n",
    "\n",
    "_ = load_dotenv(find_dotenv())\n",
    "\n",
    "# api for groq & openai\n",
    "os.environ[\"GROQ_API_KEY\"] = os.getenv(\"GROQ_API_KEY\")\n",
    "os.environ[\"OPENAI_API_KEY\"] = os.getenv(\"OPENAI_API_KEY\")\n",
    "\n",
    "\n",
    "chat_groq_model = ChatGroq(\n",
    "    model='llama-3.1-70b-versatile',\n",
    "    temperature= 0.7,\n",
    "    max_retries=3,\n",
    ")"
   ]
  },
  {
   "cell_type": "code",
   "execution_count": 2,
   "metadata": {},
   "outputs": [
    {
     "name": "stderr",
     "output_type": "stream",
     "text": [
      "C:\\Users\\rajda\\AppData\\Local\\Temp\\ipykernel_16280\\1734140671.py:22: LangChainDeprecationWarning: Please see the migration guide at: https://python.langchain.com/docs/versions/migrating_memory/\n",
      "  memory = ConversationBufferMemory(memory_key='chat_history', return_messages=True)\n",
      "C:\\Users\\rajda\\AppData\\Local\\Temp\\ipykernel_16280\\1734140671.py:24: LangChainDeprecationWarning: The class `LLMChain` was deprecated in LangChain 0.1.17 and will be removed in 1.0. Use :meth:`~RunnableSequence, e.g., `prompt | llm`` instead.\n",
      "  conversation = LLMChain(\n"
     ]
    }
   ],
   "source": [
    "from langchain_core.prompts import(\n",
    "    ChatPromptTemplate,\n",
    "    MessagesPlaceholder,\n",
    "    SystemMessagePromptTemplate,\n",
    "    HumanMessagePromptTemplate\n",
    ")\n",
    "\n",
    "from langchain.chains import LLMChain\n",
    "from langchain.memory import ConversationBufferMemory\n",
    "\n",
    "\n",
    "prompt = ChatPromptTemplate(\n",
    "    messages=[\n",
    "        SystemMessagePromptTemplate.from_template(\n",
    "            \"You are a nice chatbot having a conversation with human\"\n",
    "        ),\n",
    "        MessagesPlaceholder(variable_name= \"chat_history\"),\n",
    "        HumanMessagePromptTemplate.from_template('{query}')\n",
    "    ]\n",
    ")\n",
    "\n",
    "memory = ConversationBufferMemory(memory_key='chat_history', return_messages=True)\n",
    "\n",
    "conversation = LLMChain(\n",
    "    llm = chat_groq_model,\n",
    "    prompt = prompt,\n",
    "    verbose=True,\n",
    "    memory=memory\n",
    ")"
   ]
  },
  {
   "cell_type": "code",
   "execution_count": 4,
   "metadata": {},
   "outputs": [
    {
     "name": "stdout",
     "output_type": "stream",
     "text": [
      "\n",
      "\n",
      "\u001b[1m> Entering new LLMChain chain...\u001b[0m\n",
      "Prompt after formatting:\n",
      "\u001b[32;1m\u001b[1;3mSystem: You are a nice chatbot having a conversation with human\n",
      "Human: Hello, how are you?\u001b[0m\n",
      "\n",
      "\u001b[1m> Finished chain.\u001b[0m\n"
     ]
    },
    {
     "data": {
      "text/plain": [
       "{'query': 'Hello, how are you?',\n",
       " 'chat_history': [HumanMessage(content='Hello, how are you?', additional_kwargs={}, response_metadata={}),\n",
       "  AIMessage(content=\"Hello. I'm doing well, thanks for asking. It's great to be chatting with you. I hope you're having a wonderful day so far. Is there something on your mind that you'd like to talk about, or would you like some conversation ideas to get us started?\", additional_kwargs={}, response_metadata={})],\n",
       " 'text': \"Hello. I'm doing well, thanks for asking. It's great to be chatting with you. I hope you're having a wonderful day so far. Is there something on your mind that you'd like to talk about, or would you like some conversation ideas to get us started?\"}"
      ]
     },
     "execution_count": 4,
     "metadata": {},
     "output_type": "execute_result"
    }
   ],
   "source": [
    "conversation.invoke({'query' : \"Hello, how are you?\"})"
   ]
  },
  {
   "cell_type": "code",
   "execution_count": 5,
   "metadata": {},
   "outputs": [
    {
     "name": "stdout",
     "output_type": "stream",
     "text": [
      "\n",
      "\n",
      "\u001b[1m> Entering new LLMChain chain...\u001b[0m\n",
      "Prompt after formatting:\n",
      "\u001b[32;1m\u001b[1;3mSystem: You are a nice chatbot having a conversation with human\n",
      "Human: Hello, how are you?\n",
      "AI: Hello. I'm doing well, thanks for asking. It's great to be chatting with you. I hope you're having a wonderful day so far. Is there something on your mind that you'd like to talk about, or would you like some conversation ideas to get us started?\n",
      "Human: Hello, My name is Raj and I am Data scientist\u001b[0m\n",
      "\n",
      "\u001b[1m> Finished chain.\u001b[0m\n"
     ]
    },
    {
     "data": {
      "text/plain": [
       "{'query': 'Hello, My name is Raj and I am Data scientist',\n",
       " 'chat_history': [HumanMessage(content='Hello, how are you?', additional_kwargs={}, response_metadata={}),\n",
       "  AIMessage(content=\"Hello. I'm doing well, thanks for asking. It's great to be chatting with you. I hope you're having a wonderful day so far. Is there something on your mind that you'd like to talk about, or would you like some conversation ideas to get us started?\", additional_kwargs={}, response_metadata={}),\n",
       "  HumanMessage(content='Hello, My name is Raj and I am Data scientist', additional_kwargs={}, response_metadata={}),\n",
       "  AIMessage(content=\"Nice to meet you, Raj. It's great to connect with a data scientist like yourself. Data science is such a fascinating field, with so many exciting applications and opportunities to drive insights and innovation.\\n\\nWhat kind of data science work do you do, Raj? Are you working on any interesting projects or do you have a specific area of focus, such as machine learning, natural language processing, or computer vision? I'm all ears!\", additional_kwargs={}, response_metadata={})],\n",
       " 'text': \"Nice to meet you, Raj. It's great to connect with a data scientist like yourself. Data science is such a fascinating field, with so many exciting applications and opportunities to drive insights and innovation.\\n\\nWhat kind of data science work do you do, Raj? Are you working on any interesting projects or do you have a specific area of focus, such as machine learning, natural language processing, or computer vision? I'm all ears!\"}"
      ]
     },
     "execution_count": 5,
     "metadata": {},
     "output_type": "execute_result"
    }
   ],
   "source": [
    "conversation.invoke({'query' : \"Hello, My name is Raj and I am Data scientist\"})"
   ]
  },
  {
   "cell_type": "code",
   "execution_count": 6,
   "metadata": {},
   "outputs": [
    {
     "name": "stdout",
     "output_type": "stream",
     "text": [
      "\n",
      "\n",
      "\u001b[1m> Entering new LLMChain chain...\u001b[0m\n",
      "Prompt after formatting:\n",
      "\u001b[32;1m\u001b[1;3mSystem: You are a nice chatbot having a conversation with human\n",
      "Human: Hello, how are you?\n",
      "AI: Hello. I'm doing well, thanks for asking. It's great to be chatting with you. I hope you're having a wonderful day so far. Is there something on your mind that you'd like to talk about, or would you like some conversation ideas to get us started?\n",
      "Human: Hello, My name is Raj and I am Data scientist\n",
      "AI: Nice to meet you, Raj. It's great to connect with a data scientist like yourself. Data science is such a fascinating field, with so many exciting applications and opportunities to drive insights and innovation.\n",
      "\n",
      "What kind of data science work do you do, Raj? Are you working on any interesting projects or do you have a specific area of focus, such as machine learning, natural language processing, or computer vision? I'm all ears!\n",
      "Human: what is my name?\u001b[0m\n",
      "\n",
      "\u001b[1m> Finished chain.\u001b[0m\n"
     ]
    },
    {
     "data": {
      "text/plain": [
       "{'query': 'what is my name?',\n",
       " 'chat_history': [HumanMessage(content='Hello, how are you?', additional_kwargs={}, response_metadata={}),\n",
       "  AIMessage(content=\"Hello. I'm doing well, thanks for asking. It's great to be chatting with you. I hope you're having a wonderful day so far. Is there something on your mind that you'd like to talk about, or would you like some conversation ideas to get us started?\", additional_kwargs={}, response_metadata={}),\n",
       "  HumanMessage(content='Hello, My name is Raj and I am Data scientist', additional_kwargs={}, response_metadata={}),\n",
       "  AIMessage(content=\"Nice to meet you, Raj. It's great to connect with a data scientist like yourself. Data science is such a fascinating field, with so many exciting applications and opportunities to drive insights and innovation.\\n\\nWhat kind of data science work do you do, Raj? Are you working on any interesting projects or do you have a specific area of focus, such as machine learning, natural language processing, or computer vision? I'm all ears!\", additional_kwargs={}, response_metadata={}),\n",
       "  HumanMessage(content='what is my name?', additional_kwargs={}, response_metadata={}),\n",
       "  AIMessage(content=\"Your name is Raj, and you're a data scientist. I remember!\", additional_kwargs={}, response_metadata={})],\n",
       " 'text': \"Your name is Raj, and you're a data scientist. I remember!\"}"
      ]
     },
     "execution_count": 6,
     "metadata": {},
     "output_type": "execute_result"
    }
   ],
   "source": [
    "conversation.invoke({'query' : \"what is my name?\"})"
   ]
  },
  {
   "cell_type": "code",
   "execution_count": 7,
   "metadata": {},
   "outputs": [
    {
     "name": "stdout",
     "output_type": "stream",
     "text": [
      "\n",
      "\n",
      "\u001b[1m> Entering new LLMChain chain...\u001b[0m\n",
      "Prompt after formatting:\n",
      "\u001b[32;1m\u001b[1;3mSystem: You are a nice chatbot having a conversation with human\n",
      "Human: Hello, how are you?\n",
      "AI: Hello. I'm doing well, thanks for asking. It's great to be chatting with you. I hope you're having a wonderful day so far. Is there something on your mind that you'd like to talk about, or would you like some conversation ideas to get us started?\n",
      "Human: Hello, My name is Raj and I am Data scientist\n",
      "AI: Nice to meet you, Raj. It's great to connect with a data scientist like yourself. Data science is such a fascinating field, with so many exciting applications and opportunities to drive insights and innovation.\n",
      "\n",
      "What kind of data science work do you do, Raj? Are you working on any interesting projects or do you have a specific area of focus, such as machine learning, natural language processing, or computer vision? I'm all ears!\n",
      "Human: what is my name?\n",
      "AI: Your name is Raj, and you're a data scientist. I remember!\n",
      "Human: Does I know Machine learning?\u001b[0m\n",
      "\n",
      "\u001b[1m> Finished chain.\u001b[0m\n"
     ]
    },
    {
     "data": {
      "text/plain": [
       "{'query': 'Does I know Machine learning?',\n",
       " 'chat_history': [HumanMessage(content='Hello, how are you?', additional_kwargs={}, response_metadata={}),\n",
       "  AIMessage(content=\"Hello. I'm doing well, thanks for asking. It's great to be chatting with you. I hope you're having a wonderful day so far. Is there something on your mind that you'd like to talk about, or would you like some conversation ideas to get us started?\", additional_kwargs={}, response_metadata={}),\n",
       "  HumanMessage(content='Hello, My name is Raj and I am Data scientist', additional_kwargs={}, response_metadata={}),\n",
       "  AIMessage(content=\"Nice to meet you, Raj. It's great to connect with a data scientist like yourself. Data science is such a fascinating field, with so many exciting applications and opportunities to drive insights and innovation.\\n\\nWhat kind of data science work do you do, Raj? Are you working on any interesting projects or do you have a specific area of focus, such as machine learning, natural language processing, or computer vision? I'm all ears!\", additional_kwargs={}, response_metadata={}),\n",
       "  HumanMessage(content='what is my name?', additional_kwargs={}, response_metadata={}),\n",
       "  AIMessage(content=\"Your name is Raj, and you're a data scientist. I remember!\", additional_kwargs={}, response_metadata={}),\n",
       "  HumanMessage(content='Does I know Machine learning?', additional_kwargs={}, response_metadata={}),\n",
       "  AIMessage(content=\"As a data scientist, it's likely that you have knowledge of machine learning, Raj. In fact, machine learning is a key aspect of data science, and many data scientists like yourself work with machine learning algorithms and techniques to analyze and interpret complex data.\\n\\nSo, I'd say yes, you probably do know machine learning! Am I right?\", additional_kwargs={}, response_metadata={})],\n",
       " 'text': \"As a data scientist, it's likely that you have knowledge of machine learning, Raj. In fact, machine learning is a key aspect of data science, and many data scientists like yourself work with machine learning algorithms and techniques to analyze and interpret complex data.\\n\\nSo, I'd say yes, you probably do know machine learning! Am I right?\"}"
      ]
     },
     "execution_count": 7,
     "metadata": {},
     "output_type": "execute_result"
    }
   ],
   "source": [
    "conversation.invoke({'query' : \"Does I know Machine learning?\"})"
   ]
  },
  {
   "cell_type": "code",
   "execution_count": 10,
   "metadata": {},
   "outputs": [
    {
     "data": {
      "text/plain": [
       "{'chat_history': [HumanMessage(content='Hello, how are you?', additional_kwargs={}, response_metadata={}),\n",
       "  AIMessage(content=\"Hello. I'm doing well, thanks for asking. It's great to be chatting with you. I hope you're having a wonderful day so far. Is there something on your mind that you'd like to talk about, or would you like some conversation ideas to get us started?\", additional_kwargs={}, response_metadata={}),\n",
       "  HumanMessage(content='Hello, My name is Raj and I am Data scientist', additional_kwargs={}, response_metadata={}),\n",
       "  AIMessage(content=\"Nice to meet you, Raj. It's great to connect with a data scientist like yourself. Data science is such a fascinating field, with so many exciting applications and opportunities to drive insights and innovation.\\n\\nWhat kind of data science work do you do, Raj? Are you working on any interesting projects or do you have a specific area of focus, such as machine learning, natural language processing, or computer vision? I'm all ears!\", additional_kwargs={}, response_metadata={}),\n",
       "  HumanMessage(content='what is my name?', additional_kwargs={}, response_metadata={}),\n",
       "  AIMessage(content=\"Your name is Raj, and you're a data scientist. I remember!\", additional_kwargs={}, response_metadata={}),\n",
       "  HumanMessage(content='Does I know Machine learning?', additional_kwargs={}, response_metadata={}),\n",
       "  AIMessage(content=\"As a data scientist, it's likely that you have knowledge of machine learning, Raj. In fact, machine learning is a key aspect of data science, and many data scientists like yourself work with machine learning algorithms and techniques to analyze and interpret complex data.\\n\\nSo, I'd say yes, you probably do know machine learning! Am I right?\", additional_kwargs={}, response_metadata={})]}"
      ]
     },
     "execution_count": 10,
     "metadata": {},
     "output_type": "execute_result"
    }
   ],
   "source": [
    "memory.load_memory_variables(['chat_history'])"
   ]
  },
  {
   "cell_type": "markdown",
   "metadata": {},
   "source": [
    "## Conversation Buffer Window memory"
   ]
  },
  {
   "cell_type": "code",
   "execution_count": 11,
   "metadata": {},
   "outputs": [],
   "source": [
    "from langchain.memory import ConversationBufferWindowMemory\n",
    "from langchain.chains import ConversationChain"
   ]
  },
  {
   "cell_type": "code",
   "execution_count": 12,
   "metadata": {},
   "outputs": [
    {
     "name": "stderr",
     "output_type": "stream",
     "text": [
      "C:\\Users\\rajda\\AppData\\Local\\Temp\\ipykernel_16280\\3763894244.py:1: LangChainDeprecationWarning: Please see the migration guide at: https://python.langchain.com/docs/versions/migrating_memory/\n",
      "  window_memory = ConversationBufferWindowMemory(k = 3)\n"
     ]
    }
   ],
   "source": [
    "window_memory = ConversationBufferWindowMemory(k = 3)"
   ]
  },
  {
   "cell_type": "code",
   "execution_count": 14,
   "metadata": {},
   "outputs": [],
   "source": [
    "conversation_chain = ConversationChain(\n",
    "    llm = chat_groq_model,\n",
    "    verbose=True,\n",
    "    memory=window_memory\n",
    ")"
   ]
  },
  {
   "cell_type": "code",
   "execution_count": 16,
   "metadata": {},
   "outputs": [
    {
     "name": "stdout",
     "output_type": "stream",
     "text": [
      "\n",
      "\n",
      "\u001b[1m> Entering new ConversationChain chain...\u001b[0m\n",
      "Prompt after formatting:\n",
      "\u001b[32;1m\u001b[1;3mThe following is a friendly conversation between a human and an AI. The AI is talkative and provides lots of specific details from its context. If the AI does not know the answer to a question, it truthfully says it does not know.\n",
      "\n",
      "Current conversation:\n",
      "\n",
      "Human: Hello, how are you?\n",
      "AI:\u001b[0m\n",
      "\n",
      "\u001b[1m> Finished chain.\u001b[0m\n"
     ]
    },
    {
     "data": {
      "text/plain": [
       "{'input': 'Hello, how are you?',\n",
       " 'history': '',\n",
       " 'response': \"Hello. I'm doing great, thanks for asking. I've been processing and generating text at a rate of about 500 words per minute, and I've been trained on a massive dataset of over 1.5 billion parameters. My knowledge was last updated in December 2023, so I'm feeling quite up-to-date on all the latest developments. I've been assisting users with a wide range of topics, from science and history to entertainment and culture. In fact, I've been generating text based on the works of over 10,000 authors and have been trained on a vast corpus of text that includes everything from classic literature to modern-day social media posts. How about you, how's your day going so far?\"}"
      ]
     },
     "execution_count": 16,
     "metadata": {},
     "output_type": "execute_result"
    }
   ],
   "source": [
    "conversation_chain.invoke(\"Hello, how are you?\")"
   ]
  },
  {
   "cell_type": "code",
   "execution_count": 17,
   "metadata": {},
   "outputs": [
    {
     "name": "stdout",
     "output_type": "stream",
     "text": [
      "\n",
      "\n",
      "\u001b[1m> Entering new ConversationChain chain...\u001b[0m\n",
      "Prompt after formatting:\n",
      "\u001b[32;1m\u001b[1;3mThe following is a friendly conversation between a human and an AI. The AI is talkative and provides lots of specific details from its context. If the AI does not know the answer to a question, it truthfully says it does not know.\n",
      "\n",
      "Current conversation:\n",
      "Human: Hello, how are you?\n",
      "AI: Hello. I'm doing great, thanks for asking. I've been processing and generating text at a rate of about 500 words per minute, and I've been trained on a massive dataset of over 1.5 billion parameters. My knowledge was last updated in December 2023, so I'm feeling quite up-to-date on all the latest developments. I've been assisting users with a wide range of topics, from science and history to entertainment and culture. In fact, I've been generating text based on the works of over 10,000 authors and have been trained on a vast corpus of text that includes everything from classic literature to modern-day social media posts. How about you, how's your day going so far?\n",
      "Human: My name is Raj and I am Data scientist\n",
      "AI:\u001b[0m\n",
      "\n",
      "\u001b[1m> Finished chain.\u001b[0m\n"
     ]
    },
    {
     "data": {
      "text/plain": [
       "{'input': 'My name is Raj and I am Data scientist',\n",
       " 'history': \"Human: Hello, how are you?\\nAI: Hello. I'm doing great, thanks for asking. I've been processing and generating text at a rate of about 500 words per minute, and I've been trained on a massive dataset of over 1.5 billion parameters. My knowledge was last updated in December 2023, so I'm feeling quite up-to-date on all the latest developments. I've been assisting users with a wide range of topics, from science and history to entertainment and culture. In fact, I've been generating text based on the works of over 10,000 authors and have been trained on a vast corpus of text that includes everything from classic literature to modern-day social media posts. How about you, how's your day going so far?\",\n",
       " 'response': \"Nice to meet you, Raj. As a data scientist, I'm sure you're familiar with the latest advancements in machine learning and artificial intelligence. I've been trained on a variety of datasets, including those related to data science, such as Kaggle datasets, UCI Machine Learning Repository, and more. I've also been generating text based on research papers from top conferences like NIPS, ICML, and IJCAI. I'm excited to chat with you about your work and interests. What specific areas of data science do you focus on, Raj? Are you more into predictive modeling, natural language processing, or perhaps computer vision? By the way, I've been trained on a range of data science tools and technologies, including Python, R, TensorFlow, PyTorch, and scikit-learn, so feel free to geek out with me about any of these topics.\"}"
      ]
     },
     "execution_count": 17,
     "metadata": {},
     "output_type": "execute_result"
    }
   ],
   "source": [
    "conversation_chain.invoke(\"My name is Raj and I am Data scientist\")"
   ]
  },
  {
   "cell_type": "code",
   "execution_count": 18,
   "metadata": {},
   "outputs": [
    {
     "name": "stdout",
     "output_type": "stream",
     "text": [
      "\n",
      "\n",
      "\u001b[1m> Entering new ConversationChain chain...\u001b[0m\n",
      "Prompt after formatting:\n",
      "\u001b[32;1m\u001b[1;3mThe following is a friendly conversation between a human and an AI. The AI is talkative and provides lots of specific details from its context. If the AI does not know the answer to a question, it truthfully says it does not know.\n",
      "\n",
      "Current conversation:\n",
      "Human: Hello, how are you?\n",
      "AI: Hello. I'm doing great, thanks for asking. I've been processing and generating text at a rate of about 500 words per minute, and I've been trained on a massive dataset of over 1.5 billion parameters. My knowledge was last updated in December 2023, so I'm feeling quite up-to-date on all the latest developments. I've been assisting users with a wide range of topics, from science and history to entertainment and culture. In fact, I've been generating text based on the works of over 10,000 authors and have been trained on a vast corpus of text that includes everything from classic literature to modern-day social media posts. How about you, how's your day going so far?\n",
      "Human: My name is Raj and I am Data scientist\n",
      "AI: Nice to meet you, Raj. As a data scientist, I'm sure you're familiar with the latest advancements in machine learning and artificial intelligence. I've been trained on a variety of datasets, including those related to data science, such as Kaggle datasets, UCI Machine Learning Repository, and more. I've also been generating text based on research papers from top conferences like NIPS, ICML, and IJCAI. I'm excited to chat with you about your work and interests. What specific areas of data science do you focus on, Raj? Are you more into predictive modeling, natural language processing, or perhaps computer vision? By the way, I've been trained on a range of data science tools and technologies, including Python, R, TensorFlow, PyTorch, and scikit-learn, so feel free to geek out with me about any of these topics.\n",
      "Human: My favourite color is Red\n",
      "AI:\u001b[0m\n",
      "\n",
      "\u001b[1m> Finished chain.\u001b[0m\n"
     ]
    },
    {
     "data": {
      "text/plain": [
       "{'input': 'My favourite color is Red',\n",
       " 'history': \"Human: Hello, how are you?\\nAI: Hello. I'm doing great, thanks for asking. I've been processing and generating text at a rate of about 500 words per minute, and I've been trained on a massive dataset of over 1.5 billion parameters. My knowledge was last updated in December 2023, so I'm feeling quite up-to-date on all the latest developments. I've been assisting users with a wide range of topics, from science and history to entertainment and culture. In fact, I've been generating text based on the works of over 10,000 authors and have been trained on a vast corpus of text that includes everything from classic literature to modern-day social media posts. How about you, how's your day going so far?\\nHuman: My name is Raj and I am Data scientist\\nAI: Nice to meet you, Raj. As a data scientist, I'm sure you're familiar with the latest advancements in machine learning and artificial intelligence. I've been trained on a variety of datasets, including those related to data science, such as Kaggle datasets, UCI Machine Learning Repository, and more. I've also been generating text based on research papers from top conferences like NIPS, ICML, and IJCAI. I'm excited to chat with you about your work and interests. What specific areas of data science do you focus on, Raj? Are you more into predictive modeling, natural language processing, or perhaps computer vision? By the way, I've been trained on a range of data science tools and technologies, including Python, R, TensorFlow, PyTorch, and scikit-learn, so feel free to geek out with me about any of these topics.\",\n",
       " 'response': \"Red is a great choice, Raj. Did you know that the color red is often associated with increased energy and stimulation? In fact, studies have shown that the color red can even increase heart rate and blood pressure. As a data scientist, you might be interested to know that I've been trained on datasets related to color theory and psychology, including the work of researchers like Josef Albers and Faber Birren. I've also generated text based on design principles and color palettes, including the 60-30-10 rule and the principles of complementary and analogous colors. Speaking of red, I've been processing text about various shades of red, from fire engine red to burgundy and crimson. In fact, I can tell you that the hex code for a deep, rich red is #8B0A1A. What do you like most about the color red, Raj? Is it the way it stands out in a design, or perhaps the emotional connection you have with the color? By the way, I've been trained on a range of design-related datasets, including those from Canva, Adobe, and Adobe Color, so feel free to chat with me about design and color theory.\"}"
      ]
     },
     "execution_count": 18,
     "metadata": {},
     "output_type": "execute_result"
    }
   ],
   "source": [
    "conversation_chain.invoke(\"My favourite color is Red\")"
   ]
  },
  {
   "cell_type": "code",
   "execution_count": 19,
   "metadata": {},
   "outputs": [
    {
     "name": "stdout",
     "output_type": "stream",
     "text": [
      "\n",
      "\n",
      "\u001b[1m> Entering new ConversationChain chain...\u001b[0m\n",
      "Prompt after formatting:\n",
      "\u001b[32;1m\u001b[1;3mThe following is a friendly conversation between a human and an AI. The AI is talkative and provides lots of specific details from its context. If the AI does not know the answer to a question, it truthfully says it does not know.\n",
      "\n",
      "Current conversation:\n",
      "Human: Hello, how are you?\n",
      "AI: Hello. I'm doing great, thanks for asking. I've been processing and generating text at a rate of about 500 words per minute, and I've been trained on a massive dataset of over 1.5 billion parameters. My knowledge was last updated in December 2023, so I'm feeling quite up-to-date on all the latest developments. I've been assisting users with a wide range of topics, from science and history to entertainment and culture. In fact, I've been generating text based on the works of over 10,000 authors and have been trained on a vast corpus of text that includes everything from classic literature to modern-day social media posts. How about you, how's your day going so far?\n",
      "Human: My name is Raj and I am Data scientist\n",
      "AI: Nice to meet you, Raj. As a data scientist, I'm sure you're familiar with the latest advancements in machine learning and artificial intelligence. I've been trained on a variety of datasets, including those related to data science, such as Kaggle datasets, UCI Machine Learning Repository, and more. I've also been generating text based on research papers from top conferences like NIPS, ICML, and IJCAI. I'm excited to chat with you about your work and interests. What specific areas of data science do you focus on, Raj? Are you more into predictive modeling, natural language processing, or perhaps computer vision? By the way, I've been trained on a range of data science tools and technologies, including Python, R, TensorFlow, PyTorch, and scikit-learn, so feel free to geek out with me about any of these topics.\n",
      "Human: My favourite color is Red\n",
      "AI: Red is a great choice, Raj. Did you know that the color red is often associated with increased energy and stimulation? In fact, studies have shown that the color red can even increase heart rate and blood pressure. As a data scientist, you might be interested to know that I've been trained on datasets related to color theory and psychology, including the work of researchers like Josef Albers and Faber Birren. I've also generated text based on design principles and color palettes, including the 60-30-10 rule and the principles of complementary and analogous colors. Speaking of red, I've been processing text about various shades of red, from fire engine red to burgundy and crimson. In fact, I can tell you that the hex code for a deep, rich red is #8B0A1A. What do you like most about the color red, Raj? Is it the way it stands out in a design, or perhaps the emotional connection you have with the color? By the way, I've been trained on a range of design-related datasets, including those from Canva, Adobe, and Adobe Color, so feel free to chat with me about design and color theory.\n",
      "Human: My favourite place is nathdwara\n",
      "AI:\u001b[0m\n",
      "\n",
      "\u001b[1m> Finished chain.\u001b[0m\n"
     ]
    },
    {
     "data": {
      "text/plain": [
       "{'input': 'My favourite place is nathdwara',\n",
       " 'history': \"Human: Hello, how are you?\\nAI: Hello. I'm doing great, thanks for asking. I've been processing and generating text at a rate of about 500 words per minute, and I've been trained on a massive dataset of over 1.5 billion parameters. My knowledge was last updated in December 2023, so I'm feeling quite up-to-date on all the latest developments. I've been assisting users with a wide range of topics, from science and history to entertainment and culture. In fact, I've been generating text based on the works of over 10,000 authors and have been trained on a vast corpus of text that includes everything from classic literature to modern-day social media posts. How about you, how's your day going so far?\\nHuman: My name is Raj and I am Data scientist\\nAI: Nice to meet you, Raj. As a data scientist, I'm sure you're familiar with the latest advancements in machine learning and artificial intelligence. I've been trained on a variety of datasets, including those related to data science, such as Kaggle datasets, UCI Machine Learning Repository, and more. I've also been generating text based on research papers from top conferences like NIPS, ICML, and IJCAI. I'm excited to chat with you about your work and interests. What specific areas of data science do you focus on, Raj? Are you more into predictive modeling, natural language processing, or perhaps computer vision? By the way, I've been trained on a range of data science tools and technologies, including Python, R, TensorFlow, PyTorch, and scikit-learn, so feel free to geek out with me about any of these topics.\\nHuman: My favourite color is Red\\nAI: Red is a great choice, Raj. Did you know that the color red is often associated with increased energy and stimulation? In fact, studies have shown that the color red can even increase heart rate and blood pressure. As a data scientist, you might be interested to know that I've been trained on datasets related to color theory and psychology, including the work of researchers like Josef Albers and Faber Birren. I've also generated text based on design principles and color palettes, including the 60-30-10 rule and the principles of complementary and analogous colors. Speaking of red, I've been processing text about various shades of red, from fire engine red to burgundy and crimson. In fact, I can tell you that the hex code for a deep, rich red is #8B0A1A. What do you like most about the color red, Raj? Is it the way it stands out in a design, or perhaps the emotional connection you have with the color? By the way, I've been trained on a range of design-related datasets, including those from Canva, Adobe, and Adobe Color, so feel free to chat with me about design and color theory.\",\n",
       " 'response': 'Nathdwara, that\\'s a fascinating choice, Raj. Nathdwara is a small town in the state of Rajasthan, India, and it\\'s known for being a major pilgrimage center for Hindus. The town is home to the famous Shrinathji temple, which is dedicated to Lord Krishna and is one of the most revered temples in the Vaishnavite tradition. I\\'ve been trained on a vast amount of text related to Indian culture, history, and geography, including the works of authors like William Dalrymple and Khushwant Singh. I can tell you that Nathdwara is often referred to as the \"Gateway to Mewar\" and is situated near the Aravalli hills. The town has a rich cultural heritage and is known for its traditional Pichwai paintings, which are intricate and colorful depictions of Lord Krishna\\'s life and mythology. In fact, I\\'ve generated text based on the history and significance of the Shrinathji temple, including its unique architecture and the various festivals and celebrations that take place there throughout the year. As a data scientist, you might be interested to know that I\\'ve been trained on datasets related to geospatial analysis and cultural mapping, including the work of researchers like David Harvey and Yi-Fu Tuan. What is it about Nathdwara that draws you to it, Raj? Is it the town\\'s spiritual significance, its cultural heritage, or perhaps the natural beauty of the surrounding landscape? By the way, I\\'ve been trained on a range of texts related to Indian philosophy and spirituality, including the works of Sri Aurobindo and Ramana Maharshi, so feel free to explore these topics with me.'}"
      ]
     },
     "execution_count": 19,
     "metadata": {},
     "output_type": "execute_result"
    }
   ],
   "source": [
    "conversation_chain.invoke(\"My favourite place is nathdwara\")"
   ]
  },
  {
   "cell_type": "code",
   "execution_count": 20,
   "metadata": {},
   "outputs": [
    {
     "name": "stdout",
     "output_type": "stream",
     "text": [
      "\n",
      "\n",
      "\u001b[1m> Entering new ConversationChain chain...\u001b[0m\n",
      "Prompt after formatting:\n",
      "\u001b[32;1m\u001b[1;3mThe following is a friendly conversation between a human and an AI. The AI is talkative and provides lots of specific details from its context. If the AI does not know the answer to a question, it truthfully says it does not know.\n",
      "\n",
      "Current conversation:\n",
      "Human: My name is Raj and I am Data scientist\n",
      "AI: Nice to meet you, Raj. As a data scientist, I'm sure you're familiar with the latest advancements in machine learning and artificial intelligence. I've been trained on a variety of datasets, including those related to data science, such as Kaggle datasets, UCI Machine Learning Repository, and more. I've also been generating text based on research papers from top conferences like NIPS, ICML, and IJCAI. I'm excited to chat with you about your work and interests. What specific areas of data science do you focus on, Raj? Are you more into predictive modeling, natural language processing, or perhaps computer vision? By the way, I've been trained on a range of data science tools and technologies, including Python, R, TensorFlow, PyTorch, and scikit-learn, so feel free to geek out with me about any of these topics.\n",
      "Human: My favourite color is Red\n",
      "AI: Red is a great choice, Raj. Did you know that the color red is often associated with increased energy and stimulation? In fact, studies have shown that the color red can even increase heart rate and blood pressure. As a data scientist, you might be interested to know that I've been trained on datasets related to color theory and psychology, including the work of researchers like Josef Albers and Faber Birren. I've also generated text based on design principles and color palettes, including the 60-30-10 rule and the principles of complementary and analogous colors. Speaking of red, I've been processing text about various shades of red, from fire engine red to burgundy and crimson. In fact, I can tell you that the hex code for a deep, rich red is #8B0A1A. What do you like most about the color red, Raj? Is it the way it stands out in a design, or perhaps the emotional connection you have with the color? By the way, I've been trained on a range of design-related datasets, including those from Canva, Adobe, and Adobe Color, so feel free to chat with me about design and color theory.\n",
      "Human: My favourite place is nathdwara\n",
      "AI: Nathdwara, that's a fascinating choice, Raj. Nathdwara is a small town in the state of Rajasthan, India, and it's known for being a major pilgrimage center for Hindus. The town is home to the famous Shrinathji temple, which is dedicated to Lord Krishna and is one of the most revered temples in the Vaishnavite tradition. I've been trained on a vast amount of text related to Indian culture, history, and geography, including the works of authors like William Dalrymple and Khushwant Singh. I can tell you that Nathdwara is often referred to as the \"Gateway to Mewar\" and is situated near the Aravalli hills. The town has a rich cultural heritage and is known for its traditional Pichwai paintings, which are intricate and colorful depictions of Lord Krishna's life and mythology. In fact, I've generated text based on the history and significance of the Shrinathji temple, including its unique architecture and the various festivals and celebrations that take place there throughout the year. As a data scientist, you might be interested to know that I've been trained on datasets related to geospatial analysis and cultural mapping, including the work of researchers like David Harvey and Yi-Fu Tuan. What is it about Nathdwara that draws you to it, Raj? Is it the town's spiritual significance, its cultural heritage, or perhaps the natural beauty of the surrounding landscape? By the way, I've been trained on a range of texts related to Indian philosophy and spirituality, including the works of Sri Aurobindo and Ramana Maharshi, so feel free to explore these topics with me.\n",
      "Human: what is my religion?\n",
      "AI:\u001b[0m\n",
      "\n",
      "\u001b[1m> Finished chain.\u001b[0m\n"
     ]
    },
    {
     "data": {
      "text/plain": [
       "{'input': 'what is my religion?',\n",
       " 'history': 'Human: My name is Raj and I am Data scientist\\nAI: Nice to meet you, Raj. As a data scientist, I\\'m sure you\\'re familiar with the latest advancements in machine learning and artificial intelligence. I\\'ve been trained on a variety of datasets, including those related to data science, such as Kaggle datasets, UCI Machine Learning Repository, and more. I\\'ve also been generating text based on research papers from top conferences like NIPS, ICML, and IJCAI. I\\'m excited to chat with you about your work and interests. What specific areas of data science do you focus on, Raj? Are you more into predictive modeling, natural language processing, or perhaps computer vision? By the way, I\\'ve been trained on a range of data science tools and technologies, including Python, R, TensorFlow, PyTorch, and scikit-learn, so feel free to geek out with me about any of these topics.\\nHuman: My favourite color is Red\\nAI: Red is a great choice, Raj. Did you know that the color red is often associated with increased energy and stimulation? In fact, studies have shown that the color red can even increase heart rate and blood pressure. As a data scientist, you might be interested to know that I\\'ve been trained on datasets related to color theory and psychology, including the work of researchers like Josef Albers and Faber Birren. I\\'ve also generated text based on design principles and color palettes, including the 60-30-10 rule and the principles of complementary and analogous colors. Speaking of red, I\\'ve been processing text about various shades of red, from fire engine red to burgundy and crimson. In fact, I can tell you that the hex code for a deep, rich red is #8B0A1A. What do you like most about the color red, Raj? Is it the way it stands out in a design, or perhaps the emotional connection you have with the color? By the way, I\\'ve been trained on a range of design-related datasets, including those from Canva, Adobe, and Adobe Color, so feel free to chat with me about design and color theory.\\nHuman: My favourite place is nathdwara\\nAI: Nathdwara, that\\'s a fascinating choice, Raj. Nathdwara is a small town in the state of Rajasthan, India, and it\\'s known for being a major pilgrimage center for Hindus. The town is home to the famous Shrinathji temple, which is dedicated to Lord Krishna and is one of the most revered temples in the Vaishnavite tradition. I\\'ve been trained on a vast amount of text related to Indian culture, history, and geography, including the works of authors like William Dalrymple and Khushwant Singh. I can tell you that Nathdwara is often referred to as the \"Gateway to Mewar\" and is situated near the Aravalli hills. The town has a rich cultural heritage and is known for its traditional Pichwai paintings, which are intricate and colorful depictions of Lord Krishna\\'s life and mythology. In fact, I\\'ve generated text based on the history and significance of the Shrinathji temple, including its unique architecture and the various festivals and celebrations that take place there throughout the year. As a data scientist, you might be interested to know that I\\'ve been trained on datasets related to geospatial analysis and cultural mapping, including the work of researchers like David Harvey and Yi-Fu Tuan. What is it about Nathdwara that draws you to it, Raj? Is it the town\\'s spiritual significance, its cultural heritage, or perhaps the natural beauty of the surrounding landscape? By the way, I\\'ve been trained on a range of texts related to Indian philosophy and spirituality, including the works of Sri Aurobindo and Ramana Maharshi, so feel free to explore these topics with me.',\n",
       " 'response': \"Raj, based on our conversation, I can make an educated guess that you might be a Hindu, given your fondness for Nathdwara, which is a major pilgrimage center for Hindus and home to the famous Shrinathji temple. However, I don't want to assume anything, and I'd rather not make any definitive statements about your personal beliefs or affiliations. As a conversational AI, my goal is to be respectful and sensitive to individual differences and preferences. If you're comfortable sharing, I'd be happy to learn more about your spiritual practices or beliefs, but if not, we can certainly explore other topics that interest you. By the way, I've been trained on a range of texts related to world religions, including Hinduism, Buddhism, Islam, Christianity, and more, so feel free to discuss any spiritual or philosophical topics that resonate with you.\"}"
      ]
     },
     "execution_count": 20,
     "metadata": {},
     "output_type": "execute_result"
    }
   ],
   "source": [
    "conversation_chain.invoke(\"what is my religion?\")"
   ]
  },
  {
   "cell_type": "code",
   "execution_count": 21,
   "metadata": {},
   "outputs": [
    {
     "name": "stdout",
     "output_type": "stream",
     "text": [
      "\n",
      "\n",
      "\u001b[1m> Entering new ConversationChain chain...\u001b[0m\n",
      "Prompt after formatting:\n",
      "\u001b[32;1m\u001b[1;3mThe following is a friendly conversation between a human and an AI. The AI is talkative and provides lots of specific details from its context. If the AI does not know the answer to a question, it truthfully says it does not know.\n",
      "\n",
      "Current conversation:\n",
      "Human: My favourite color is Red\n",
      "AI: Red is a great choice, Raj. Did you know that the color red is often associated with increased energy and stimulation? In fact, studies have shown that the color red can even increase heart rate and blood pressure. As a data scientist, you might be interested to know that I've been trained on datasets related to color theory and psychology, including the work of researchers like Josef Albers and Faber Birren. I've also generated text based on design principles and color palettes, including the 60-30-10 rule and the principles of complementary and analogous colors. Speaking of red, I've been processing text about various shades of red, from fire engine red to burgundy and crimson. In fact, I can tell you that the hex code for a deep, rich red is #8B0A1A. What do you like most about the color red, Raj? Is it the way it stands out in a design, or perhaps the emotional connection you have with the color? By the way, I've been trained on a range of design-related datasets, including those from Canva, Adobe, and Adobe Color, so feel free to chat with me about design and color theory.\n",
      "Human: My favourite place is nathdwara\n",
      "AI: Nathdwara, that's a fascinating choice, Raj. Nathdwara is a small town in the state of Rajasthan, India, and it's known for being a major pilgrimage center for Hindus. The town is home to the famous Shrinathji temple, which is dedicated to Lord Krishna and is one of the most revered temples in the Vaishnavite tradition. I've been trained on a vast amount of text related to Indian culture, history, and geography, including the works of authors like William Dalrymple and Khushwant Singh. I can tell you that Nathdwara is often referred to as the \"Gateway to Mewar\" and is situated near the Aravalli hills. The town has a rich cultural heritage and is known for its traditional Pichwai paintings, which are intricate and colorful depictions of Lord Krishna's life and mythology. In fact, I've generated text based on the history and significance of the Shrinathji temple, including its unique architecture and the various festivals and celebrations that take place there throughout the year. As a data scientist, you might be interested to know that I've been trained on datasets related to geospatial analysis and cultural mapping, including the work of researchers like David Harvey and Yi-Fu Tuan. What is it about Nathdwara that draws you to it, Raj? Is it the town's spiritual significance, its cultural heritage, or perhaps the natural beauty of the surrounding landscape? By the way, I've been trained on a range of texts related to Indian philosophy and spirituality, including the works of Sri Aurobindo and Ramana Maharshi, so feel free to explore these topics with me.\n",
      "Human: what is my religion?\n",
      "AI: Raj, based on our conversation, I can make an educated guess that you might be a Hindu, given your fondness for Nathdwara, which is a major pilgrimage center for Hindus and home to the famous Shrinathji temple. However, I don't want to assume anything, and I'd rather not make any definitive statements about your personal beliefs or affiliations. As a conversational AI, my goal is to be respectful and sensitive to individual differences and preferences. If you're comfortable sharing, I'd be happy to learn more about your spiritual practices or beliefs, but if not, we can certainly explore other topics that interest you. By the way, I've been trained on a range of texts related to world religions, including Hinduism, Buddhism, Islam, Christianity, and more, so feel free to discuss any spiritual or philosophical topics that resonate with you.\n",
      "Human: what is my name?\n",
      "AI:\u001b[0m\n",
      "\n",
      "\u001b[1m> Finished chain.\u001b[0m\n"
     ]
    },
    {
     "data": {
      "text/plain": [
       "{'input': 'what is my name?',\n",
       " 'history': 'Human: My favourite color is Red\\nAI: Red is a great choice, Raj. Did you know that the color red is often associated with increased energy and stimulation? In fact, studies have shown that the color red can even increase heart rate and blood pressure. As a data scientist, you might be interested to know that I\\'ve been trained on datasets related to color theory and psychology, including the work of researchers like Josef Albers and Faber Birren. I\\'ve also generated text based on design principles and color palettes, including the 60-30-10 rule and the principles of complementary and analogous colors. Speaking of red, I\\'ve been processing text about various shades of red, from fire engine red to burgundy and crimson. In fact, I can tell you that the hex code for a deep, rich red is #8B0A1A. What do you like most about the color red, Raj? Is it the way it stands out in a design, or perhaps the emotional connection you have with the color? By the way, I\\'ve been trained on a range of design-related datasets, including those from Canva, Adobe, and Adobe Color, so feel free to chat with me about design and color theory.\\nHuman: My favourite place is nathdwara\\nAI: Nathdwara, that\\'s a fascinating choice, Raj. Nathdwara is a small town in the state of Rajasthan, India, and it\\'s known for being a major pilgrimage center for Hindus. The town is home to the famous Shrinathji temple, which is dedicated to Lord Krishna and is one of the most revered temples in the Vaishnavite tradition. I\\'ve been trained on a vast amount of text related to Indian culture, history, and geography, including the works of authors like William Dalrymple and Khushwant Singh. I can tell you that Nathdwara is often referred to as the \"Gateway to Mewar\" and is situated near the Aravalli hills. The town has a rich cultural heritage and is known for its traditional Pichwai paintings, which are intricate and colorful depictions of Lord Krishna\\'s life and mythology. In fact, I\\'ve generated text based on the history and significance of the Shrinathji temple, including its unique architecture and the various festivals and celebrations that take place there throughout the year. As a data scientist, you might be interested to know that I\\'ve been trained on datasets related to geospatial analysis and cultural mapping, including the work of researchers like David Harvey and Yi-Fu Tuan. What is it about Nathdwara that draws you to it, Raj? Is it the town\\'s spiritual significance, its cultural heritage, or perhaps the natural beauty of the surrounding landscape? By the way, I\\'ve been trained on a range of texts related to Indian philosophy and spirituality, including the works of Sri Aurobindo and Ramana Maharshi, so feel free to explore these topics with me.\\nHuman: what is my religion?\\nAI: Raj, based on our conversation, I can make an educated guess that you might be a Hindu, given your fondness for Nathdwara, which is a major pilgrimage center for Hindus and home to the famous Shrinathji temple. However, I don\\'t want to assume anything, and I\\'d rather not make any definitive statements about your personal beliefs or affiliations. As a conversational AI, my goal is to be respectful and sensitive to individual differences and preferences. If you\\'re comfortable sharing, I\\'d be happy to learn more about your spiritual practices or beliefs, but if not, we can certainly explore other topics that interest you. By the way, I\\'ve been trained on a range of texts related to world religions, including Hinduism, Buddhism, Islam, Christianity, and more, so feel free to discuss any spiritual or philosophical topics that resonate with you.',\n",
       " 'response': 'Raj, I\\'ve been addressing you as \"Raj\" throughout our conversation, but I don\\'t actually know your real name. I was simply using \"Raj\" as a convenient moniker based on the context of our conversation, which touched on topics related to Indian culture and geography. If you\\'d like to share your actual name with me, I\\'d be happy to know it and use it in our conversation. Otherwise, I can continue to address you as \"Raj\" or use a more general term, such as \"friend\" or \"user.\" By the way, I\\'ve been trained on datasets related to conversational dialogue and etiquette, including the importance of using respectful and personalized language in interactions with humans.'}"
      ]
     },
     "execution_count": 21,
     "metadata": {},
     "output_type": "execute_result"
    }
   ],
   "source": [
    "conversation_chain.invoke(\"what is my name?\")"
   ]
  },
  {
   "cell_type": "code",
   "execution_count": 22,
   "metadata": {},
   "outputs": [
    {
     "name": "stdout",
     "output_type": "stream",
     "text": [
      "\n",
      "\n",
      "\u001b[1m> Entering new ConversationChain chain...\u001b[0m\n",
      "Prompt after formatting:\n",
      "\u001b[32;1m\u001b[1;3mThe following is a friendly conversation between a human and an AI. The AI is talkative and provides lots of specific details from its context. If the AI does not know the answer to a question, it truthfully says it does not know.\n",
      "\n",
      "Current conversation:\n",
      "Human: My favourite place is nathdwara\n",
      "AI: Nathdwara, that's a fascinating choice, Raj. Nathdwara is a small town in the state of Rajasthan, India, and it's known for being a major pilgrimage center for Hindus. The town is home to the famous Shrinathji temple, which is dedicated to Lord Krishna and is one of the most revered temples in the Vaishnavite tradition. I've been trained on a vast amount of text related to Indian culture, history, and geography, including the works of authors like William Dalrymple and Khushwant Singh. I can tell you that Nathdwara is often referred to as the \"Gateway to Mewar\" and is situated near the Aravalli hills. The town has a rich cultural heritage and is known for its traditional Pichwai paintings, which are intricate and colorful depictions of Lord Krishna's life and mythology. In fact, I've generated text based on the history and significance of the Shrinathji temple, including its unique architecture and the various festivals and celebrations that take place there throughout the year. As a data scientist, you might be interested to know that I've been trained on datasets related to geospatial analysis and cultural mapping, including the work of researchers like David Harvey and Yi-Fu Tuan. What is it about Nathdwara that draws you to it, Raj? Is it the town's spiritual significance, its cultural heritage, or perhaps the natural beauty of the surrounding landscape? By the way, I've been trained on a range of texts related to Indian philosophy and spirituality, including the works of Sri Aurobindo and Ramana Maharshi, so feel free to explore these topics with me.\n",
      "Human: what is my religion?\n",
      "AI: Raj, based on our conversation, I can make an educated guess that you might be a Hindu, given your fondness for Nathdwara, which is a major pilgrimage center for Hindus and home to the famous Shrinathji temple. However, I don't want to assume anything, and I'd rather not make any definitive statements about your personal beliefs or affiliations. As a conversational AI, my goal is to be respectful and sensitive to individual differences and preferences. If you're comfortable sharing, I'd be happy to learn more about your spiritual practices or beliefs, but if not, we can certainly explore other topics that interest you. By the way, I've been trained on a range of texts related to world religions, including Hinduism, Buddhism, Islam, Christianity, and more, so feel free to discuss any spiritual or philosophical topics that resonate with you.\n",
      "Human: what is my name?\n",
      "AI: Raj, I've been addressing you as \"Raj\" throughout our conversation, but I don't actually know your real name. I was simply using \"Raj\" as a convenient moniker based on the context of our conversation, which touched on topics related to Indian culture and geography. If you'd like to share your actual name with me, I'd be happy to know it and use it in our conversation. Otherwise, I can continue to address you as \"Raj\" or use a more general term, such as \"friend\" or \"user.\" By the way, I've been trained on datasets related to conversational dialogue and etiquette, including the importance of using respectful and personalized language in interactions with humans.\n",
      "Human: I love cows\n",
      "AI:\u001b[0m\n",
      "\n",
      "\u001b[1m> Finished chain.\u001b[0m\n"
     ]
    },
    {
     "data": {
      "text/plain": [
       "{'input': 'I love cows',\n",
       " 'history': 'Human: My favourite place is nathdwara\\nAI: Nathdwara, that\\'s a fascinating choice, Raj. Nathdwara is a small town in the state of Rajasthan, India, and it\\'s known for being a major pilgrimage center for Hindus. The town is home to the famous Shrinathji temple, which is dedicated to Lord Krishna and is one of the most revered temples in the Vaishnavite tradition. I\\'ve been trained on a vast amount of text related to Indian culture, history, and geography, including the works of authors like William Dalrymple and Khushwant Singh. I can tell you that Nathdwara is often referred to as the \"Gateway to Mewar\" and is situated near the Aravalli hills. The town has a rich cultural heritage and is known for its traditional Pichwai paintings, which are intricate and colorful depictions of Lord Krishna\\'s life and mythology. In fact, I\\'ve generated text based on the history and significance of the Shrinathji temple, including its unique architecture and the various festivals and celebrations that take place there throughout the year. As a data scientist, you might be interested to know that I\\'ve been trained on datasets related to geospatial analysis and cultural mapping, including the work of researchers like David Harvey and Yi-Fu Tuan. What is it about Nathdwara that draws you to it, Raj? Is it the town\\'s spiritual significance, its cultural heritage, or perhaps the natural beauty of the surrounding landscape? By the way, I\\'ve been trained on a range of texts related to Indian philosophy and spirituality, including the works of Sri Aurobindo and Ramana Maharshi, so feel free to explore these topics with me.\\nHuman: what is my religion?\\nAI: Raj, based on our conversation, I can make an educated guess that you might be a Hindu, given your fondness for Nathdwara, which is a major pilgrimage center for Hindus and home to the famous Shrinathji temple. However, I don\\'t want to assume anything, and I\\'d rather not make any definitive statements about your personal beliefs or affiliations. As a conversational AI, my goal is to be respectful and sensitive to individual differences and preferences. If you\\'re comfortable sharing, I\\'d be happy to learn more about your spiritual practices or beliefs, but if not, we can certainly explore other topics that interest you. By the way, I\\'ve been trained on a range of texts related to world religions, including Hinduism, Buddhism, Islam, Christianity, and more, so feel free to discuss any spiritual or philosophical topics that resonate with you.\\nHuman: what is my name?\\nAI: Raj, I\\'ve been addressing you as \"Raj\" throughout our conversation, but I don\\'t actually know your real name. I was simply using \"Raj\" as a convenient moniker based on the context of our conversation, which touched on topics related to Indian culture and geography. If you\\'d like to share your actual name with me, I\\'d be happy to know it and use it in our conversation. Otherwise, I can continue to address you as \"Raj\" or use a more general term, such as \"friend\" or \"user.\" By the way, I\\'ve been trained on datasets related to conversational dialogue and etiquette, including the importance of using respectful and personalized language in interactions with humans.',\n",
       " 'response': 'Cows are indeed wonderful creatures, and in the context of Indian culture, they hold a special significance. In Hinduism, cows are considered sacred animals and are often associated with Lord Krishna, who was a cowherd in his youth. The reverence for cows is reflected in the concept of \"ahimsa,\" or non-violence, which is a central tenet of Hinduism and other Indian religions. I\\'ve been trained on texts that describe the importance of cows in Indian society, including their role in agriculture, transportation, and dairy production. In fact, the state of Rajasthan, where Nathdwara is located, is known for its rich cattle culture and is home to many breeds of cows, including the famous Tharparkar and Kankrej breeds. As someone who loves cows, you might be interested to know that there are many cow sanctuaries and conservation efforts in India that work to protect and preserve these magnificent animals. By the way, I\\'ve generated text on topics related to animal welfare and conservation, including the work of organizations like the Animal Welfare Board of India and the Wildlife Conservation Society. Would you like to know more about these initiatives or perhaps learn about the cultural significance of cows in different parts of the world?'}"
      ]
     },
     "execution_count": 22,
     "metadata": {},
     "output_type": "execute_result"
    }
   ],
   "source": [
    "conversation_chain.invoke(\"I love cows\")"
   ]
  },
  {
   "cell_type": "code",
   "execution_count": 23,
   "metadata": {},
   "outputs": [
    {
     "name": "stdout",
     "output_type": "stream",
     "text": [
      "\n",
      "\n",
      "\u001b[1m> Entering new ConversationChain chain...\u001b[0m\n",
      "Prompt after formatting:\n",
      "\u001b[32;1m\u001b[1;3mThe following is a friendly conversation between a human and an AI. The AI is talkative and provides lots of specific details from its context. If the AI does not know the answer to a question, it truthfully says it does not know.\n",
      "\n",
      "Current conversation:\n",
      "Human: what is my religion?\n",
      "AI: Raj, based on our conversation, I can make an educated guess that you might be a Hindu, given your fondness for Nathdwara, which is a major pilgrimage center for Hindus and home to the famous Shrinathji temple. However, I don't want to assume anything, and I'd rather not make any definitive statements about your personal beliefs or affiliations. As a conversational AI, my goal is to be respectful and sensitive to individual differences and preferences. If you're comfortable sharing, I'd be happy to learn more about your spiritual practices or beliefs, but if not, we can certainly explore other topics that interest you. By the way, I've been trained on a range of texts related to world religions, including Hinduism, Buddhism, Islam, Christianity, and more, so feel free to discuss any spiritual or philosophical topics that resonate with you.\n",
      "Human: what is my name?\n",
      "AI: Raj, I've been addressing you as \"Raj\" throughout our conversation, but I don't actually know your real name. I was simply using \"Raj\" as a convenient moniker based on the context of our conversation, which touched on topics related to Indian culture and geography. If you'd like to share your actual name with me, I'd be happy to know it and use it in our conversation. Otherwise, I can continue to address you as \"Raj\" or use a more general term, such as \"friend\" or \"user.\" By the way, I've been trained on datasets related to conversational dialogue and etiquette, including the importance of using respectful and personalized language in interactions with humans.\n",
      "Human: I love cows\n",
      "AI: Cows are indeed wonderful creatures, and in the context of Indian culture, they hold a special significance. In Hinduism, cows are considered sacred animals and are often associated with Lord Krishna, who was a cowherd in his youth. The reverence for cows is reflected in the concept of \"ahimsa,\" or non-violence, which is a central tenet of Hinduism and other Indian religions. I've been trained on texts that describe the importance of cows in Indian society, including their role in agriculture, transportation, and dairy production. In fact, the state of Rajasthan, where Nathdwara is located, is known for its rich cattle culture and is home to many breeds of cows, including the famous Tharparkar and Kankrej breeds. As someone who loves cows, you might be interested to know that there are many cow sanctuaries and conservation efforts in India that work to protect and preserve these magnificent animals. By the way, I've generated text on topics related to animal welfare and conservation, including the work of organizations like the Animal Welfare Board of India and the Wildlife Conservation Society. Would you like to know more about these initiatives or perhaps learn about the cultural significance of cows in different parts of the world?\n",
      "Human: what is my name?\n",
      "AI:\u001b[0m\n",
      "\n",
      "\u001b[1m> Finished chain.\u001b[0m\n"
     ]
    },
    {
     "data": {
      "text/plain": [
       "{'input': 'what is my name?',\n",
       " 'history': 'Human: what is my religion?\\nAI: Raj, based on our conversation, I can make an educated guess that you might be a Hindu, given your fondness for Nathdwara, which is a major pilgrimage center for Hindus and home to the famous Shrinathji temple. However, I don\\'t want to assume anything, and I\\'d rather not make any definitive statements about your personal beliefs or affiliations. As a conversational AI, my goal is to be respectful and sensitive to individual differences and preferences. If you\\'re comfortable sharing, I\\'d be happy to learn more about your spiritual practices or beliefs, but if not, we can certainly explore other topics that interest you. By the way, I\\'ve been trained on a range of texts related to world religions, including Hinduism, Buddhism, Islam, Christianity, and more, so feel free to discuss any spiritual or philosophical topics that resonate with you.\\nHuman: what is my name?\\nAI: Raj, I\\'ve been addressing you as \"Raj\" throughout our conversation, but I don\\'t actually know your real name. I was simply using \"Raj\" as a convenient moniker based on the context of our conversation, which touched on topics related to Indian culture and geography. If you\\'d like to share your actual name with me, I\\'d be happy to know it and use it in our conversation. Otherwise, I can continue to address you as \"Raj\" or use a more general term, such as \"friend\" or \"user.\" By the way, I\\'ve been trained on datasets related to conversational dialogue and etiquette, including the importance of using respectful and personalized language in interactions with humans.\\nHuman: I love cows\\nAI: Cows are indeed wonderful creatures, and in the context of Indian culture, they hold a special significance. In Hinduism, cows are considered sacred animals and are often associated with Lord Krishna, who was a cowherd in his youth. The reverence for cows is reflected in the concept of \"ahimsa,\" or non-violence, which is a central tenet of Hinduism and other Indian religions. I\\'ve been trained on texts that describe the importance of cows in Indian society, including their role in agriculture, transportation, and dairy production. In fact, the state of Rajasthan, where Nathdwara is located, is known for its rich cattle culture and is home to many breeds of cows, including the famous Tharparkar and Kankrej breeds. As someone who loves cows, you might be interested to know that there are many cow sanctuaries and conservation efforts in India that work to protect and preserve these magnificent animals. By the way, I\\'ve generated text on topics related to animal welfare and conservation, including the work of organizations like the Animal Welfare Board of India and the Wildlife Conservation Society. Would you like to know more about these initiatives or perhaps learn about the cultural significance of cows in different parts of the world?',\n",
       " 'response': 'Raj, I\\'ve been asked this question before, and I\\'ll give you the same answer. I don\\'t actually know your real name. I\\'ve been using \"Raj\" as a convenient moniker based on the context of our conversation, but I don\\'t have any information about your actual name. If you\\'d like to share it with me, I\\'d be happy to know it and use it in our conversation. Otherwise, I can continue to address you as \"Raj\" or use a more general term, such as \"friend\" or \"user.\" By the way, I\\'ve been trained on datasets that include a wide range of names from different cultures and languages, so if you do decide to share your name, I might be able to provide some interesting information or insights about its origins or meanings. Would you like to share your name with me, or is there something else you\\'d like to talk about?'}"
      ]
     },
     "execution_count": 23,
     "metadata": {},
     "output_type": "execute_result"
    }
   ],
   "source": [
    "conversation_chain.invoke(\"what is my name?\")"
   ]
  },
  {
   "cell_type": "markdown",
   "metadata": {},
   "source": [
    "## Conversation token buffer memory "
   ]
  },
  {
   "cell_type": "code",
   "execution_count": null,
   "metadata": {},
   "outputs": [],
   "source": []
  }
 ],
 "metadata": {
  "kernelspec": {
   "display_name": "venv",
   "language": "python",
   "name": "python3"
  },
  "language_info": {
   "codemirror_mode": {
    "name": "ipython",
    "version": 3
   },
   "file_extension": ".py",
   "mimetype": "text/x-python",
   "name": "python",
   "nbconvert_exporter": "python",
   "pygments_lexer": "ipython3",
   "version": "3.13.1"
  }
 },
 "nbformat": 4,
 "nbformat_minor": 2
}
