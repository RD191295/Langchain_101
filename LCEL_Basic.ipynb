{
 "cells": [
  {
   "cell_type": "code",
   "execution_count": 13,
   "metadata": {},
   "outputs": [],
   "source": [
    "import os\n",
    "from dotenv import load_dotenv, find_dotenv\n",
    "\n",
    "_ = load_dotenv(find_dotenv())\n",
    "\n",
    "# api for groq\n",
    "GROQ_API = os.getenv(\"GROQ_API\")"
   ]
  },
  {
   "cell_type": "code",
   "execution_count": 14,
   "metadata": {},
   "outputs": [],
   "source": [
    "from langchain_groq import ChatGroq\n",
    "\n",
    "chat_groq_model = ChatGroq(\n",
    "    model='llama-3.1-70b-versatile',\n",
    "    api_key = GROQ_API,\n",
    "    temperature= 0.7,\n",
    "    max_retries=3,\n",
    ")"
   ]
  },
  {
   "cell_type": "code",
   "execution_count": 15,
   "metadata": {},
   "outputs": [],
   "source": [
    "from langchain_core.output_parsers import StrOutputParser\n",
    "from langchain.prompts import PromptTemplate\n",
    "\n",
    "prompt_template = \"\"\"\n",
    "  I want to Open a resturant for {cuisine} food. Suggest \n",
    "  a fancy name for this\n",
    "\"\"\"\n",
    "\n",
    "prompt_template = PromptTemplate(\n",
    "  input_variables=['cuisine'],\n",
    "  template = prompt_template\n",
    ")"
   ]
  },
  {
   "cell_type": "code",
<<<<<<< HEAD
   "execution_count": 4,
=======
   "execution_count": null,
   "metadata": {},
   "outputs": [],
   "source": []
  },
  {
   "cell_type": "code",
   "execution_count": 8,
>>>>>>> 9fb96756a396a647ae90c27c63e0f9763ebcac69
   "metadata": {},
   "outputs": [],
   "source": [
    "chain = prompt_template | chat_groq_model | StrOutputParser()"
   ]
  },
  {
   "cell_type": "code",
   "execution_count": 6,
   "metadata": {},
   "outputs": [
    {
     "name": "stdout",
     "output_type": "stream",
     "text": [
      "Bellissima! Here are some fancy name suggestions for your Italian restaurant:\n",
      "\n",
      "1. **Bella Vita**: Meaning \"Beautiful Life\" in Italian, this name evokes a sense of elegance and sophistication.\n",
      "2. **Casa Toscana**: Inspired by the rolling hills of Tuscany, this name transports customers to the heart of Italy.\n",
      "3. **Il Palazzo**: Meaning \"The Palace,\" this name conveys luxury and grandeur, perfect for a high-end Italian dining experience.\n",
      "4. **Vino e Vita**: Combining \"wine\" and \"life,\" this name highlights the importance of fine wine and good living in Italian culture.\n",
      "5. **La Dolce Vita**: Translating to \"The Sweet Life,\" this name captures the essence of Italian cuisine and the joy of savoring delicious food.\n",
      "6. **Tavola Italiana**: Meaning \"Italian Table,\" this name emphasizes the warmth and hospitality of Italian dining.\n",
      "7. **Cucina Classica**: Highlighting the classic cuisine of Italy, this name promises an authentic and refined dining experience.\n",
      "8. **Bistro Italiano**: A modern take on traditional Italian cuisine, this name suggests a trendy and upscale atmosphere.\n",
      "9. **Piazza Italia**: Evoking the vibrant spirit of Italian city squares, this name invites customers to experience the sights, sounds, and flavors of Italy.\n",
      "10. **Ristorante Fiorentino**: Named after the historic city of Florence, this name exudes elegance and refinement, perfect for a sophisticated Italian restaurant.\n",
      "\n",
      "Choose the one that resonates with your vision, and buon appetito!\n"
     ]
    }
   ],
   "source": [
    "print(chain.invoke('Italian'))"
   ]
  },
  {
   "cell_type": "markdown",
   "metadata": {},
   "source": [
    "# RunnablePassThrough"
   ]
  },
  {
   "cell_type": "code",
   "execution_count": 1,
   "metadata": {},
   "outputs": [],
   "source": [
    "from langchain_core.runnables import RunnablePassthrough\n",
    "\n",
    "chain = RunnablePassthrough()"
   ]
  },
  {
   "cell_type": "code",
   "execution_count": 4,
   "metadata": {},
   "outputs": [
    {
     "data": {
      "text/plain": [
       "'Hello, Mr AI!'"
      ]
     },
     "execution_count": 4,
     "metadata": {},
     "output_type": "execute_result"
    }
   ],
   "source": [
    "chain.invoke(\"Hello, Mr AI!\")"
   ]
  },
  {
   "cell_type": "code",
   "execution_count": 5,
   "metadata": {},
   "outputs": [
    {
     "data": {
      "text/plain": [
       "'This is demo of RunnablePassThrough'"
      ]
     },
     "execution_count": 5,
     "metadata": {},
     "output_type": "execute_result"
    }
   ],
   "source": [
    "chain.invoke(\"This is demo of RunnablePassThrough\")"
   ]
  },
  {
   "cell_type": "markdown",
   "metadata": {},
   "source": [
    "## RunnableLambda"
   ]
  },
  {
   "cell_type": "code",
   "execution_count": 6,
   "metadata": {},
   "outputs": [],
   "source": [
    "from langchain_core.runnables import RunnableLambda"
   ]
  },
  {
   "cell_type": "code",
   "execution_count": 7,
   "metadata": {},
   "outputs": [],
   "source": [
    "def russian_lastname (name: str) -> str:\n",
    "    return f\"{name}ovich\""
   ]
  },
  {
   "cell_type": "code",
   "execution_count": 8,
   "metadata": {},
   "outputs": [],
   "source": [
    "chain = RunnablePassthrough() | RunnableLambda(russian_lastname)"
   ]
  },
  {
   "cell_type": "code",
   "execution_count": 9,
   "metadata": {},
   "outputs": [
    {
     "data": {
      "text/plain": [
       "'Rajovich'"
      ]
     },
     "execution_count": 9,
     "metadata": {},
     "output_type": "execute_result"
    }
   ],
   "source": [
    "chain.invoke(\"Raj\")"
   ]
  },
  {
   "cell_type": "markdown",
   "metadata": {},
   "source": [
    "## RunnableParallel"
   ]
  },
  {
   "cell_type": "code",
   "execution_count": 10,
   "metadata": {},
   "outputs": [],
   "source": [
    "from langchain_core.runnables import RunnableParallel,RunnablePassthrough, RunnableLambda\n",
    "from langchain_core.prompts import ChatPromptTemplate"
   ]
  },
  {
   "cell_type": "code",
   "execution_count": 28,
   "metadata": {},
   "outputs": [],
   "source": [
    "prompt_string = \"Tell me the detail analysis for the given {topic} If you do not find info check about {operation_a}\"\n",
    "prompt_template = ChatPromptTemplate.from_template(prompt_string)"
   ]
  },
  {
   "cell_type": "code",
   "execution_count": 29,
   "metadata": {},
   "outputs": [],
   "source": [
    "def get_full_name(name:str)->str:\n",
    "    return f\"{name} winslate\""
   ]
  },
  {
   "cell_type": "code",
   "execution_count": 31,
   "metadata": {},
   "outputs": [],
   "source": [
    "chain = RunnableParallel(\n",
    "    {\n",
    "        'topic' : RunnablePassthrough(),\n",
    "        'operation_a' : RunnableLambda(get_full_name),\n",
    "        'oepration_c' :RunnablePassthrough ()\n",
    "    }\n",
    ") | prompt_template | chat_groq_model | StrOutputParser()"
   ]
  },
  {
   "cell_type": "code",
   "execution_count": 33,
   "metadata": {},
   "outputs": [
    {
     "name": "stdout",
     "output_type": "stream",
     "text": [
      "Since I couldn't find any specific information on a person named \"Kate\" (as it's a common name and more context is needed), I'll provide a detailed analysis on Kate Winslet, a renowned English actress.\n",
      "\n",
      "**Early Life and Career:**\n",
      "Kate Elizabeth Winslet was born on October 5, 1975, in Reading, Berkshire, England. She comes from a family of actors, with her parents and siblings involved in the performing arts. Winslet began her acting career at a young age, attending the Redroofs Theatre School and later enrolling in a drama school.\n",
      "\n",
      "**Breakthrough and Notable Roles:**\n",
      "Kate Winslet's breakthrough role came in 1994 with the film \"Heavenly Creatures,\" directed by Peter Jackson. Her performance earned her critical acclaim and recognition in the film industry. Some of her notable roles include:\n",
      "\n",
      "1. **Titanic (1997)**: Winslet played the role of Rose DeWitt Bukater, opposite Leonardo DiCaprio, in James Cameron's epic romance disaster film.\n",
      "2. **Eternal Sunshine of the Spotless Mind (2004)**: She starred alongside Jim Carrey in this unique, sci-fi romance film, which received widespread critical acclaim.\n",
      "3. **The Reader (2008)**: Winslet won the Academy Award for Best Actress for her portrayal of Hanna Schmitz, a former Nazi guard, in this drama film.\n",
      "4. **Revolutionary Road (2008)**: She starred alongside Leonardo DiCaprio again in this drama film, which explored the complexities of a 1950s American marriage.\n",
      "\n",
      "**Awards and Recognition:**\n",
      "Throughout her career, Kate Winslet has received numerous awards and nominations, including:\n",
      "\n",
      "1. **Academy Awards**: Won Best Actress for \"The Reader\" (2009)\n",
      "2. **Golden Globe Awards**: Won Best Actress in a Motion Picture - Drama for \"The Reader\" (2009) and \"Revolutionary Road\" (2009)\n",
      "3. **BAFTA Awards**: Won Best Actress for \"The Reader\" (2009) and \"Steve Jobs\" (2016)\n",
      "4. **Screen Actors Guild Awards**: Won Outstanding Performance by a Female Actor in a Leading Role for \"The Reader\" (2009)\n",
      "\n",
      "**Personal Life:**\n",
      "Kate Winslet has been married three times:\n",
      "\n",
      "1. **Jim Threapleton** (1998-2001)\n",
      "2. **Sam Mendes** (2003-2010)\n",
      "3. **Edward Abel Smith** (2012-present)\n",
      "\n",
      "She has three children: Mia (born 2000), Joe (born 2009), and Bear (born 2013).\n",
      "\n",
      "**Philanthropy and Activism:**\n",
      "Kate Winslet is involved with several charitable organizations, including:\n",
      "\n",
      "1. **Golden Hat Foundation**: Supports people with autism and their families.\n",
      "2. **St. John Ambulance**: Supports first aid and healthcare services.\n",
      "3. **Environmental activism**: Winslet has been involved in various environmental campaigns, including climate change awareness and conservation efforts.\n",
      "\n",
      "In conclusion, Kate Winslet is a highly acclaimed and versatile actress, known for her powerful performances in a wide range of film genres. Her dedication to her craft, as well as her philanthropic efforts, have made her a respected and beloved figure in the entertainment industry.\n"
     ]
    }
   ],
   "source": [
    "out = chain.invoke(\"kate\")\n",
    "print(out)"
   ]
  },
  {
   "cell_type": "code",
   "execution_count": 15,
   "metadata": {},
   "outputs": [],
   "source": [
    "from langchain_core.output_parsers import StrOutputParser\n",
    "from langchain_core.prompts import ChatPromptTemplate"
   ]
  },
  {
   "cell_type": "code",
   "execution_count": 30,
   "metadata": {},
   "outputs": [],
   "source": [
    "chat_prompt = ChatPromptTemplate.from_template(\n",
    "    \"tell me a curious fact about {cricket_player}\"\n",
    ")"
   ]
  },
  {
   "cell_type": "code",
   "execution_count": 17,
   "metadata": {},
   "outputs": [],
   "source": [
    "output_parser = StrOutputParser()"
   ]
  },
  {
   "cell_type": "code",
   "execution_count": 31,
   "metadata": {},
   "outputs": [],
   "source": [
    "def russian_lastname (person: dict) -> str:\n",
    "    return person[\"cricket_player\"]+\"ovich\""
   ]
  },
  {
   "cell_type": "code",
   "execution_count": 34,
   "metadata": {},
   "outputs": [],
   "source": [
    "chain = RunnableParallel(\n",
    "    {\n",
    "        \"operation_a\" : RunnablePassthrough(),\n",
    "        \"cricket_player\" : RunnableLambda\n",
    "        (russian_lastname),\n",
    "        \"operation_c\" : RunnablePassthrough()\n",
    "    }\n",
    ") | chat_prompt | chat_groq_model | output_parser"
   ]
  },
  {
   "cell_type": "code",
   "execution_count": 36,
   "metadata": {},
   "outputs": [
    {
     "data": {
      "text/plain": [
       "'I couldn\\'t find any information on a person or entity called \"Jamesovich.\" It\\'s possible that it\\'s a made-up or obscure term. Can you please provide more context or details about Jamesovich? I\\'d be happy to try and help you find a curious fact about it.'"
      ]
     },
     "execution_count": 36,
     "metadata": {},
     "output_type": "execute_result"
    }
   ],
   "source": [
    "chain.invoke({\n",
    "    \"cricket_player\" : \"James\" \n",
    "})"
   ]
  },
  {
   "cell_type": "code",
   "execution_count": 47,
   "metadata": {},
   "outputs": [],
   "source": [
    "prompt = ChatPromptTemplate.from_template(\"tell me a sentence about \\\n",
    "                                          {politician}\")\n",
    "\n",
    "\n",
    "chain = prompt | chat_groq_model |StrOutputParser()                                    "
   ]
  },
  {
   "cell_type": "code",
   "execution_count": 48,
   "metadata": {},
   "outputs": [
    {
     "data": {
      "text/plain": [
       "'Narendra Modi is the 14th and current Prime Minister of India, serving since 2014 and known for his ambitious economic and social reform initiatives.'"
      ]
     },
     "execution_count": 48,
     "metadata": {},
     "output_type": "execute_result"
    }
   ],
   "source": [
    "chain.invoke(\"modi\")"
   ]
  },
  {
   "cell_type": "code",
   "execution_count": 49,
   "metadata": {},
   "outputs": [],
   "source": [
    "historial_prompt = ChatPromptTemplate.from_template(\"was {politician} \\\n",
    "                                                    positive for Humanity\")"
   ]
  },
  {
   "cell_type": "code",
   "execution_count": 50,
   "metadata": {},
   "outputs": [],
   "source": [
    "composed_chain = {'politician': chain} | historial_prompt | chat_groq_model | StrOutputParser()"
   ]
  },
  {
   "cell_type": "code",
   "execution_count": 51,
   "metadata": {},
   "outputs": [
    {
     "name": "stdout",
     "output_type": "stream",
     "text": [
      "The statement about Narendra Modi being the 14th and current Prime Minister of India, serving since 2014, is factually correct. However, assessing whether his policies and agenda are positive for humanity is subjective and depends on various perspectives. Here's a balanced view:\n",
      "\n",
      "**Positive aspects:**\n",
      "\n",
      "1. **Economic growth**: Modi's government has implemented policies aimed at boosting economic growth, such as the \"Make in India\" initiative, which has attracted foreign investment and created jobs.\n",
      "2. **Infrastructure development**: His government has invested heavily in infrastructure projects, including roads, railways, and ports, which can improve connectivity and facilitate trade.\n",
      "3. **Social welfare schemes**: Modi's government has launched several social welfare schemes, such as the \"Jan Dhan Yojana\" (a financial inclusion program) and \"Ayushman Bharat\" (a health insurance scheme), which aim to benefit marginalized sections of society.\n",
      "4. **Digital India**: The government's \"Digital India\" initiative has promoted digital literacy, online services, and e-governance, which can increase access to information and services.\n",
      "\n",
      "**Concerns and criticisms:**\n",
      "\n",
      "1. **Nationalist agenda**: Some critics argue that Modi's strong nationalist agenda has led to increased tensions with neighboring countries, such as Pakistan, and has fueled divisions within Indian society.\n",
      "2. **Human rights concerns**: His government has been criticized for its handling of human rights issues, including the treatment of minorities, particularly Muslims, and the suppression of dissenting voices.\n",
      "3. **Environmental concerns**: The government's focus on economic growth has led to concerns about environmental degradation, deforestation, and the impact of large-scale infrastructure projects on local ecosystems.\n",
      "4. **Inequality and social justice**: Some critics argue that Modi's policies have exacerbated income inequality and social injustice, particularly for marginalized communities, such as Dalits (formerly known as \"untouchables\") and Adivasis (indigenous peoples).\n",
      "\n",
      "In conclusion, while Narendra Modi's government has implemented policies that have contributed to India's economic growth and development, his strong nationalist agenda and handling of human rights and environmental issues have raised concerns. The impact of his policies on humanity is complex and multifaceted, and opinions on the matter tend to be highly polarized.\n"
     ]
    }
   ],
   "source": [
    "result  = composed_chain.invoke({'politician' : 'Modi'})\n",
    "print(result)"
   ]
  },
  {
   "cell_type": "code",
   "execution_count": 52,
   "metadata": {},
   "outputs": [],
   "source": [
    "from operator import itemgetter"
   ]
  },
  {
   "cell_type": "code",
   "execution_count": 53,
   "metadata": {},
   "outputs": [],
   "source": [
    "prompt1 = ChatPromptTemplate.from_template(\"what is the country \\\n",
    "                                           {politician} is from\")\n",
    "\n",
    "\n",
    "prompt2 = ChatPromptTemplate.from_template(\"what continernt is the country \\\n",
    "                                           {country} in ? responde in \\\n",
    "                                           {language}\" )\n",
    "\n",
    "\n",
    "chain1 = prompt1 | chat_groq_model | StrOutputParser()\n"
   ]
  },
  {
   "cell_type": "code",
   "execution_count": 54,
   "metadata": {},
   "outputs": [],
   "source": [
    "chain2 = (\n",
    "    {\"country\" : chain1 , \"language\" : itemgetter('language')}\n",
    "    | prompt2 \n",
    "    | chat_groq_model\n",
    "    | StrOutputParser()\n",
    ")"
   ]
  },
  {
   "cell_type": "code",
   "execution_count": 64,
   "metadata": {},
   "outputs": [
    {
     "data": {
      "text/plain": [
       "'The country that Donald Trump is from, the United States of America, is located in the continent of North America.'"
      ]
     },
     "execution_count": 64,
     "metadata": {},
     "output_type": "execute_result"
    }
   ],
   "source": [
    "chain2.invoke({\"politician\" :\"trump\" ,\n",
    "               \"language\" : \"english\"})"
   ]
  },
  {
   "cell_type": "code",
   "execution_count": 65,
   "metadata": {},
   "outputs": [],
   "source": [
    "prompt = ChatPromptTemplate.from_template(\"tell me a achivement and \\\n",
    "                                          award fact about {sports_man}\")\n",
    "\n",
    "\n",
    "output_parser = StrOutputParser()"
   ]
  },
  {
   "cell_type": "code",
   "execution_count": 66,
   "metadata": {},
   "outputs": [],
   "source": [
    "chain = prompt | chat_groq_model | output_parser"
   ]
  },
  {
   "cell_type": "code",
   "execution_count": 68,
   "metadata": {},
   "outputs": [
    {
     "name": "stdout",
     "output_type": "stream",
     "text": [
      "Here's an achievement and award fact about Neeraj Chopra:\n",
      "\n",
      "**Achievement:** Neeraj Chopra is the first Indian athlete to win an Olympic gold medal in athletics, which he achieved at the 2020 Tokyo Olympics (held in 2021) in the men's javelin throw event with a throw of 87.58 meters.\n",
      "\n",
      "**Award:** Neeraj Chopra was awarded the **Major Dhyan Chand Khel Ratna Award** in 2021, which is India's highest sporting honor, for his outstanding achievement in the field of athletics.\n"
     ]
    }
   ],
   "source": [
    "print(chain.invoke('niraj chopra'))"
   ]
  },
  {
   "cell_type": "markdown",
   "metadata": {},
   "source": [
    "## Bind Function"
   ]
  },
  {
   "cell_type": "code",
   "execution_count": 69,
   "metadata": {},
   "outputs": [],
   "source": [
    "chain = prompt | chat_groq_model.bind(stop = ['Major Dhyan Chand']) | output_parser"
   ]
  },
  {
   "cell_type": "code",
   "execution_count": 70,
   "metadata": {},
   "outputs": [
    {
     "name": "stdout",
     "output_type": "stream",
     "text": [
      "Here's an achievement and award fact about Neeraj Chopra:\n",
      "\n",
      "**Achievement:** Neeraj Chopra is the first Indian athlete to win an Olympic gold medal in track and field events. He achieved this feat at the 2020 Tokyo Olympics, where he won the gold medal in the men's javelin throw event with a throw of 87.58 meters.\n",
      "\n",
      "**Award:** Neeraj Chopra was awarded the \n"
     ]
    }
   ],
   "source": [
    "print(chain.invoke(\"niraj chopra\"))"
   ]
  },
  {
   "attachments": {
    "image.png": {
     "image/png": "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"
    }
   },
   "cell_type": "markdown",
   "metadata": {},
   "source": [
    "## RunnablePassThrough and RunnableParralel Example\n",
    "\n",
    "![image.png](attachment:image.png)"
   ]
  },
  {
   "cell_type": "code",
   "execution_count": 3,
   "metadata": {},
   "outputs": [],
   "source": [
    "from langchain_openai import OpenAIEmbeddings\n",
    "from langchain.vectorstores import DocArrayInMemorySearch"
   ]
  },
  {
   "cell_type": "code",
   "execution_count": 4,
   "metadata": {},
   "outputs": [],
   "source": [
    "embedding = OpenAIEmbeddings()"
   ]
  },
  {
   "cell_type": "code",
   "execution_count": 55,
   "metadata": {},
   "outputs": [],
   "source": [
    "vecstore_a = DocArrayInMemorySearch.from_texts(\n",
    "    [\"half the info will be thre\",\"Raj' birthdat is 19th december\"],\n",
    "    embedding=embedding\n",
    ")"
   ]
  },
  {
   "cell_type": "code",
   "execution_count": 56,
   "metadata": {},
   "outputs": [],
   "source": [
    "vecstore_b = DocArrayInMemorySearch.from_texts(\n",
    "    [\"and half here\",\"Raj was born in 1995\"],\n",
    "    embedding=embedding\n",
    ")"
   ]
  },
  {
   "cell_type": "code",
   "execution_count": 57,
   "metadata": {},
   "outputs": [],
   "source": [
    "from langchain_core.runnables import (\n",
    "    RunnableParallel,\n",
    "    RunnablePassthrough\n",
    ")\n",
    "from langchain_core.prompts import ChatPromptTemplate\n",
    "from langchain_core.output_parsers import StrOutputParser"
   ]
  },
  {
   "cell_type": "code",
   "execution_count": 58,
   "metadata": {},
   "outputs": [],
   "source": [
    "retriever_a = vecstore_a.as_retriever()\n",
    "retriever_b = vecstore_b.as_retriever()"
   ]
  },
  {
   "cell_type": "code",
   "execution_count": 59,
   "metadata": {},
   "outputs": [],
   "source": [
    "prompt_str = \"\"\"Answer the question below using the context\n",
    "\n",
    "Context : {context}\n",
    "\n",
    "Question : {question}\n",
    "\"\"\""
   ]
  },
  {
   "cell_type": "code",
   "execution_count": 60,
   "metadata": {},
   "outputs": [],
   "source": [
    "prompt = ChatPromptTemplate.from_template(prompt_str)"
   ]
  },
  {
   "cell_type": "code",
   "execution_count": 61,
   "metadata": {},
   "outputs": [],
   "source": [
    "retrieval = RunnableParallel(\n",
    "    {\"context\" : retriever_a, \"question\": RunnablePassthrough()}\n",
    ")"
   ]
  },
  {
   "cell_type": "code",
   "execution_count": 62,
   "metadata": {},
   "outputs": [],
   "source": [
    "chain = retrieval | prompt | chat_groq_model | StrOutputParser()"
   ]
  },
  {
   "cell_type": "code",
   "execution_count": 63,
   "metadata": {},
   "outputs": [
    {
     "name": "stdout",
     "output_type": "stream",
     "text": [
      "Based on the provided context, the year of Raj's birth is not mentioned. The context only mentions that Raj's birthday is on December 19th, but it does not provide any information about the year.\n"
     ]
    }
   ],
   "source": [
    "out = chain.invoke('which year raj was born?')\n",
    "print(out)"
   ]
  },
  {
   "cell_type": "code",
   "execution_count": 64,
   "metadata": {},
   "outputs": [],
   "source": [
    "retrieval_1 = RunnableParallel(\n",
    "    {\n",
    "        \"context_a\": retriever_a, \"context_b\" : retriever_b,\n",
    "        \"question\":RunnablePassthrough()\n",
    "    }\n",
    ")"
   ]
  },
  {
   "cell_type": "code",
   "execution_count": 65,
   "metadata": {},
   "outputs": [],
   "source": [
    "prompt_str_1 = \"\"\"nswer the question below using the context\n",
    "\n",
    "Context : \n",
    "{context_a}\n",
    "{context_b}\n",
    "\n",
    "Question : {question}\n",
    "\"\"\""
   ]
  },
  {
   "cell_type": "code",
   "execution_count": 66,
   "metadata": {},
   "outputs": [],
   "source": [
    "prompt_1 = ChatPromptTemplate.from_template(prompt_str_1)"
   ]
  },
  {
   "cell_type": "code",
   "execution_count": 67,
   "metadata": {},
   "outputs": [],
   "source": [
    "chain_1= retrieval_1 |  prompt_1 | chat_groq_model | StrOutputParser()"
   ]
  },
  {
   "cell_type": "code",
   "execution_count": 68,
   "metadata": {},
   "outputs": [
    {
     "name": "stdout",
     "output_type": "stream",
     "text": [
      "Based on the context, Raj was born on December 19th, 1995. This information is gathered from two documents: one stating \"Raj' birthdat is 19th december\" and another stating \"Raj was born in 1995\".\n"
     ]
    }
   ],
   "source": [
    "out = chain_1.invoke(\"when raj was born?\")\n",
    "print(out)"
   ]
  },
  {
   "cell_type": "markdown",
   "metadata": {},
   "source": [
    "## Runnable Lambdas\n",
    "\n",
    "### The RunnableLambda is a LangChain abstraction that allows us to turn Python functions into pipe-compatible functions, similar to the Runnable class we created near the beginning of this article."
   ]
  },
  {
   "cell_type": "code",
   "execution_count": 69,
   "metadata": {},
   "outputs": [],
   "source": [
    "from langchain_core.runnables import RunnableLambda"
   ]
  },
  {
   "cell_type": "code",
   "execution_count": 70,
   "metadata": {},
   "outputs": [],
   "source": [
    "def add_five(x):\n",
    "    return x+5\n",
    "\n",
    "def multiply_by_two(x):\n",
    "    return x * 2"
   ]
  },
  {
   "cell_type": "code",
   "execution_count": 71,
   "metadata": {},
   "outputs": [],
   "source": [
    "add_five = RunnableLambda(add_five)\n",
    "multiply_by_two = RunnableLambda(multiply_by_two)"
   ]
  },
  {
   "cell_type": "code",
   "execution_count": 72,
   "metadata": {},
   "outputs": [],
   "source": [
    "chain = add_five | multiply_by_two"
   ]
  },
  {
   "cell_type": "code",
   "execution_count": 73,
   "metadata": {},
   "outputs": [
    {
     "data": {
      "text/plain": [
       "14"
      ]
     },
     "execution_count": 73,
     "metadata": {},
     "output_type": "execute_result"
    }
   ],
   "source": [
    "chain.invoke(2)"
   ]
  },
  {
   "cell_type": "code",
   "execution_count": 74,
   "metadata": {},
   "outputs": [],
   "source": [
    "prompt_str = \"Tell me an short fact about {topic}\"\n",
    "prompt = ChatPromptTemplate.from_template(prompt_str)\n",
    "\n",
    "chain = prompt |chat_groq_model | StrOutputParser()"
   ]
  },
  {
   "cell_type": "code",
   "execution_count": 75,
   "metadata": {},
   "outputs": [
    {
     "data": {
      "text/plain": [
       "'The term \"Artificial Intelligence\" was first coined in 1956 by computer scientist John McCarthy, who is often referred to as the \"father of AI\".'"
      ]
     },
     "execution_count": 75,
     "metadata": {},
     "output_type": "execute_result"
    }
   ],
   "source": [
    "chain.invoke({\"topic\" : \"Artificial Intelligence\"})"
   ]
  },
  {
   "cell_type": "code",
   "execution_count": 76,
   "metadata": {},
   "outputs": [
    {
     "data": {
      "text/plain": [
       "'The term \"Artificial Intelligence\" was first coined in 1956 by John McCarthy, an American computer scientist and cognitive scientist, who is often referred to as the \"father of AI\".'"
      ]
     },
     "execution_count": 76,
     "metadata": {},
     "output_type": "execute_result"
    }
   ],
   "source": [
    "chain.invoke({\"topic\" : \"Artificial Intelligence\"})"
   ]
  },
  {
   "cell_type": "code",
   "execution_count": 77,
   "metadata": {},
   "outputs": [
    {
     "data": {
      "text/plain": [
       "'The term \"Artificial Intelligence\" was first coined in 1956 by computer scientist John McCarthy, who is often referred to as the \"father of AI\".'"
      ]
     },
     "execution_count": 77,
     "metadata": {},
     "output_type": "execute_result"
    }
   ],
   "source": [
    "chain.invoke({\"topic\" : \"Artificial Intelligence\"})"
   ]
  },
  {
   "cell_type": "code",
   "execution_count": null,
   "metadata": {},
   "outputs": [],
   "source": [
    "prompt_t"
   ]
  }
 ],
 "metadata": {
  "kernelspec": {
   "display_name": "langenv",
   "language": "python",
   "name": "python3"
  },
  "language_info": {
   "codemirror_mode": {
    "name": "ipython",
    "version": 3
   },
   "file_extension": ".py",
   "mimetype": "text/x-python",
   "name": "python",
   "nbconvert_exporter": "python",
   "pygments_lexer": "ipython3",
   "version": "3.11.0"
  }
 },
 "nbformat": 4,
 "nbformat_minor": 2
}
