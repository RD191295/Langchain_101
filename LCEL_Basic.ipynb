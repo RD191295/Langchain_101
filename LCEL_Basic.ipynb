{
 "cells": [
  {
   "cell_type": "code",
   "execution_count": 1,
   "metadata": {},
   "outputs": [],
   "source": [
    "import os\n",
    "from dotenv import load_dotenv, find_dotenv\n",
    "\n",
    "_ = load_dotenv(find_dotenv())\n",
    "\n",
    "# api for groq\n",
    "GROQ_API = os.getenv(\"GROQ_API\")"
   ]
  },
  {
   "cell_type": "code",
   "execution_count": 3,
   "metadata": {},
   "outputs": [],
   "source": [
    "from langchain_groq import ChatGroq\n",
    "\n",
    "chat_groq_model = ChatGroq(\n",
    "    model='llama-3.1-70b-versatile',\n",
    "    api_key = GROQ_API,\n",
    "    temperature= 0.7,\n",
    "    max_retries=3,\n",
    ")"
   ]
  },
  {
   "cell_type": "code",
   "execution_count": 7,
   "metadata": {},
   "outputs": [],
   "source": [
    "from langchain_core.output_parsers import StrOutputParser\n",
    "from langchain.prompts import PromptTemplate\n",
    "\n",
    "prompt_template = \"\"\"\n",
    "  I want to Open a resturant for {cuisine} food. Suggest \n",
    "  a fancy name for this\n",
    "\"\"\"\n",
    "\n",
    "prompt_template = PromptTemplate(\n",
    "  input_variables=['cuisine'],\n",
    "  template = prompt_template\n",
    ")"
   ]
  },
  {
   "cell_type": "code",
   "execution_count": 8,
   "metadata": {},
   "outputs": [],
   "source": [
    "chain = prompt_template | chat_groq_model | StrOutputParser()"
   ]
  },
  {
   "cell_type": "code",
   "execution_count": 9,
   "metadata": {},
   "outputs": [
    {
     "data": {
      "text/plain": [
       "'Buon appetito. Here are some fancy name suggestions for your Italian restaurant:\\n\\n1. **Bella Vita**: Meaning \"Beautiful Life\" in Italian, this name evokes a sense of elegance and sophistication.\\n2. **Tavola Italiana**: \"Tavola\" means \"table\" in Italian, and this name suggests a warm and inviting dining experience.\\n3. **Casa della Cucina**: \"Casa\" means \"house\" and \"Cucina\" means \"kitchen\", implying a cozy and authentic Italian culinary experience.\\n4. **Vino e Vita**: \"Vino\" means \"wine\" and \"Vita\" means \"life\", combining two essential elements of Italian culture.\\n5. **La Dolce Vita**: Inspired by the famous Italian film, this name captures the essence of the sweet Italian lifestyle.\\n6. **Il Palazzo**: Meaning \"The Palace\" in Italian, this name suggests a grand and luxurious dining experience.\\n7. **Bistro Italiano**: A modern take on traditional Italian cuisine, this name implies a trendy and upscale eatery.\\n8. **Caffè e Cucina**: Combining the Italian words for \"coffee\" and \"kitchen\", this name suggests a cozy and inviting spot for both meals and coffee.\\n9. **Toscana**: Named after the picturesque Italian region, this name evokes a sense of rustic charm and authentic Italian cuisine.\\n10. **Ristorante Firenze**: \"Ristorante\" means \"restaurant\" and \"Firenze\" is the Italian name for Florence, suggesting a high-end dining experience inspired by the city\\'s rich culinary heritage.\\n\\nChoose the one that resonates with your vision and style, and buon fortuna (good luck) with your new restaurant venture!'"
      ]
     },
     "execution_count": 9,
     "metadata": {},
     "output_type": "execute_result"
    }
   ],
   "source": [
    "chain.invoke('Italian')"
   ]
  }
 ],
 "metadata": {
  "kernelspec": {
   "display_name": "langenv",
   "language": "python",
   "name": "python3"
  },
  "language_info": {
   "codemirror_mode": {
    "name": "ipython",
    "version": 3
   },
   "file_extension": ".py",
   "mimetype": "text/x-python",
   "name": "python",
   "nbconvert_exporter": "python",
   "pygments_lexer": "ipython3",
   "version": "3.11.0"
  }
 },
 "nbformat": 4,
 "nbformat_minor": 2
}
