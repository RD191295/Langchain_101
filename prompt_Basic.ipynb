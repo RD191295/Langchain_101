{
 "cells": [
  {
   "cell_type": "code",
   "execution_count": 1,
   "metadata": {},
   "outputs": [],
   "source": [
    "import os\n",
    "from dotenv import load_dotenv, find_dotenv\n",
    "\n",
    "_ = load_dotenv(find_dotenv())\n",
    "\n",
    "# api for groq\n",
    "GROQ_API = os.getenv(\"GROQ_API\")"
   ]
  },
  {
   "cell_type": "code",
   "execution_count": 2,
   "metadata": {},
   "outputs": [],
   "source": [
    "from langchain_groq import ChatGroq\n",
    "\n",
    "chat_groq_model = ChatGroq(\n",
    "    model='llama-3.1-70b-versatile',\n",
    "    api_key = GROQ_API,\n",
    "    temperature= 0.3,\n",
    "    max_retries=3,\n",
    ")"
   ]
  },
  {
   "cell_type": "code",
   "execution_count": 3,
   "metadata": {},
   "outputs": [],
   "source": [
    "prompt_1 = \"\"\"\n",
    "How can I effectively prepare for my board exams?\n",
    "Example : 'Create a schedule for one week in a tabular format'\n",
    "\"\"\""
   ]
  },
  {
   "cell_type": "code",
   "execution_count": 4,
   "metadata": {},
   "outputs": [
    {
     "name": "stdout",
     "output_type": "stream",
     "text": [
      "To effectively prepare for your board exams, here's a suggested plan:\n",
      "\n",
      "**Create a schedule for one week in a tabular format:**\n",
      "\n",
      "| Day | Morning (9:00 am - 12:00 pm) | Afternoon (1:00 pm - 4:00 pm) | Evening (5:00 pm - 8:00 pm) |\n",
      "| --- | --- | --- | --- |\n",
      "| Mon | Review notes for Subject 1 | Practice past year papers for Subject 1 | Focus on weak areas in Subject 1 |\n",
      "| Tue | Review notes for Subject 2 | Practice past year papers for Subject 2 | Focus on weak areas in Subject 2 |\n",
      "| Wed | Review notes for Subject 3 | Practice past year papers for Subject 3 | Focus on weak areas in Subject 3 |\n",
      "| Thu | Practice mixed-subject questions | Review and analyze mistakes | Focus on improving time management |\n",
      "| Fri | Practice full-length mock test | Review and analyze performance | Identify areas for improvement |\n",
      "| Sat | Review and practice weak areas | Focus on improving problem-solving skills | Practice with sample papers |\n",
      "| Sun | Review all subjects, focus on key concepts | Practice mixed-subject questions | Relax and recharge for the week ahead |\n",
      "\n",
      "**Additional Tips:**\n",
      "\n",
      "1. **Set specific goals**: Identify what you want to achieve each day and each week.\n",
      "2. **Use active learning techniques**: Engage with the material by summarizing notes in your own words, creating concept maps, or making flashcards.\n",
      "3. **Practice consistently**: Regular practice helps reinforce learning and builds confidence.\n",
      "4. **Review and analyze**: Regularly review what you've studied, identify areas where you need improvement, and adjust your strategy accordingly.\n",
      "5. **Take breaks**: Make time for relaxation and self-care to avoid burnout.\n",
      "6. **Seek help when needed**: Don't hesitate to ask teachers, classmates, or tutors for help when you're struggling with a concept.\n",
      "7. **Stay organized**: Keep all your study materials, including notes, past papers, and schedules, organized and easily accessible.\n",
      "8. **Get enough sleep**: Aim for 7-8 hours of sleep each night to help consolidate learning and improve focus.\n",
      "\n",
      "Remember, this is just a sample schedule, and you should adjust it to fit your individual needs and learning style. Stay focused, motivated, and committed to your goals, and you'll be well-prepared for your board exams.\n"
     ]
    }
   ],
   "source": [
    "response_1 = chat_groq_model.invoke(prompt_1)\n",
    "print(response_1.content)"
   ]
  },
  {
   "cell_type": "code",
   "execution_count": 5,
   "metadata": {},
   "outputs": [],
   "source": [
    "prompt = \"\"\"\n",
    "How can I effectively prepare for my board exams?\n",
    "Example 1 : \"What are some effective study techniques for board exams?\"\n",
    "Example 2 : \"How can I manage my time effectively for board exams?\"\n",
    "Give some more ways to prepare for board exams. also please give answers in bullet points.\n",
    "\"\"\""
   ]
  },
  {
   "cell_type": "code",
   "execution_count": 9,
   "metadata": {},
   "outputs": [
    {
     "name": "stdout",
     "output_type": "stream",
     "text": [
      " Here  are  some  effective  ways  to  prepare  for  your  board  exams :\n",
      "\n",
      " *  ** Create  a  study  plan **:  \n",
      "    *  Set  specific  goals  for  each  study  session \n",
      "    *  Break  down  large  topics  into  smaller ,  manageable  chunks \n",
      "    *  Allocate  time  for  each  subject  and  topic \n",
      "    *  Prior itize  difficult  topics  and  allocate  more  time  for  them \n",
      "\n",
      " *  ** Use  active  learning  techniques **:  \n",
      "    *  Make  flash cards  to  memor ize  key  terms  and  concepts \n",
      "    *  Create  concept  maps  to  visualize  relationships  between  ideas \n",
      "    *  Sum mar ize  notes  in  your  own  words \n",
      "    *  Self -test  with  practice  questions  and  quizzes \n",
      "\n",
      " *  ** Manage  your  time  effectively **:  \n",
      "    *  Create  a  schedule  and  stick  to  it \n",
      "    *  Allocate  breaks  to  avoid  burn out \n",
      "    *  Use  time -management  tools  like  calendars ,  planners ,  or  apps \n",
      "    *  Learn  to  say  no  to  non - essential  activities  that  can  distract  you  from  studying \n",
      "\n",
      " *  ** Stay  organized **:  \n",
      "    *  Keep  all  study  materials ,  including  notes  and  practice  questions ,  in  one  place \n",
      "    *  Use  tabs ,  highlights ,  and  color -c oding  to  categor ize  and  prioritize  information \n",
      "    *  Review  and  update  your  notes  regularly \n",
      "    *  Make  sure  you  have  all  the  necessary  materials ,  including  textbooks ,  station ery ,  and  equipment \n",
      "\n",
      " *  ** Practice  with  sample  papers  and  past  exams **:  \n",
      "    *  Fam iliar ize  yourself  with  the  exam  format  and  question  types \n",
      "    *  Practice  answering  questions  under  timed  conditions \n",
      "    *  Review  and  analyze  your  performance  to  identify  areas  for  improvement \n",
      "    *  Use  sample  papers  to  identify  common  topics  and  question  patterns \n",
      "\n",
      " *  ** Take  care  of  your  physical  and  mental  health **:  \n",
      "    *  Get  enough  sleep  and  maintain  a  healthy  diet \n",
      "    *  Exercise  regularly  to  reduce  stress  and  improve  focus \n",
      "    *  Take  breaks  to  relax  and  recharge \n",
      "    *  Seek  help  if  you 're  feeling  overwhelmed  or  struggling  with  anxiety \n",
      "\n",
      " *  ** Seek  help  when  needed **:  \n",
      "    *  Ask  teachers  or  classmates  for  help  with  difficult  topics \n",
      "    *  Join  a  study  group  to  collaborate  and  learn  from  others \n",
      "    *  Use  online  resources ,  such  as  video  tutorials  and  study  guides \n",
      "    *  Seek  guidance  from  a  tutor  or  mentor  if  you 're  struggling  with  a  particular  subject \n",
      "\n",
      " *  ** Stay  motivated **:  \n",
      "    *  Set  rewards  for  yourself  when  you  reach  study  milestones \n",
      "    *  Celebr ate  your  progress  and  accomplishments \n",
      "    *  Rem ind  yourself  of  your  goals  and  why  you 're  working  hard \n",
      "    *  Find  a  study  buddy  or  accountability  partner  to  stay  motivated  and  engaged \n",
      "\n",
      " *  ** Review  and  reflect  regularly **:  \n",
      "    *  Review  your  notes  and  study  materials  regularly \n",
      "    *  Reflect  on  what  you 've  learned  and  what  you  need  to  work  on \n",
      "    *  Identify  areas  where  you  need  to  focus  your  efforts \n",
      "    *  Adjust  your  study  plan  as  needed  to  stay  on  track .  "
     ]
    }
   ],
   "source": [
    "for chunk in chat_groq_model.stream(prompt):\n",
    "    print(chunk.content, end = \" \")"
   ]
  },
  {
   "cell_type": "code",
   "execution_count": 8,
   "metadata": {},
   "outputs": [],
   "source": [
    "prompt_3 = \"\"\"\n",
    "How can I effectively prepare for my board exams?\n",
    "Example 1 : \"Divide the syllabus into samller parts and focus on one \n",
    "section at a time\"\n",
    "Example 2 : \"Take regular breaks to avoid burnout\"\n",
    "Example 3 : \"Practice previous year question papers to get familiar with the exam pattern\"\n",
    "\"\"\""
   ]
  },
  {
   "cell_type": "code",
   "execution_count": 10,
   "metadata": {},
   "outputs": [
    {
     "name": "stdout",
     "output_type": "stream",
     "text": [
      " To  effectively  prepare  for  your  board  exams ,  consider  the  following  strategies :\n",
      "\n",
      " 1 .  ** Create  a  study  schedule **:  Plan  out  your  study  routine ,  setting  specific  goals  and  deadlines  for  each  subject .  This  will  help  you  stay  organized  and  ensure  you  cover  all  the  material .\n",
      " 2 .  ** Div ide  the  syll abus  into  smaller  parts **:  Break  down  the  syll abus  into  manageable  chunks ,  focusing  on  one  section  at  a  time .  This  will  help  you  grasp  complex  concepts  and  retain  information  better .\n",
      " 3 .  ** Take  regular  breaks **:  Take  short  breaks  every  hour  to  recharge  and  avoid  burn out .  Use  this  time  to  relax ,  exercise ,  or  engage  in  a  hobby  to  help  you  stay  focused  and  motivated .\n",
      " 4 .  ** Practice  previous  year  question  papers **:  Fam iliar ize  yourself  with  the  exam  pattern  by  practicing  previous  year  question  papers .  This  will  help  you  understand  the  types  of  questions  asked ,  the  marking  scheme ,  and  the  time  management  required .\n",
      " 5 .  ** Review  and  revise  regularly **:  Regular  review  and  revision  are  crucial  to  retaining  information  and  identifying  areas  where  you  need  to  focus .  Set  aside  dedicated  time  each  week  to  review  what  you 've  studied .\n",
      " 6 .  ** Seek  help  when  needed **:  Don 't  hesitate  to  ask  your  teachers ,  classmates ,  or  tutors  for  help  if  you 're  struggling  with  a  particular  concept  or  subject .  You  can  also  join  online  study  groups  or  forums  to  connect  with  other  students  and  get  support .\n",
      " 7 .  ** Use  active  learning  techniques **:  Eng age  with  the  material  by  using  active  learning  techniques  such  as  summar izing  notes  in  your  own  words ,  creating  concept  maps ,  or  making  flash cards .\n",
      " 8 .  ** Get  enough  sleep  and  stay  healthy **:  Take  care  of  your  physical  and  mental  health  by  getting  enough  sleep ,  eating  a  balanced  diet ,  and  exercising  regularly .  A  healthy  body  and  mind  will  help  you  stay  focused  and  perform  better  in  your  exams .\n",
      " 9 .  ** Stay  motivated  and  positive **:  Rem ind  yourself  of  your  goals  and  why  you 're  working  hard .  Celebr ate  your  small  victories ,  and  don 't  be  too  hard  on  yourself  if  you  make  mistakes .  Stay  positive  and  focused ,  and  you 'll  be  more  likely  to  achieve  your  goals .\n",
      " 10 .  ** Sim ulate  the  exam  experience **:  Practice  taking  mock  exams  or  timed  tests  to  simulate  the  actual  exam  experience .  This  will  help  you  build  endurance ,  manage  your  time  effectively ,  and  reduce  exam -day  anxiety .\n",
      "\n",
      " By  following  these  strategies ,  you 'll  be  well -pre pared  for  your  board  exams  and  can  perform  to  the  best  of  your  ability .  Remember  to  stay  calm ,  focused ,  and  motivated ,  and  you 'll  achieve  your  goals .  "
     ]
    }
   ],
   "source": [
    "for chunk in chat_groq_model.stream(prompt_3):\n",
    "    print(chunk.content, end = \" \")"
   ]
  },
  {
   "cell_type": "markdown",
   "metadata": {},
   "source": [
    "## Prompt Template"
   ]
  },
  {
   "cell_type": "markdown",
   "metadata": {},
   "source": [
    "### Prompt templates help to translate user input and parameters into instructions for a language model. This can be used to guide a model's response, helping it understand the context and generate relevant and coherent language-based output.\n",
    "\n",
    "### Prompt Templates take as input a dictionary, where each key represents a variable in the prompt template to fill in.\n",
    "\n",
    "### Prompt Templates output a PromptValue. This PromptValue can be passed to an LLM or a ChatModel, and can also be cast to a string or a list of messages. The reason this PromptValue exists is to make it easy to switch between strings and messages."
   ]
  },
  {
   "cell_type": "markdown",
   "metadata": {},
   "source": [
    "## String PromptTemplates\n",
    "\n",
    "### These prompt templates are used to format a single string, and generally are used for simpler inputs. For example, a common way to construct and use a PromptTemplate is as follows:"
   ]
  },
  {
   "cell_type": "code",
   "execution_count": 11,
   "metadata": {},
   "outputs": [],
   "source": [
    "from langchain_core.prompts import PromptTemplate"
   ]
  },
  {
   "cell_type": "code",
   "execution_count": 20,
   "metadata": {},
   "outputs": [],
   "source": [
    "prompt_template = \"Translate the following English text to Japanese: {text}\"\n",
    "\n",
    "prompt = PromptTemplate.from_template(prompt_template)\n",
    "\n",
    "formatted_prompt = prompt.format(text =str(input(\"Enter the text to be translated: \")))"
   ]
  },
  {
   "cell_type": "code",
   "execution_count": 21,
   "metadata": {},
   "outputs": [
    {
     "name": "stdout",
     "output_type": "stream",
     "text": [
      "おはよう、ラジ\n"
     ]
    }
   ],
   "source": [
    "response = chat_groq_model.invoke(formatted_prompt)\n",
    "print(response.content)"
   ]
  },
  {
   "cell_type": "markdown",
   "metadata": {},
   "source": [
    "## ChatPromptTemplates\n",
    "\n",
    "### These prompt templates are used to format a list of messages. These \"templates\" consist of a list of templates themselves. For example, a common way to construct and use a ChatPromptTemplate is as follows:"
   ]
  },
  {
   "cell_type": "code",
   "execution_count": 22,
   "metadata": {},
   "outputs": [],
   "source": [
    "from langchain_core.prompts import ChatPromptTemplate\n",
    "\n",
    "chat_prompt_template = ChatPromptTemplate.from_messages(\n",
    "    [\n",
    "        (\"system\", \"You are an {profession} expert on {topic}\"),\n",
    "        (\"human\", \"Hello Mr. {profession}, can you please answer a question?\"),\n",
    "        (\"system\", \"Sure, what is your question?\"),\n",
    "        (\"human\", \"{user_input}\")\n",
    "    ]\n",
    ")"
   ]
  },
  {
   "cell_type": "code",
   "execution_count": 23,
   "metadata": {},
   "outputs": [],
   "source": [
    "messages = chat_prompt_template.format(\n",
    "    profession = \"astronomy\",\n",
    "    topic = \"black holes\",\n",
    "    user_input = \"What is a black hole?\"\n",
    ")"
   ]
  },
  {
   "cell_type": "code",
   "execution_count": 24,
   "metadata": {},
   "outputs": [
    {
     "name": "stdout",
     "output_type": "stream",
     "text": [
      "A black hole is a region in space where the gravitational pull is so strong that nothing, including light, can escape. It's formed when a massive star collapses in on itself and its gravity becomes so strong that it warps the fabric of spacetime around it.\n",
      "\n",
      "Imagine spacetime as a trampoline. If you place a heavy object, like a bowling ball, on the trampoline, it will warp and curve, creating a dent. That's similar to what a massive star does to spacetime. But if the star is massive enough, its gravity will become so strong that it will create a boundary called the event horizon.\n",
      "\n",
      "Once something crosses the event horizon, it's trapped by the black hole's gravity and can't escape. The point of no return is called the singularity, where the gravity is so strong that it becomes infinite and the laws of physics as we know them break down.\n",
      "\n",
      "Black holes come in different sizes, ranging from small, stellar-mass black holes formed from the collapse of individual stars, to supermassive black holes found at the centers of galaxies, with masses millions or even billions of times that of our sun.\n",
      "\n",
      "Would you like to know more about black holes, such as how they're detected or their role in the universe?\n"
     ]
    }
   ],
   "source": [
    "response = chat_groq_model.invoke(messages)\n",
    "print(response.content)"
   ]
  },
  {
   "cell_type": "markdown",
   "metadata": {},
   "source": [
    "## FewShot Prompt Template"
   ]
  },
  {
   "cell_type": "markdown",
   "metadata": {},
   "source": [
    "### prompt template that provides the model with example inputs and outputs when generating. Providing the LLM with a few such examples is called few-shotting, and is a simple yet powerful way to guide generation and in some cases drastically improve model performance.\n",
    "\n",
    "\n",
    "### A few-shot prompt template can be constructed from either a set of examples, or from an Example Selector class responsible for choosing a subset of examples from the defined set."
   ]
  },
  {
   "cell_type": "code",
   "execution_count": 26,
   "metadata": {},
   "outputs": [],
   "source": [
    "from langchain_core.prompts import FewShotChatMessagePromptTemplate,ChatPromptTemplate"
   ]
  },
  {
   "cell_type": "code",
   "execution_count": 28,
   "metadata": {},
   "outputs": [],
   "source": [
    "examples = [\n",
    "    {\"input\": \"hi!\", \"output\": \"¡hola!\"},\n",
    "    {\"input\": \"bye!\", \"output\": \"¡adiós!\"},\n",
    "]"
   ]
  },
  {
   "cell_type": "code",
   "execution_count": 29,
   "metadata": {},
   "outputs": [],
   "source": [
    "example_prompt = ChatPromptTemplate.from_messages(\n",
    "    [\n",
    "        (\"human\", \"{input}\"),\n",
    "        (\"ai\", \"{output}\")\n",
    "    ]\n",
    ")"
   ]
  },
  {
   "cell_type": "code",
   "execution_count": 30,
   "metadata": {},
   "outputs": [],
   "source": [
    "few_shot_prompt = FewShotChatMessagePromptTemplate(example_prompt=example_prompt\n",
    "                                                   , examples=examples)"
   ]
  },
  {
   "cell_type": "code",
   "execution_count": 31,
   "metadata": {},
   "outputs": [],
   "source": [
    "final_prompt = ChatPromptTemplate.from_messages(\n",
    "    [\n",
    "\n",
    "        (\"system\",\"You are an English-Spanish translator\"),\n",
    "        few_shot_prompt,\n",
    "        (\"human\",\"Translate '{input}' to Spanish\")\n",
    "    ]\n",
    ")"
   ]
  },
  {
   "cell_type": "code",
   "execution_count": 32,
   "metadata": {},
   "outputs": [],
   "source": [
    "formatted_prompt = final_prompt.format(input = str(input(\"Enter the text to be translated: \")))"
   ]
  },
  {
   "cell_type": "code",
   "execution_count": 33,
   "metadata": {},
   "outputs": [
    {
     "name": "stdout",
     "output_type": "stream",
     "text": [
      "¡Hola, Raj!\n"
     ]
    }
   ],
   "source": [
    "response = chat_groq_model.invoke(formatted_prompt)\n",
    "print(response.content)"
   ]
  }
 ],
 "metadata": {
  "kernelspec": {
   "display_name": "langenv",
   "language": "python",
   "name": "python3"
  },
  "language_info": {
   "codemirror_mode": {
    "name": "ipython",
    "version": 3
   },
   "file_extension": ".py",
   "mimetype": "text/x-python",
   "name": "python",
   "nbconvert_exporter": "python",
   "pygments_lexer": "ipython3",
   "version": "3.11.0"
  }
 },
 "nbformat": 4,
 "nbformat_minor": 2
}
