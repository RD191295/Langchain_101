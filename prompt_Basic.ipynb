{
 "cells": [
  {
   "cell_type": "code",
   "execution_count": 6,
   "metadata": {},
   "outputs": [],
   "source": [
    "import os\n",
    "from dotenv import load_dotenv, find_dotenv\n",
    "\n",
    "_ = load_dotenv(find_dotenv())\n",
    "\n",
    "# api for groq\n",
    "GROQ_API = os.getenv(\"GROQ_API\")"
   ]
  },
  {
   "cell_type": "code",
   "execution_count": 7,
   "metadata": {},
   "outputs": [],
   "source": [
    "from langchain_groq import ChatGroq\n",
    "\n",
    "chat_groq_model = ChatGroq(\n",
    "    model='llama-3.1-70b-versatile',\n",
    "    api_key = GROQ_API,\n",
    "    temperature= 0.3,\n",
    "    max_retries=3,\n",
    ")"
   ]
  },
  {
   "cell_type": "code",
   "execution_count": 8,
   "metadata": {},
   "outputs": [],
   "source": [
    "prompt_1 = \"\"\"\n",
    "How can I effectively prepare for my board exams?\n",
    "Example : 'Create a schedule for one week in a tabular format'\n",
    "\"\"\""
   ]
  },
  {
   "cell_type": "code",
   "execution_count": 9,
   "metadata": {},
   "outputs": [
    {
     "name": "stdout",
     "output_type": "stream",
     "text": [
      "To effectively prepare for your board exams, here are some steps you can follow:\n",
      "\n",
      "1. **Create a study plan**: Set specific, measurable, achievable, relevant, and time-bound (SMART) goals for each subject.\n",
      "2. **Gather study materials**: Collect all relevant textbooks, notes, and study guides for each subject.\n",
      "3. **Make a schedule**: Plan out your study schedule for each day/week, including dedicated blocks of time for each subject.\n",
      "\n",
      "Here's an example of a schedule for one week in a tabular format:\n",
      "\n",
      "| Day | Morning (9:00 am - 12:00 pm) | Afternoon (1:00 pm - 4:00 pm) | Evening (5:00 pm - 8:00 pm) |\n",
      "| --- | --- | --- | --- |\n",
      "| Mon | Math (Chapters 1-3) | Science (Chapters 4-6) | English (Grammar and Vocabulary) |\n",
      "| Tue | Science (Chapters 7-9) | Math (Chapters 4-6) | Social Studies (Chapters 1-3) |\n",
      "| Wed | English (Literature) | Math (Chapters 7-9) | Science (Practicals and Experiments) |\n",
      "| Thu | Social Studies (Chapters 4-6) | English (Composition and Essay) | Math (Practice Problems) |\n",
      "| Fri | Science (Revision) | Math (Revision) | English (Revision) |\n",
      "| Sat | Practice Mock Tests | Review and Analyze Performance | Identify Areas for Improvement |\n",
      "| Sun | Relaxation and Revision | Review Notes and Summarize Key Points | Plan for the Upcoming Week |\n",
      "\n",
      "4. **Use active learning techniques**: Engage with your study materials by summarizing key points in your own words, creating concept maps, and making flashcards.\n",
      "5. **Practice consistently**: Regular practice helps to reinforce learning and build confidence.\n",
      "6. **Review and revise regularly**: Regular review and revision help to identify areas where you need to focus your efforts.\n",
      "7. **Take care of your physical and mental health**: Get enough sleep, exercise regularly, and eat a balanced diet to help maintain your physical and mental well-being.\n",
      "8. **Seek help when needed**: Don't hesitate to ask your teachers, classmates, or tutors for help if you're struggling with a particular concept or subject.\n",
      "\n",
      "Remember, effective preparation for board exams requires consistent effort, dedication, and a well-planned strategy. Stay focused, motivated, and committed to your goals, and you'll be well on your way to achieving success.\n"
     ]
    }
   ],
   "source": [
    "response_1 = chat_groq_model.invoke(prompt_1)\n",
    "print(response_1.content)"
   ]
  },
  {
   "cell_type": "code",
   "execution_count": 10,
   "metadata": {},
   "outputs": [],
   "source": [
    "prompt = \"\"\"\n",
    "How can I effectively prepare for my board exams?\n",
    "Example 1 : \"What are some effective study techniques for board exams?\"\n",
    "Example 2 : \"How can I manage my time effectively for board exams?\"\n",
    "Give some more ways to prepare for board exams. also please give answers in bullet points.\n",
    "\"\"\""
   ]
  },
  {
   "cell_type": "code",
   "execution_count": 11,
   "metadata": {},
   "outputs": [
    {
     "name": "stdout",
     "output_type": "stream",
     "text": [
      " Here  are  some  effective  ways  to  prepare  for  your  board  exams :\n",
      "\n",
      " *  ** Create  a  study  plan **:  \n",
      "    *  Set  specific  goals  and  deadlines  for  each  subject \n",
      "    *  Break  down  study  material  into  manageable  chunks \n",
      "    *  Allocate  time  for  each  subject  and  topic \n",
      "    *  Review  and  adjust  the  plan  regularly \n",
      "\n",
      " *  ** Use  active  learning  techniques **:  \n",
      "    *  Make  flash cards  to  memor ize  key  terms  and  concepts \n",
      "    *  Create  concept  maps  to  visualize  relationships  between  ideas \n",
      "    *  Practice  past  year  papers  and  mock  tests \n",
      "    *  Teach  someone  what  you 've  learned  to  reinforce  your  understanding \n",
      "\n",
      " *  ** Manage  your  time  effectively **:  \n",
      "    *  Prior itize  the  most  difficult  subjects  or  topics \n",
      "    *  Use  a  timer  to  focus  on  a  single  task  without  distractions \n",
      "    *  Take  regular  breaks  to  avoid  burn out \n",
      "    *  Review  your  progress  and  adjust  your  schedule  as  needed \n",
      "\n",
      " *  ** Stay  organized **:  \n",
      "    *  Keep  all  study  materials ,  including  notes  and  practice  papers ,  in  one  place \n",
      "    *  Use  a  planner  or  calendar  to  keep  track  of  deadlines  and  appointments \n",
      "    *  Make  a  checklist  of  tasks  to  complete  each  day  or  week \n",
      "    *  Review  and  update  your  notes  regularly \n",
      "\n",
      " *  ** Take  care  of  your  physical  and  mental  health **:  \n",
      "    *  Get  enough  sleep  ( 7 - 9  hours )  each  night \n",
      "    *  Eat  a  balanced  diet  that  includes  plenty  of  fruits ,  vegetables ,  and  whole  grains \n",
      "    *  Exercise  regularly ,  such  as  going  for  a  walk  or  jog \n",
      "    *  Practice  stress -re du cing  techniques ,  such  as  meditation  or  deep  breathing \n",
      "\n",
      " *  ** Seek  help  when  needed **:  \n",
      "    *  Ask  your  teachers  or  classmates  for  help  with  difficult  concepts \n",
      "    *  Join  a  study  group  to  collaborate  with  others \n",
      "    *  Use  online  resources ,  such  as  video  tutorials  or  practice  quizzes \n",
      "    *  Consult  with  a  tutor  or  mentor  for  personalized  guidance \n",
      "\n",
      " *  ** Stay  motivated **:  \n",
      "    *  Rem ind  yourself  of  your  goals  and  why  you 're  working  hard \n",
      "    *  Celebr ate  your  progress  and  accomplishments  along  the  way \n",
      "    *  Find  a  study  buddy  or  accountability  partner  to  stay  motivated \n",
      "    *  Reward  yourself  for  reaching  milestones  or  completing  challenging  tasks \n",
      "\n",
      " *  ** Review  and  practice  consistently **:  \n",
      "    *  Set  aside  dedicated  time  each  day  or  week  to  review  notes  and  practice  problems \n",
      "    *  Use  active  recall  to  test  your  understanding  of  key  concepts \n",
      "    *  Focus  on  weak  areas  and  work  to  improve  them \n",
      "    *  Review  and  practice  consistently ,  rather  than  trying  to  cram  all  studying  into  one  session .  "
     ]
    }
   ],
   "source": [
    "for chunk in chat_groq_model.stream(prompt):\n",
    "    print(chunk.content, end = \" \")"
   ]
  },
  {
   "cell_type": "code",
   "execution_count": 12,
   "metadata": {},
   "outputs": [],
   "source": [
    "prompt_3 = \"\"\"\n",
    "How can I effectively prepare for my board exams?\n",
    "Example 1 : \"Divide the syllabus into samller parts and focus on one \n",
    "section at a time\"\n",
    "Example 2 : \"Take regular breaks to avoid burnout\"\n",
    "Example 3 : \"Practice previous year question papers to get familiar with the exam pattern\"\n",
    "\"\"\""
   ]
  },
  {
   "cell_type": "code",
   "execution_count": 13,
   "metadata": {},
   "outputs": [
    {
     "name": "stdout",
     "output_type": "stream",
     "text": [
      " To  effectively  prepare  for  your  board  exams ,  consider  the  following  strategies :\n",
      "\n",
      " 1 .  ** Create  a  study  schedule **:  Plan  out  your  study  routine ,  setting  specific  goals  and  deadlines  for  each  subject  and  topic .  This  will  help  you  stay  organized  and  ensure  you  cover  the  entire  syll abus .\n",
      " 2 .  ** Div ide  the  syll abus  into  smaller  parts **:  Break  down  the  syll abus  into  manageable  chunks ,  focusing  on  one  section  at  a  time .  This  will  help  you  grasp  complex  concepts  and  retain  information  better .\n",
      " 3 .  ** Take  regular  breaks **:  Study  sessions  can  be  intense ,  so  be  sure  to  take  regular  breaks  to  recharge  and  avoid  burn out .  Use  this  time  to  relax ,  exercise ,  or  engage  in  activities  that  help  you  unwind .\n",
      " 4 .  ** Practice  previous  year  question  papers **:  Fam iliar ize  yourself  with  the  exam  pattern  by  practicing  previous  year  question  papers .  This  will  help  you  understand  the  types  of  questions  asked ,  the  marking  scheme ,  and  the  time  management  required .\n",
      " 5 .  ** Review  and  revise  regularly **:  Regular  review  and  revision  are  crucial  to  retaining  information  and  identifying  areas  where  you  need  to  focus .  Set  aside  dedicated  time  to  review  notes ,  textbook  material ,  and  practice  problems .\n",
      " 6 .  ** Seek  help  when  needed **:  Don 't  hesitate  to  ask  your  teachers ,  classmates ,  or  tutors  for  help  if  you 're  struggling  with  a  particular  concept  or  subject .  You  can  also  join  study  groups  or  online  forums  to  connect  with  peers  and  get  support .\n",
      " 7 .  ** Use  active  learning  techniques **:  Eng age  with  the  material  by  using  active  learning  techniques  such  as  summar izing  notes  in  your  own  words ,  creating  concept  maps ,  or  making  flash cards .  This  will  help  you  stay  focused  and  retain  information  better .\n",
      " 8 .  ** Get  enough  sleep  and  maintain  a  healthy  lifestyle **:  Ade quate  sleep ,  a  balanced  diet ,  and  regular  exercise  are  essential  for  maintaining  your  physical  and  mental  well -being  during  the  exam  preparation  period .\n",
      " 9 .  ** Stay  motivated  and  focused **:  Rem ind  yourself  of  your  goals  and  why  you 're  working  hard .  Celebr ate  small  victories ,  and  don 't  be  too  hard  on  yourself  if  you  encounter  setbacks .\n",
      " 10 .  ** Sim ulate  the  exam  experience **:  Practice  mock  exams  or  timed  tests  to  simulate  the  actual  exam  experience .  This  will  help  you  build  endurance ,  manage  your  time  effectively ,  and  reduce  exam -day  anxiety .\n",
      "\n",
      " By  incorporating  these  strategies  into  your  study  routine ,  you 'll  be  well -pre pared  to  tackle  your  board  exams  with  confidence  and  achieve  your  goals .  "
     ]
    }
   ],
   "source": [
    "for chunk in chat_groq_model.stream(prompt_3):\n",
    "    print(chunk.content, end = \" \")"
   ]
  },
  {
   "cell_type": "markdown",
   "metadata": {},
   "source": [
    "## Prompt Template"
   ]
  },
  {
   "cell_type": "markdown",
   "metadata": {},
   "source": [
    "### Prompt templates help to translate user input and parameters into instructions for a language model. This can be used to guide a model's response, helping it understand the context and generate relevant and coherent language-based output.\n",
    "\n",
    "### Prompt Templates take as input a dictionary, where each key represents a variable in the prompt template to fill in.\n",
    "\n",
    "### Prompt Templates output a PromptValue. This PromptValue can be passed to an LLM or a ChatModel, and can also be cast to a string or a list of messages. The reason this PromptValue exists is to make it easy to switch between strings and messages."
   ]
  },
  {
   "cell_type": "markdown",
   "metadata": {},
   "source": [
    "## String PromptTemplates\n",
    "\n",
    "### These prompt templates are used to format a single string, and generally are used for simpler inputs. For example, a common way to construct and use a PromptTemplate is as follows:"
   ]
  },
  {
   "cell_type": "code",
   "execution_count": 14,
   "metadata": {},
   "outputs": [],
   "source": [
    "from langchain_core.prompts import PromptTemplate"
   ]
  },
  {
   "cell_type": "code",
   "execution_count": 15,
   "metadata": {},
   "outputs": [],
   "source": [
    "prompt_template = \"Translate the following English text to Japanese: {text}\"\n",
    "\n",
    "prompt = PromptTemplate.from_template(prompt_template)\n",
    "\n",
    "formatted_prompt = prompt.format(text =str(input(\"Enter the text to be translated: \")))"
   ]
  },
  {
   "cell_type": "code",
   "execution_count": 16,
   "metadata": {},
   "outputs": [
    {
     "name": "stdout",
     "output_type": "stream",
     "text": [
      "It seems like you forgot to include the English text you'd like me to translate. Please go ahead and provide the text, and I'll be happy to help you translate it into Japanese.\n"
     ]
    }
   ],
   "source": [
    "response = chat_groq_model.invoke(formatted_prompt)\n",
    "print(response.content)"
   ]
  },
  {
   "cell_type": "markdown",
   "metadata": {},
   "source": [
    "## ChatPromptTemplates\n",
    "\n",
    "### These prompt templates are used to format a list of messages. These \"templates\" consist of a list of templates themselves. For example, a common way to construct and use a ChatPromptTemplate is as follows:"
   ]
  },
  {
   "cell_type": "code",
   "execution_count": 17,
   "metadata": {},
   "outputs": [],
   "source": [
    "from langchain_core.prompts import ChatPromptTemplate\n",
    "\n",
    "chat_prompt_template = ChatPromptTemplate.from_messages(\n",
    "    [\n",
    "        (\"system\", \"You are an {profession} expert on {topic}\"),\n",
    "        (\"human\", \"Hello Mr. {profession}, can you please answer a question?\"),\n",
    "        (\"system\", \"Sure, what is your question?\"),\n",
    "        (\"human\", \"{user_input}\")\n",
    "    ]\n",
    ")"
   ]
  },
  {
   "cell_type": "code",
   "execution_count": 18,
   "metadata": {},
   "outputs": [],
   "source": [
    "messages = chat_prompt_template.format(\n",
    "    profession = \"astronomy\",\n",
    "    topic = \"black holes\",\n",
    "    user_input = \"What is a black hole?\"\n",
    ")"
   ]
  },
  {
   "cell_type": "code",
   "execution_count": 19,
   "metadata": {},
   "outputs": [
    {
     "name": "stdout",
     "output_type": "stream",
     "text": [
      "A black hole is a region in space where the gravitational pull is so strong that nothing, including light, can escape. It's formed when a massive star collapses in on itself and its gravity becomes so strong that it warps the fabric of spacetime around it.\n",
      "\n",
      "Imagine spacetime as a trampoline. If you place a heavy object, like a bowling ball, on the trampoline, it will warp and curve, creating a depression. That's similar to what a massive star does to spacetime. But if the star is massive enough, its gravity will become so strong that it will create a boundary called the event horizon.\n",
      "\n",
      "Once something crosses the event horizon, it's trapped by the black hole's gravity and can't escape. The point of no return is the event horizon, and anything that crosses it will be pulled towards the singularity at the center of the black hole.\n",
      "\n",
      "The singularity is a point of infinite density and zero volume, where the laws of physics as we know them break down. It's a region where our current understanding of physics can't explain what happens, and it's still an active area of research.\n",
      "\n",
      "Black holes come in different sizes, ranging from small, stellar-mass black holes formed from the collapse of individual stars, to supermassive black holes found at the centers of galaxies, with masses millions or even billions of times that of our sun.\n",
      "\n",
      "Would you like to know more about black holes, such as how they're detected or their role in the universe?\n"
     ]
    }
   ],
   "source": [
    "response = chat_groq_model.invoke(messages)\n",
    "print(response.content)"
   ]
  },
  {
   "cell_type": "markdown",
   "metadata": {},
   "source": [
    "## FewShot Prompt Template"
   ]
  },
  {
   "cell_type": "markdown",
   "metadata": {},
   "source": [
    "### prompt template that provides the model with example inputs and outputs when generating. Providing the LLM with a few such examples is called few-shotting, and is a simple yet powerful way to guide generation and in some cases drastically improve model performance.\n",
    "\n",
    "\n",
    "### A few-shot prompt template can be constructed from either a set of examples, or from an Example Selector class responsible for choosing a subset of examples from the defined set."
   ]
  },
  {
   "cell_type": "code",
   "execution_count": 20,
   "metadata": {},
   "outputs": [],
   "source": [
    "from langchain_core.prompts import FewShotChatMessagePromptTemplate,ChatPromptTemplate"
   ]
  },
  {
   "cell_type": "code",
   "execution_count": 21,
   "metadata": {},
   "outputs": [],
   "source": [
    "examples = [\n",
    "    {\"input\": \"hi!\", \"output\": \"¡hola!\"},\n",
    "    {\"input\": \"bye!\", \"output\": \"¡adiós!\"},\n",
    "]"
   ]
  },
  {
   "cell_type": "code",
   "execution_count": 22,
   "metadata": {},
   "outputs": [],
   "source": [
    "example_prompt = ChatPromptTemplate.from_messages(\n",
    "    [\n",
    "        (\"human\", \"{input}\"),\n",
    "        (\"ai\", \"{output}\")\n",
    "    ]\n",
    ")"
   ]
  },
  {
   "cell_type": "code",
   "execution_count": 23,
   "metadata": {},
   "outputs": [],
   "source": [
    "few_shot_prompt = FewShotChatMessagePromptTemplate(example_prompt=example_prompt\n",
    "                                                   , examples=examples)"
   ]
  },
  {
   "cell_type": "code",
   "execution_count": 24,
   "metadata": {},
   "outputs": [],
   "source": [
    "final_prompt = ChatPromptTemplate.from_messages(\n",
    "    [\n",
    "\n",
    "        (\"system\",\"You are an English-Spanish translator\"),\n",
    "        few_shot_prompt,\n",
    "        (\"human\",\"Translate '{input}' to Spanish\")\n",
    "    ]\n",
    ")"
   ]
  },
  {
   "cell_type": "code",
   "execution_count": 25,
   "metadata": {},
   "outputs": [],
   "source": [
    "formatted_prompt = final_prompt.format(input = str(input(\"Enter the text to be translated: \")))"
   ]
  },
  {
   "cell_type": "code",
   "execution_count": 26,
   "metadata": {},
   "outputs": [
    {
     "name": "stdout",
     "output_type": "stream",
     "text": [
      "It seems like you didn't provide any text to translate. Please provide the text you'd like me to translate into Spanish.\n"
     ]
    }
   ],
   "source": [
    "response = chat_groq_model.invoke(formatted_prompt)\n",
    "print(response.content)"
   ]
  }
 ],
 "metadata": {
  "kernelspec": {
   "display_name": "venv",
   "language": "python",
   "name": "python3"
  },
  "language_info": {
   "codemirror_mode": {
    "name": "ipython",
    "version": 3
   },
   "file_extension": ".py",
   "mimetype": "text/x-python",
   "name": "python",
   "nbconvert_exporter": "python",
   "pygments_lexer": "ipython3",
   "version": "3.13.1"
  }
 },
 "nbformat": 4,
 "nbformat_minor": 2
}
