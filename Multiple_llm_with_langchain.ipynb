{
 "cells": [
  {
   "cell_type": "code",
   "execution_count": 64,
   "metadata": {},
   "outputs": [],
   "source": [
    "import os\n",
    "from langchain_groq import ChatGroq\n",
    "from langchain_openai import ChatOpenAI\n",
    "from langchain import document_loaders\n",
    "from dotenv import load_dotenv"
   ]
  },
  {
   "cell_type": "code",
   "execution_count": 97,
   "metadata": {},
   "outputs": [
    {
     "data": {
      "text/plain": [
       "True"
      ]
     },
     "execution_count": 97,
     "metadata": {},
     "output_type": "execute_result"
    }
   ],
   "source": [
    "load_dotenv()"
   ]
  },
  {
   "cell_type": "markdown",
   "metadata": {},
   "source": [
    "# Groq : Mixtral-8x7b-32768"
   ]
  },
  {
   "cell_type": "code",
   "execution_count": 3,
   "metadata": {},
   "outputs": [],
   "source": [
    "chat_model = ChatGroq(\n",
    "    model=\"mixtral-8x7b-32768\",\n",
    "    temperature=0.0,\n",
    "    max_retries=2,\n",
    "    api_key = os.environ[\"GROP_API_KEY\"]\n",
    ")"
   ]
  },
  {
   "cell_type": "code",
   "execution_count": 55,
   "metadata": {},
   "outputs": [],
   "source": [
    "messages = [\n",
    "    (\n",
    "        \"system\",\n",
    "        \"You are a mathamtics expert. your task to to solve given equation with detail explanation\",\n",
    "    ),\n",
    "    (\"human\", \"Solve x^2 - 5x + 6= 0\"),\n",
    "]"
   ]
  },
  {
   "cell_type": "code",
   "execution_count": 7,
   "metadata": {},
   "outputs": [],
   "source": [
    "ai_msg = chat_model.invoke(messages)"
   ]
  },
  {
   "cell_type": "code",
   "execution_count": 8,
   "metadata": {},
   "outputs": [
    {
     "name": "stdout",
     "output_type": "stream",
     "text": [
      "Sure, I'd be happy to help you solve this quadratic equation!\n",
      "\n",
      "The general form of a quadratic equation is:\n",
      "\n",
      "ax^2 + bx + c = 0\n",
      "\n",
      "In this case, a = 1, b = -5, and c = 6.\n",
      "\n",
      "To solve the equation, we can use the quadratic formula:\n",
      "\n",
      "x = [-b ± sqrt(b^2 - 4ac)] / (2a)\n",
      "\n",
      "First, let's calculate the value under the square root, which is called the discriminant:\n",
      "\n",
      "b^2 - 4ac = (-5)^2 - 4(1)(6) = 25 - 24 = 1\n",
      "\n",
      "Since the discriminant is positive, the equation has two distinct real solutions.\n",
      "\n",
      "Now, let's calculate the solutions using the quadratic formula:\n",
      "\n",
      "x = [5 ± sqrt(1)] / (2*1)\n",
      "x = [5 ± 1] / 2\n",
      "\n",
      "So, the two solutions are:\n",
      "\n",
      "x = (5 + 1) / 2 = 6 / 2 = 3\n",
      "x = (5 - 1) / 2 = 4 / 2 = 2\n",
      "\n",
      "Therefore, the solutions to the equation x^2 - 5x + 6 = 0 are x = 2 and x = 3.\n"
     ]
    }
   ],
   "source": [
    "print(ai_msg.content)"
   ]
  },
  {
   "cell_type": "markdown",
   "metadata": {},
   "source": [
    "# Google : Gemini 1.5 Flash"
   ]
  },
  {
   "cell_type": "code",
   "execution_count": 9,
   "metadata": {},
   "outputs": [],
   "source": [
    "from langchain_google_vertexai import ChatVertexAI"
   ]
  },
  {
   "cell_type": "code",
   "execution_count": 14,
   "metadata": {},
   "outputs": [],
   "source": [
    "from google.cloud import aiplatform\n",
    "\n",
    "# Initialize Vertex AI with project and location\n",
    "aiplatform.init(project=\"stone-botany-444809-g8\", location=\"us-central1\")"
   ]
  },
  {
   "cell_type": "code",
   "execution_count": 18,
   "metadata": {},
   "outputs": [],
   "source": [
    "chat_google_model = ChatVertexAI(\n",
    "    model_name='gemini-1.5-flash-001',\n",
    "    temperature=0.0,\n",
    "    max_retries=2,\n",
    "    api_key = os.environ[\"GEMINI_API_KEY\"]\n",
    ")"
   ]
  },
  {
   "cell_type": "code",
   "execution_count": 19,
   "metadata": {},
   "outputs": [],
   "source": [
    "ai_msg = chat_google_model.invoke(messages)"
   ]
  },
  {
   "cell_type": "code",
   "execution_count": 20,
   "metadata": {},
   "outputs": [
    {
     "name": "stdout",
     "output_type": "stream",
     "text": [
      "We can solve this quadratic equation using the quadratic formula or by factoring. Here's how to do it both ways:\n",
      "\n",
      "**1. Using the Quadratic Formula**\n",
      "\n",
      "The quadratic formula is a general solution for equations of the form ax² + bx + c = 0:\n",
      "\n",
      "x = (-b ± √(b² - 4ac)) / 2a\n",
      "\n",
      "In our equation, a = 1, b = -5, and c = 6.  Let's substitute these values into the formula:\n",
      "\n",
      "x = (5 ± √((-5)² - 4 * 1 * 6)) / (2 * 1)\n",
      "x = (5 ± √(25 - 24)) / 2\n",
      "x = (5 ± √1) / 2\n",
      "x = (5 ± 1) / 2\n",
      "\n",
      "This gives us two possible solutions:\n",
      "\n",
      "* x = (5 + 1) / 2 = 3\n",
      "* x = (5 - 1) / 2 = 2\n",
      "\n",
      "**2. Factoring**\n",
      "\n",
      "We can factor the quadratic expression:\n",
      "\n",
      "x² - 5x + 6 = (x - 2)(x - 3) = 0\n",
      "\n",
      "For the product of two factors to be zero, at least one of them must be zero.  Therefore:\n",
      "\n",
      "* x - 2 = 0  =>  x = 2\n",
      "* x - 3 = 0  =>  x = 3\n",
      "\n",
      "**Conclusion**\n",
      "\n",
      "Both methods lead to the same solutions: x = 2 and x = 3. \n",
      "\n"
     ]
    }
   ],
   "source": [
    "print(ai_msg.content)"
   ]
  },
  {
   "cell_type": "markdown",
   "metadata": {},
   "source": [
    "# ChatAI21: jamba-instruct"
   ]
  },
  {
   "cell_type": "code",
   "execution_count": 21,
   "metadata": {},
   "outputs": [],
   "source": [
    "from langchain_ai21 import ChatAI21"
   ]
  },
  {
   "cell_type": "code",
   "execution_count": 24,
   "metadata": {},
   "outputs": [],
   "source": [
    "chat_AI21_Model = ChatAI21(\n",
    "    model= 'jamba-instruct',\n",
    "    temperature=0.8,\n",
    "    api_key= os.environ['AI21_API_KEY']\n",
    ")"
   ]
  },
  {
   "cell_type": "code",
   "execution_count": 25,
   "metadata": {},
   "outputs": [],
   "source": [
    "ai_msg = chat_AI21_Model.invoke(messages)"
   ]
  },
  {
   "cell_type": "code",
   "execution_count": 26,
   "metadata": {},
   "outputs": [
    {
     "name": "stdout",
     "output_type": "stream",
     "text": [
      "To solve the quadratic equation $$x^2 - 5x + 6 = 0$$\n",
      "\n",
      ", we can use the quadratic formula, which is given by:\n",
      "\n",
      "$$x = \\frac{-b \\pm \\sqrt{b^2 - 4ac}}{2a}$$\n",
      "\n",
      "For the equation $$x^2 - 5x + 6 = 0$$\n",
      "\n",
      ", the coefficients are:\n",
      "\n",
      "* $$a = 1$$\n",
      "\n",
      "* $$b = -5$$\n",
      "\n",
      "* $$c = 6$$\n",
      "\n",
      "Plugging these values into the quadratic formula, we get:\n",
      "\n",
      "$$x = \\frac{-(-5) \\pm \\sqrt{(-5)^2 - 4(1)(6)}}{2(1)}$$\n",
      "\n",
      "Simplify inside the square root:\n",
      "\n",
      "$$x = \\frac{5 \\pm \\sqrt{25 - 24}}{2}$$\n",
      "\n",
      "$$x = \\frac{5 \\pm \\sqrt{1}}{2}$$\n",
      "\n",
      "$$x = \\frac{5 \\pm 1}{2}$$\n",
      "\n",
      "This gives us two solutions:\n",
      "\n",
      "$$x = \\frac{5 + 1}{2} = \\frac{6}{2} = 3$$\n",
      "\n",
      "$$x = \\frac{5 - 1}{2} = \\frac{4}{2} = 2$$\n",
      "\n",
      "Therefore, the solutions to the equation $$x^2 - 5x + 6 = 0$$\n",
      "\n",
      " are:\n",
      "\n",
      "$$x = 3 \\quad \\text{and} \\quad x = 2$$\n"
     ]
    }
   ],
   "source": [
    "print(ai_msg.content)"
   ]
  },
  {
   "cell_type": "markdown",
   "metadata": {},
   "source": [
    "# Cohere"
   ]
  },
  {
   "cell_type": "code",
   "execution_count": 27,
   "metadata": {},
   "outputs": [],
   "source": [
    "from langchain_cohere import ChatCohere"
   ]
  },
  {
   "cell_type": "code",
   "execution_count": 32,
   "metadata": {},
   "outputs": [],
   "source": [
    "chat_cohere_model = ChatCohere(\n",
    "    temperature=0.8,\n",
    "    api_key= os.environ['COHERE_API_KEY']\n",
    ")"
   ]
  },
  {
   "cell_type": "code",
   "execution_count": 34,
   "metadata": {},
   "outputs": [],
   "source": [
    "ai_msg = chat_cohere_model.invoke(messages)"
   ]
  },
  {
   "cell_type": "code",
   "execution_count": 35,
   "metadata": {},
   "outputs": [
    {
     "name": "stdout",
     "output_type": "stream",
     "text": [
      "This equation can be solved using the quadratic formula:\n",
      "\n",
      "$$\n",
      "\\begin{equation*}\n",
      "    x = \\frac{-b \\pm \\sqrt{b^2 - 4ac}}{2a}\\,.\n",
      "\\end{equation*}\n",
      "$$\n",
      "\n",
      "Where:\n",
      "- $a = 1$\n",
      "- $b = -5$\n",
      "- $c = 6$\n",
      "\n",
      "Plugging these values into the formula, we get:\n",
      "\n",
      "$$\n",
      "\\begin{align*}\n",
      "    x & = \\frac{-(-5) \\pm \\sqrt{(-5)^2 - 4(1)(6)}}{2(1)} \\\\\n",
      "    & = \\frac{5 \\pm \\sqrt{25 - 24}}{2} \\\\\n",
      "    & = \\frac{5 \\pm \\sqrt{1}}{2} \\,.\n",
      "\\end{align*}\n",
      "$$\n",
      "\n",
      "Now, we can calculate the two possible values of $x$:\n",
      "\n",
      "- For $x_1$, we use the positive square root:\n",
      "\n",
      "  $$\n",
      "  \\begin{align*}\n",
      "      x_1 & = \\frac{5 + 1}{2} \\\\\n",
      "      & = \\frac{6}{2} \\\\\n",
      "      & = 3 \\,.\n",
      "  \\end{align*}\n",
      "  $$\n",
      "\n",
      "- For $x_2$, we use the negative square root:\n",
      "\n",
      "  $$\n",
      "  \\begin{align*}\n",
      "      x_2 & = \\frac{5 - 1}{2} \\\\\n",
      "      & = \\frac{4}{2} \\\\\n",
      "      & = 2 \\,.\n",
      "  \\end{align*}\n",
      "  $$\n",
      "\n",
      "So, the solutions to the equation $x^2 - 5x + 6 = 0$ are $x_1 = 3$ and $x_2 = 2$.\n"
     ]
    }
   ],
   "source": [
    "print(ai_msg.content)"
   ]
  },
  {
   "cell_type": "markdown",
   "metadata": {},
   "source": [
    "# Mistral AI"
   ]
  },
  {
   "cell_type": "code",
   "execution_count": 38,
   "metadata": {},
   "outputs": [],
   "source": [
    "from langchain_mistralai import ChatMistralAI"
   ]
  },
  {
   "cell_type": "code",
   "execution_count": 39,
   "metadata": {},
   "outputs": [],
   "source": [
    "chat_mistral_model = ChatMistralAI(\n",
    "    model=\"mistral-large-latest\",\n",
    "    temperature=0.8,\n",
    "    api_key=os.environ['MISTRAL_API_KEY']\n",
    ")"
   ]
  },
  {
   "cell_type": "code",
   "execution_count": 40,
   "metadata": {},
   "outputs": [],
   "source": [
    "ai_msg = chat_mistral_model.invoke(messages)"
   ]
  },
  {
   "cell_type": "code",
   "execution_count": 41,
   "metadata": {},
   "outputs": [
    {
     "name": "stdout",
     "output_type": "stream",
     "text": [
      "To solve the quadratic equation x^2 - 5x + 6 = 0, we can use factoring, completing the square, or the quadratic formula. In this case, the equation can be easily solved by factoring. Here's a detailed step-by-step solution:\n",
      "\n",
      "1. **Factoring**: We need to find two numbers that multiply to 6 (the constant term) and add up to -5 (the coefficient of the x term). Those numbers are -3 and -2.\n",
      "\n",
      "   x^2 - 5x + 6 = (x - 3)(x - 2) = 0\n",
      "\n",
      "2. **Setting each factor equal to zero**:\n",
      "\n",
      "   x - 3 = 0  or  x - 2 = 0\n",
      "\n",
      "3. **Solving for x**:\n",
      "\n",
      "   x = 3  or  x = 2\n",
      "\n",
      "So, the solutions to the equation x^2 - 5x + 6 = 0 are x = 2 and x = 3.\n",
      "\n",
      "Alternatively, we can use the **quadratic formula**:\n",
      "\n",
      "1. The quadratic formula is given by x = (-b ± √(b^2 - 4ac)) / (2a), where a, b, and c are coefficients from the quadratic equation ax^2 + bx + c = 0.\n",
      "\n",
      "2. For the given equation, a = 1, b = -5, and c = 6.\n",
      "\n",
      "3. Plugging these values into the quadratic formula, we get:\n",
      "\n",
      "   x = (-(-5) ± √((-5)^2 - 4(1)(6))) / (2(1))\n",
      "   x = (5 ± √(25 - 24)) / 2\n",
      "   x = (5 ± √1) / 2\n",
      "   x = (5 ± 1) / 2\n",
      "\n",
      "4. This gives us the two solutions:\n",
      "\n",
      "   x = (5 + 1) / 2 = 6 / 2 = 3\n",
      "   x = (5 - 1) / 2 = 4 / 2 = 2\n",
      "\n",
      "So, using the quadratic formula, we find the same solutions: x = 2 and x = 3.\n"
     ]
    }
   ],
   "source": [
    "print(ai_msg.content)"
   ]
  },
  {
   "cell_type": "markdown",
   "metadata": {},
   "source": [
    "# TogetherAI"
   ]
  },
  {
   "cell_type": "code",
   "execution_count": 42,
   "metadata": {},
   "outputs": [],
   "source": [
    "from langchain_together import ChatTogether"
   ]
  },
  {
   "cell_type": "code",
   "execution_count": 45,
   "metadata": {},
   "outputs": [],
   "source": [
    "together_llm = ChatTogether(\n",
    "    model=\"meta-llama/Llama-3-70b-chat-hf\",\n",
    "    temperature=0.8,\n",
    "    api_key=os.environ['TOGETHER_API_KEY']\n",
    ")"
   ]
  },
  {
   "cell_type": "code",
   "execution_count": 46,
   "metadata": {},
   "outputs": [],
   "source": [
    "ai_msg = together_llm.invoke(messages)"
   ]
  },
  {
   "cell_type": "code",
   "execution_count": 47,
   "metadata": {},
   "outputs": [
    {
     "name": "stdout",
     "output_type": "stream",
     "text": [
      "A simple quadratic equation!\n",
      "\n",
      "Let's solve for x:\n",
      "\n",
      "x^2 - 5x + 6 = 0\n",
      "\n",
      "To start, we can try to factor the left-hand side of the equation:\n",
      "\n",
      "x^2 - 5x + 6 = (x - 2)(x - 3) = 0\n",
      "\n",
      "This tells us that either (x - 2) = 0 or (x - 3) = 0.\n",
      "\n",
      "Solving for the first factor, we get:\n",
      "\n",
      "x - 2 = 0 --> x = 2\n",
      "\n",
      "And solving for the second factor, we get:\n",
      "\n",
      "x - 3 = 0 --> x = 3\n",
      "\n",
      "Therefore, the solutions to the equation are x = 2 and x = 3.\n",
      "\n",
      "In other words, the values of x that satisfy the equation are 2 and 3.\n",
      "\n",
      "Let's verify this by plugging these values back into the original equation:\n",
      "\n",
      "For x = 2:\n",
      "\n",
      "(2)^2 - 5(2) + 6 = 4 - 10 + 6 = 0 (checks out!)\n",
      "\n",
      "For x = 3:\n",
      "\n",
      "(3)^2 - 5(3) + 6 = 9 - 15 + 6 = 0 (checks out!)\n",
      "\n",
      "So, we have indeed found the correct solutions!\n",
      "\n",
      "If you'd like, we can also solve this equation using other methods, such as the quadratic formula or completing the square. Just let me know!\n"
     ]
    }
   ],
   "source": [
    "print(ai_msg.content)"
   ]
  },
  {
   "cell_type": "markdown",
   "metadata": {},
   "source": [
    "# ChatCerebras : llama3.1-70b"
   ]
  },
  {
   "cell_type": "code",
   "execution_count": 60,
   "metadata": {},
   "outputs": [],
   "source": [
    "from langchain_cerebras import ChatCerebras"
   ]
  },
  {
   "cell_type": "code",
   "execution_count": 61,
   "metadata": {},
   "outputs": [],
   "source": [
    "chat_cerebras_model = ChatCerebras(\n",
    "    model=\"llama3.1-70b\",\n",
    "    temperature=0.8,\n",
    "    api_key=os.environ[\"CEREBRAS_API_KEY\"]\n",
    "    )"
   ]
  },
  {
   "cell_type": "code",
   "execution_count": 62,
   "metadata": {},
   "outputs": [],
   "source": [
    "ai_msg = chat_cerebras_model.invoke(messages)"
   ]
  },
  {
   "cell_type": "code",
   "execution_count": 63,
   "metadata": {},
   "outputs": [
    {
     "name": "stdout",
     "output_type": "stream",
     "text": [
      "The given equation is a quadratic equation in the form of ax^2 + bx + c = 0, where:\n",
      "\n",
      "a = 1, b = -5, and c = 6.\n",
      "\n",
      "To solve this equation, we can use the factoring method, quadratic formula, or completing the square method. Here, we'll use the factoring method.\n",
      "\n",
      "**Step 1: Factor the quadratic expression**\n",
      "\n",
      "We need to find two numbers whose product is 6 (i.e., c) and whose sum is -5 (i.e., b). These numbers are -2 and -3, since (-2) × (-3) = 6 and (-2) + (-3) = -5.\n",
      "\n",
      "Now, we can rewrite the quadratic expression as:\n",
      "\n",
      "x^2 - 5x + 6 = (x - 2)(x - 3) = 0\n",
      "\n",
      "**Step 2: Solve for x**\n",
      "\n",
      "Since the product of (x - 2) and (x - 3) is equal to 0, at least one of the factors must be equal to 0. Therefore, we have:\n",
      "\n",
      "(x - 2) = 0 or (x - 3) = 0\n",
      "\n",
      "Solving for x, we get:\n",
      "\n",
      "x - 2 = 0 --> x = 2\n",
      "\n",
      "x - 3 = 0 --> x = 3\n",
      "\n",
      "Therefore, the solutions to the equation x^2 - 5x + 6 = 0 are x = 2 and x = 3.\n",
      "\n",
      "**Alternative method: Quadratic Formula**\n",
      "\n",
      "If we couldn't factor the quadratic expression, we could use the quadratic formula:\n",
      "\n",
      "x = (-b ± √(b^2 - 4ac)) / 2a\n",
      "\n",
      "In this case, we have:\n",
      "\n",
      "x = (5 ± √((-5)^2 - 4(1)(6))) / 2(1)\n",
      "x = (5 ± √(25 - 24)) / 2\n",
      "x = (5 ± √1) / 2\n",
      "x = (5 ± 1) / 2\n",
      "\n",
      "Simplifying, we get:\n",
      "\n",
      "x = (5 + 1) / 2 = 3\n",
      "x = (5 - 1) / 2 = 2\n",
      "\n",
      "These solutions match the ones we obtained using the factoring method.\n"
     ]
    }
   ],
   "source": [
    "print(ai_msg.content)"
   ]
  },
  {
   "cell_type": "markdown",
   "metadata": {},
   "source": [
    "# ChatHuggingFace"
   ]
  },
  {
   "cell_type": "code",
   "execution_count": 67,
   "metadata": {},
   "outputs": [],
   "source": [
    "from langchain_huggingface import ChatHuggingFace, HuggingFaceEndpoint"
   ]
  },
  {
   "cell_type": "code",
   "execution_count": 89,
   "metadata": {},
   "outputs": [],
   "source": [
    "llm = HuggingFaceEndpoint(\n",
    "    repo_id= 'HuggingFaceH4/zephyr-7b-alpha',\n",
    "    task= 'text-generation',\n",
    ")"
   ]
  },
  {
   "cell_type": "code",
   "execution_count": 90,
   "metadata": {},
   "outputs": [
    {
     "name": "stderr",
     "output_type": "stream",
     "text": [
      "d:\\Data_Science_Study\\Course_Pracitse_Code\\GenerativeAi\\LangChain_Basic\\langenv\\Lib\\site-packages\\huggingface_hub\\file_download.py:139: UserWarning: `huggingface_hub` cache-system uses symlinks by default to efficiently store duplicated files but your machine does not support them in C:\\Users\\rajda\\.cache\\huggingface\\hub\\models--HuggingFaceH4--zephyr-7b-alpha. Caching files will still work but in a degraded version that might require more space on your disk. This warning can be disabled by setting the `HF_HUB_DISABLE_SYMLINKS_WARNING` environment variable. For more details, see https://huggingface.co/docs/huggingface_hub/how-to-cache#limitations.\n",
      "To support symlinks on Windows, you either need to activate Developer Mode or to run Python as an administrator. In order to activate developer mode, see this article: https://docs.microsoft.com/en-us/windows/apps/get-started/enable-your-device-for-development\n",
      "  warnings.warn(message)\n"
     ]
    }
   ],
   "source": [
    "chat_huggingface_model = ChatHuggingFace(llm=llm)"
   ]
  },
  {
   "cell_type": "code",
   "execution_count": 93,
   "metadata": {},
   "outputs": [],
   "source": [
    "from langchain_core.messages import (\n",
    "    HumanMessage,\n",
    "    SystemMessage,\n",
    ")\n",
    "\n",
    "messages = [\n",
    "    SystemMessage(content=\"You're a helpful assistant\"),\n",
    "    HumanMessage(\n",
    "        content=\"What happens when an unstoppable force meets an immovable object?\"\n",
    "    ),\n",
    "]"
   ]
  },
  {
   "cell_type": "code",
   "execution_count": 94,
   "metadata": {},
   "outputs": [],
   "source": [
    "ai_msg = chat_huggingface_model.invoke(messages)"
   ]
  },
  {
   "cell_type": "code",
   "execution_count": 95,
   "metadata": {},
   "outputs": [
    {
     "name": "stdout",
     "output_type": "stream",
     "text": [
      "According to the commonly known but misleading idiom, the result of an unstoppable force meeting an immovable object is that neither the force nor the object can overcome or displace the other, resulting in an apparent contradiction. In reality, there is no such thing as an \"unstoppable force\" or an \"immovable object\" in the physical world, because both of those concepts violate the laws of physics. In fact, the concept of an un\n"
     ]
    }
   ],
   "source": [
    "print(ai_msg.content)"
   ]
  }
 ],
 "metadata": {
  "kernelspec": {
   "display_name": "langenv",
   "language": "python",
   "name": "python3"
  },
  "language_info": {
   "codemirror_mode": {
    "name": "ipython",
    "version": 3
   },
   "file_extension": ".py",
   "mimetype": "text/x-python",
   "name": "python",
   "nbconvert_exporter": "python",
   "pygments_lexer": "ipython3",
   "version": "3.11.0"
  }
 },
 "nbformat": 4,
 "nbformat_minor": 2
}
