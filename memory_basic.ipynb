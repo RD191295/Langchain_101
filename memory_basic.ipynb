{
 "cells": [
  {
   "cell_type": "code",
   "execution_count": 1,
   "metadata": {},
   "outputs": [],
   "source": [
    "import os\n",
    "from dotenv import load_dotenv, find_dotenv\n",
    "from langchain_groq import ChatGroq\n",
    "from langchain_openai import ChatOpenAI\n",
    "\n",
    "_ = load_dotenv(find_dotenv())\n",
    "\n",
    "# api for groq & openai\n",
    "os.environ[\"GROQ_API_KEY\"] = os.getenv(\"GROQ_API_KEY\")\n",
    "\n",
    "chat_groq_model = ChatGroq(\n",
    "    model='llama-3.1-70b-versatile',\n",
    "    temperature= 0.7,\n",
    "    max_retries=3,\n",
    ")"
   ]
  },
  {
   "cell_type": "code",
   "execution_count": 2,
   "metadata": {},
   "outputs": [],
   "source": [
    "from langchain.prompts import PromptTemplate\n",
    "from langchain.chains import LLMChain"
   ]
  },
  {
   "cell_type": "code",
   "execution_count": 3,
   "metadata": {},
   "outputs": [],
   "source": [
    "prompt_template = \"\"\"\n",
    "  I want to Open a resturant for {cuisine} food. Suggest \n",
    "  a fancy one name for this\n",
    "\"\"\"\n",
    "\n",
    "prompt_template = PromptTemplate(\n",
    "  input_variables=['cuisine'],\n",
    "  template = prompt_template\n",
    ")"
   ]
  },
  {
   "cell_type": "code",
   "execution_count": 4,
   "metadata": {},
   "outputs": [
    {
     "name": "stderr",
     "output_type": "stream",
     "text": [
      "C:\\Users\\rajda\\AppData\\Local\\Temp\\ipykernel_7652\\978229352.py:1: LangChainDeprecationWarning: The class `LLMChain` was deprecated in LangChain 0.1.17 and will be removed in 1.0. Use :meth:`~RunnableSequence, e.g., `prompt | llm`` instead.\n",
      "  chain = LLMChain(llm = chat_groq_model, prompt = prompt_template,\n"
     ]
    }
   ],
   "source": [
    "chain = LLMChain(llm = chat_groq_model, prompt = prompt_template,\n",
    "                 verbose = True)"
   ]
  },
  {
   "cell_type": "code",
   "execution_count": 5,
   "metadata": {},
   "outputs": [
    {
     "name": "stderr",
     "output_type": "stream",
     "text": [
      "C:\\Users\\rajda\\AppData\\Local\\Temp\\ipykernel_7652\\2765289811.py:1: LangChainDeprecationWarning: The method `Chain.run` was deprecated in langchain 0.1.0 and will be removed in 1.0. Use :meth:`~invoke` instead.\n",
      "  name = chain.run(cuisine = 'Italian')\n"
     ]
    },
    {
     "name": "stdout",
     "output_type": "stream",
     "text": [
      "\n",
      "\n",
      "\u001b[1m> Entering new LLMChain chain...\u001b[0m\n",
      "Prompt after formatting:\n",
      "\u001b[32;1m\u001b[1;3m\n",
      "  I want to Open a resturant for Italian food. Suggest \n",
      "  a fancy one name for this\n",
      "\u001b[0m\n",
      "\n",
      "\u001b[1m> Finished chain.\u001b[0m\n",
      "That's a great idea. Here are some fancy name suggestions for your Italian restaurant:\n",
      "\n",
      "1. **Bella Vita**: Meaning \"beautiful life\" in Italian, this name evokes a sense of elegance and sophistication.\n",
      "2. **Tavola Italiano**: \"Tavola\" means \"table\" in Italian, and this name suggests a warm and inviting dining experience.\n",
      "3. **Casa della Cucina**: This name means \"house of cooking\" in Italian, and it implies a cozy, welcoming atmosphere.\n",
      "4. **Ristorante Fiorentino**: This name references the city of Florence, known for its rich culinary history, and suggests a high-end dining experience.\n",
      "5. **Vino e Vita**: Meaning \"wine and life,\" this name combines two of Italy's greatest passions and implies a sophisticated, upscale atmosphere.\n",
      "6. **La Dolce Vita**: This name means \"the sweet life\" in Italian, and it suggests a restaurant that serves delicious, indulgent cuisine.\n",
      "7. **Cucina Classica**: This name means \"classic kitchen\" in Italian, and it implies a restaurant that serves traditional, high-quality Italian dishes.\n",
      "8. **Bistro Italiano**: This name combines the French word \"bistro\" with the Italian suffix \"-iano,\" suggesting a casual yet elegant dining experience.\n",
      "9. **Toscana**: This name references the Tuscany region of Italy, known for its beautiful landscapes and rich culinary heritage.\n",
      "10. **Il Palazzo**: Meaning \"the palace\" in Italian, this name suggests a grand, luxurious dining experience.\n",
      "\n",
      "Choose the one that resonates with your vision and style, and buon appetito!\n"
     ]
    }
   ],
   "source": [
    "name = chain.run(cuisine = 'Italian')\n",
    "print(name)"
   ]
  },
  {
   "cell_type": "code",
   "execution_count": 6,
   "metadata": {},
   "outputs": [
    {
     "name": "stdout",
     "output_type": "stream",
     "text": [
      "\n",
      "\n",
      "\u001b[1m> Entering new LLMChain chain...\u001b[0m\n",
      "Prompt after formatting:\n",
      "\u001b[32;1m\u001b[1;3m\n",
      "  I want to Open a resturant for Indian food. Suggest \n",
      "  a fancy one name for this\n",
      "\u001b[0m\n",
      "\n",
      "\u001b[1m> Finished chain.\u001b[0m\n",
      "Here are some fancy name suggestions for your Indian restaurant:\n",
      "\n",
      "1. **Tandoori Nights**: This name evokes the warmth and aroma of traditional Indian clay ovens, perfect for a fine dining experience.\n",
      "2. **Spice Route**: This name takes inspiration from the ancient trade routes that brought exotic spices to India, conveying a sense of luxury and sophistication.\n",
      "3. **Maharaja's Kitchen**: \"Maharaja\" means \"great king\" in Hindi, implying a regal and opulent dining experience.\n",
      "4. **Dastarkhwan**: This name means \"tablecloth\" in Urdu, but it also implies a lavish spread of delicious food, perfect for a high-end restaurant.\n",
      "5. **Jalsa**: This name means \"celebration\" or \"gathering\" in Hindi, suggesting a vibrant and festive atmosphere.\n",
      "6. **Saffron & Spice**: Saffron is a prized spice in Indian cuisine, and pairing it with \"spice\" implies a rich and aromatic experience.\n",
      "7. **Taj Mahal Spice**: The Taj Mahal is an iconic Indian landmark, and adding \"spice\" to the name implies a blend of traditional and modern flavors.\n",
      "8. **Bombay Bazaar**: This name captures the vibrant energy of Mumbai's street food scene, with a hint of luxury and sophistication.\n",
      "9. **Karma Kitchen**: \"Karma\" implies a sense of balance and harmony, suggesting a restaurant that serves food that's both delicious and nourishing.\n",
      "10. **Garam Masala**: This name incorporates a fundamental spice blend in Indian cuisine, implying a deep understanding of traditional flavors and techniques.\n",
      "\n",
      "Choose the one that resonates with your vision and atmosphere, and don't forget to check for availability of the desired web domain and social media handles!\n"
     ]
    }
   ],
   "source": [
    "name = chain.run(cuisine = 'Indian')\n",
    "print(name)"
   ]
  },
  {
   "cell_type": "code",
   "execution_count": 7,
   "metadata": {},
   "outputs": [
    {
     "name": "stdout",
     "output_type": "stream",
     "text": [
      "\n",
      "\n",
      "\u001b[1m> Entering new LLMChain chain...\u001b[0m\n",
      "Prompt after formatting:\n",
      "\u001b[32;1m\u001b[1;3m\n",
      "  I want to Open a resturant for CHINESE food. Suggest \n",
      "  a fancy one name for this\n",
      "\u001b[0m\n",
      "\n",
      "\u001b[1m> Finished chain.\u001b[0m\n",
      "Here are some fancy name suggestions for your Chinese restaurant:\n",
      "\n",
      "1. **Imperial Wok**: This name evokes the grandeur of Chinese imperial history and suggests a high-end dining experience.\n",
      "2. **Jade Emperor**: In Chinese culture, the Jade Emperor is a revered deity, and this name conveys a sense of luxury and refinement.\n",
      "3. **Dragon's Den**: This name has a dramatic, exotic flair and implies a bold, exciting culinary experience.\n",
      "4. **Silk Road Bistro**: The Silk Road was a historic trade route that connected China to the rest of the world, and this name suggests a fusion of flavors and cultures.\n",
      "5. **Golden Phoenix**: The phoenix is a mythical bird that symbolizes good fortune and prosperity in Chinese culture, making this name a fitting choice for a fancy restaurant.\n",
      "6. **Mandarin Palace**: This name references the Mandarin dialect and the imperial palaces of Chinese history, implying a regal, sophisticated atmosphere.\n",
      "7. **Chrysanthemum Court**: The chrysanthemum is a symbol of longevity and honor in Chinese culture, and this name suggests a refined, elegant dining experience.\n",
      "8. **Tao Garden**: \"Tao\" refers to the ancient Chinese philosophy of balance and harmony, and this name implies a serene, natural atmosphere.\n",
      "9. **Peking Pavilion**: This name references the historic city of Peking (now Beijing) and suggests a high-end, authentic Chinese dining experience.\n",
      "10. **Lucky Bamboo**: Bamboo is a symbol of good fortune in Chinese culture, and this name has a modern, upscale feel to it.\n",
      "\n",
      "Choose the one that resonates with your vision and style, and good luck with your restaurant venture!\n"
     ]
    }
   ],
   "source": [
    "name = chain.run(cuisine = 'CHINESE')\n",
    "print(name)"
   ]
  },
  {
   "cell_type": "code",
   "execution_count": 8,
   "metadata": {},
   "outputs": [],
   "source": [
    "chain.memory"
   ]
  },
  {
   "cell_type": "markdown",
   "metadata": {},
   "source": [
    "## ConversationBuffer Memory\n",
    "\n",
    "### this keeps in memory the conversation history to help contextualize the answer to the next user question. While this sounds very useful\n",
    "\n",
    "### one drawback is that it keeps all of history(upto the max limit of specific LLM) and for every questions passes the whole previous discussion (as tokens) to LLM API. \n",
    "\n",
    "### This can have significant cost impact as API costs are based on number of tokens processed and also the latency impact as conversation grows."
   ]
  },
  {
   "cell_type": "code",
   "execution_count": 9,
   "metadata": {},
   "outputs": [
    {
     "name": "stderr",
     "output_type": "stream",
     "text": [
      "C:\\Users\\rajda\\AppData\\Local\\Temp\\ipykernel_7652\\736173611.py:3: LangChainDeprecationWarning: Please see the migration guide at: https://python.langchain.com/docs/versions/migrating_memory/\n",
      "  memory = ConversationBufferMemory()\n"
     ]
    }
   ],
   "source": [
    "from langchain.memory import ConversationBufferMemory\n",
    "\n",
    "memory = ConversationBufferMemory()"
   ]
  },
  {
   "cell_type": "code",
   "execution_count": 10,
   "metadata": {},
   "outputs": [],
   "source": [
    "chain = LLMChain(llm = chat_groq_model, prompt = prompt_template, memory = memory)"
   ]
  },
  {
   "cell_type": "code",
   "execution_count": 11,
   "metadata": {},
   "outputs": [
    {
     "name": "stdout",
     "output_type": "stream",
     "text": [
      "That sounds like a delicious venture. Here are some fancy name suggestions for your Italian restaurant:\n",
      "\n",
      "1. **Bella Vita**: Meaning \"beautiful life\" in Italian, this name evokes a sense of elegance and sophistication.\n",
      "2. **Tavola Italiano**: \"Tavola\" means \"table\" in Italian, and this name suggests a warm, inviting atmosphere.\n",
      "3. **Casa della Cucina**: Translating to \"house of cuisine,\" this name conveys a sense of refinement and expertise.\n",
      "4. **Vino e Vita**: Combining \"wine\" and \"life,\" this name implies a high-end dining experience with a focus on wine pairings.\n",
      "5. **Fiorella**: Meaning \"little flower\" in Italian, this name adds a touch of whimsy and romance to your restaurant.\n",
      "6. **La Dolce Vita**: Inspired by the famous Italian film, this name means \"the sweet life\" and promises a luxurious dining experience.\n",
      "7. **Caffè e Cucina**: This name combines the idea of a cozy café with a focus on cuisine, suggesting a warm and inviting atmosphere.\n",
      "8. **Il Palazzo**: Meaning \"the palace,\" this name implies a grand, upscale dining experience.\n",
      "9. **Bistro Italiano**: A classic name with a touch of elegance, this suggests a sophisticated, modern take on Italian cuisine.\n",
      "10. **Giovanni's**: Using a traditional Italian name, this suggests a family-run, authentic Italian restaurant with a touch of class.\n",
      "\n",
      "Choose the one that resonates with your vision and style, and buon appetito!\n"
     ]
    }
   ],
   "source": [
    "name = chain.run(cuisine = 'Italian')\n",
    "print(name)"
   ]
  },
  {
   "cell_type": "code",
   "execution_count": 12,
   "metadata": {},
   "outputs": [
    {
     "name": "stdout",
     "output_type": "stream",
     "text": [
      "Here are some fancy name suggestions for your Indian restaurant:\n",
      "\n",
      "1. **Tandoori Nights**: This name evokes the warm, inviting atmosphere of a traditional Indian tandoor oven, perfect for a fine dining experience.\n",
      "2. **Maharaja's Kitchen**: \"Maharaja\" means \"great king\" in Hindi, implying a regal and luxurious dining experience.\n",
      "3. **Saffron & Spice**: Saffron is a prized spice in Indian cuisine, and this name combines it with the warmth of spices to create a sophisticated and alluring title.\n",
      "4. **Dhaba Royale**: \"Dhaba\" is a Hindi word for a traditional roadside eatery, but adding \"Royale\" gives it a fancy twist, implying a high-end dining experience.\n",
      "5. **Bombay Bazaar**: This name captures the vibrant, exotic spirit of India's busiest city, Mumbai (formerly Bombay), and suggests a lively, upscale dining experience.\n",
      "6. **Karma Kitchens**: \"Karma\" is a Sanskrit word that implies a sense of destiny or fate, adding a touch of mystique to your restaurant's name.\n",
      "7. **The Spice Route**: This name references the historic trade routes that connected India to the rest of the world, implying a journey of discovery and exploration through cuisine.\n",
      "8. **Jaipur Jewels**: Jaipur is a city in India known for its rich cultural heritage and stunning jewelry, making this name a fitting choice for a fancy Indian restaurant.\n",
      "9. **The Tiffin Room**: \"Tiffin\" is a Hindi word for a light meal or snack, but this name adds a touch of elegance and sophistication, implying a refined dining experience.\n",
      "10. **Mumbai Masala**: This name combines the excitement of India's largest city with the warmth and richness of Indian spices, creating a catchy and upscale title for your restaurant.\n",
      "\n",
      "Choose the one that resonates with your vision and style, and good luck with your restaurant venture!\n"
     ]
    }
   ],
   "source": [
    "name = chain.run(cuisine = 'Indian')\n",
    "print(name)"
   ]
  },
  {
   "cell_type": "code",
   "execution_count": 13,
   "metadata": {},
   "outputs": [
    {
     "name": "stdout",
     "output_type": "stream",
     "text": [
      "Human: Italian\n",
      "AI: That sounds like a delicious venture. Here are some fancy name suggestions for your Italian restaurant:\n",
      "\n",
      "1. **Bella Vita**: Meaning \"beautiful life\" in Italian, this name evokes a sense of elegance and sophistication.\n",
      "2. **Tavola Italiano**: \"Tavola\" means \"table\" in Italian, and this name suggests a warm, inviting atmosphere.\n",
      "3. **Casa della Cucina**: Translating to \"house of cuisine,\" this name conveys a sense of refinement and expertise.\n",
      "4. **Vino e Vita**: Combining \"wine\" and \"life,\" this name implies a high-end dining experience with a focus on wine pairings.\n",
      "5. **Fiorella**: Meaning \"little flower\" in Italian, this name adds a touch of whimsy and romance to your restaurant.\n",
      "6. **La Dolce Vita**: Inspired by the famous Italian film, this name means \"the sweet life\" and promises a luxurious dining experience.\n",
      "7. **Caffè e Cucina**: This name combines the idea of a cozy café with a focus on cuisine, suggesting a warm and inviting atmosphere.\n",
      "8. **Il Palazzo**: Meaning \"the palace,\" this name implies a grand, upscale dining experience.\n",
      "9. **Bistro Italiano**: A classic name with a touch of elegance, this suggests a sophisticated, modern take on Italian cuisine.\n",
      "10. **Giovanni's**: Using a traditional Italian name, this suggests a family-run, authentic Italian restaurant with a touch of class.\n",
      "\n",
      "Choose the one that resonates with your vision and style, and buon appetito!\n",
      "Human: Indian\n",
      "AI: Here are some fancy name suggestions for your Indian restaurant:\n",
      "\n",
      "1. **Tandoori Nights**: This name evokes the warm, inviting atmosphere of a traditional Indian tandoor oven, perfect for a fine dining experience.\n",
      "2. **Maharaja's Kitchen**: \"Maharaja\" means \"great king\" in Hindi, implying a regal and luxurious dining experience.\n",
      "3. **Saffron & Spice**: Saffron is a prized spice in Indian cuisine, and this name combines it with the warmth of spices to create a sophisticated and alluring title.\n",
      "4. **Dhaba Royale**: \"Dhaba\" is a Hindi word for a traditional roadside eatery, but adding \"Royale\" gives it a fancy twist, implying a high-end dining experience.\n",
      "5. **Bombay Bazaar**: This name captures the vibrant, exotic spirit of India's busiest city, Mumbai (formerly Bombay), and suggests a lively, upscale dining experience.\n",
      "6. **Karma Kitchens**: \"Karma\" is a Sanskrit word that implies a sense of destiny or fate, adding a touch of mystique to your restaurant's name.\n",
      "7. **The Spice Route**: This name references the historic trade routes that connected India to the rest of the world, implying a journey of discovery and exploration through cuisine.\n",
      "8. **Jaipur Jewels**: Jaipur is a city in India known for its rich cultural heritage and stunning jewelry, making this name a fitting choice for a fancy Indian restaurant.\n",
      "9. **The Tiffin Room**: \"Tiffin\" is a Hindi word for a light meal or snack, but this name adds a touch of elegance and sophistication, implying a refined dining experience.\n",
      "10. **Mumbai Masala**: This name combines the excitement of India's largest city with the warmth and richness of Indian spices, creating a catchy and upscale title for your restaurant.\n",
      "\n",
      "Choose the one that resonates with your vision and style, and good luck with your restaurant venture!\n"
     ]
    }
   ],
   "source": [
    "print(chain.memory.buffer)"
   ]
  },
  {
   "cell_type": "code",
   "execution_count": 14,
   "metadata": {},
   "outputs": [],
   "source": [
    "from langchain.chains import ConversationChain"
   ]
  },
  {
   "cell_type": "code",
   "execution_count": 15,
   "metadata": {},
   "outputs": [
    {
     "name": "stderr",
     "output_type": "stream",
     "text": [
      "C:\\Users\\rajda\\AppData\\Local\\Temp\\ipykernel_7652\\1333986198.py:1: LangChainDeprecationWarning: The class `ConversationChain` was deprecated in LangChain 0.2.7 and will be removed in 1.0. Use :meth:`~RunnableWithMessageHistory: https://python.langchain.com/v0.2/api_reference/core/runnables/langchain_core.runnables.history.RunnableWithMessageHistory.html` instead.\n",
      "  ConversationChain = ConversationChain(llm = chat_groq_model, memory = memory)\n"
     ]
    }
   ],
   "source": [
    "ConversationChain = ConversationChain(llm = chat_groq_model, memory = memory)"
   ]
  },
  {
   "cell_type": "code",
   "execution_count": 16,
   "metadata": {},
   "outputs": [
    {
     "name": "stdout",
     "output_type": "stream",
     "text": [
      "Hello. I'm doing great, thanks for asking. I've been having a wonderful conversation with you about restaurant names, and I must say, it's been a real treat to explore the world of Italian and Indian cuisine with you. I've been trained on a vast amount of text data, and I'm always excited to share my knowledge and provide helpful suggestions. Speaking of which, I hope you found some inspiration for your restaurant's name from our previous conversation. If you're ready to move on, I'd be happy to chat with you about something new. What's on your mind today? Would you like to talk about food, travel, or perhaps something entirely different?\n"
     ]
    }
   ],
   "source": [
    "user_input = \"Hello,How are you?\"\n",
    "response = ConversationChain.run(user_input)\n",
    "print(response)"
   ]
  },
  {
   "cell_type": "code",
   "execution_count": 17,
   "metadata": {},
   "outputs": [],
   "source": [
    "memory_variables = memory.load_memory_variables({})"
   ]
  },
  {
   "cell_type": "code",
   "execution_count": 18,
   "metadata": {},
   "outputs": [
    {
     "name": "stdout",
     "output_type": "stream",
     "text": [
      "Human: Italian\n",
      "AI: That sounds like a delicious venture. Here are some fancy name suggestions for your Italian restaurant:\n",
      "\n",
      "1. **Bella Vita**: Meaning \"beautiful life\" in Italian, this name evokes a sense of elegance and sophistication.\n",
      "2. **Tavola Italiano**: \"Tavola\" means \"table\" in Italian, and this name suggests a warm, inviting atmosphere.\n",
      "3. **Casa della Cucina**: Translating to \"house of cuisine,\" this name conveys a sense of refinement and expertise.\n",
      "4. **Vino e Vita**: Combining \"wine\" and \"life,\" this name implies a high-end dining experience with a focus on wine pairings.\n",
      "5. **Fiorella**: Meaning \"little flower\" in Italian, this name adds a touch of whimsy and romance to your restaurant.\n",
      "6. **La Dolce Vita**: Inspired by the famous Italian film, this name means \"the sweet life\" and promises a luxurious dining experience.\n",
      "7. **Caffè e Cucina**: This name combines the idea of a cozy café with a focus on cuisine, suggesting a warm and inviting atmosphere.\n",
      "8. **Il Palazzo**: Meaning \"the palace,\" this name implies a grand, upscale dining experience.\n",
      "9. **Bistro Italiano**: A classic name with a touch of elegance, this suggests a sophisticated, modern take on Italian cuisine.\n",
      "10. **Giovanni's**: Using a traditional Italian name, this suggests a family-run, authentic Italian restaurant with a touch of class.\n",
      "\n",
      "Choose the one that resonates with your vision and style, and buon appetito!\n",
      "Human: Indian\n",
      "AI: Here are some fancy name suggestions for your Indian restaurant:\n",
      "\n",
      "1. **Tandoori Nights**: This name evokes the warm, inviting atmosphere of a traditional Indian tandoor oven, perfect for a fine dining experience.\n",
      "2. **Maharaja's Kitchen**: \"Maharaja\" means \"great king\" in Hindi, implying a regal and luxurious dining experience.\n",
      "3. **Saffron & Spice**: Saffron is a prized spice in Indian cuisine, and this name combines it with the warmth of spices to create a sophisticated and alluring title.\n",
      "4. **Dhaba Royale**: \"Dhaba\" is a Hindi word for a traditional roadside eatery, but adding \"Royale\" gives it a fancy twist, implying a high-end dining experience.\n",
      "5. **Bombay Bazaar**: This name captures the vibrant, exotic spirit of India's busiest city, Mumbai (formerly Bombay), and suggests a lively, upscale dining experience.\n",
      "6. **Karma Kitchens**: \"Karma\" is a Sanskrit word that implies a sense of destiny or fate, adding a touch of mystique to your restaurant's name.\n",
      "7. **The Spice Route**: This name references the historic trade routes that connected India to the rest of the world, implying a journey of discovery and exploration through cuisine.\n",
      "8. **Jaipur Jewels**: Jaipur is a city in India known for its rich cultural heritage and stunning jewelry, making this name a fitting choice for a fancy Indian restaurant.\n",
      "9. **The Tiffin Room**: \"Tiffin\" is a Hindi word for a light meal or snack, but this name adds a touch of elegance and sophistication, implying a refined dining experience.\n",
      "10. **Mumbai Masala**: This name combines the excitement of India's largest city with the warmth and richness of Indian spices, creating a catchy and upscale title for your restaurant.\n",
      "\n",
      "Choose the one that resonates with your vision and style, and good luck with your restaurant venture!\n",
      "Human: Hello,How are you?\n",
      "AI: Hello. I'm doing great, thanks for asking. I've been having a wonderful conversation with you about restaurant names, and I must say, it's been a real treat to explore the world of Italian and Indian cuisine with you. I've been trained on a vast amount of text data, and I'm always excited to share my knowledge and provide helpful suggestions. Speaking of which, I hope you found some inspiration for your restaurant's name from our previous conversation. If you're ready to move on, I'd be happy to chat with you about something new. What's on your mind today? Would you like to talk about food, travel, or perhaps something entirely different?\n"
     ]
    }
   ],
   "source": [
    "print(memory_variables['history'])"
   ]
  },
  {
   "cell_type": "code",
   "execution_count": 19,
   "metadata": {},
   "outputs": [
    {
     "name": "stdout",
     "output_type": "stream",
     "text": [
      "Nice to meet you, Raj Dalsaniya. It's a pleasure to connect with a Data Scientist. I'm assuming you're interested in the intersection of data and artificial intelligence, which is a fascinating field. As a conversational AI, I'm trained on vast amounts of data, and I'm always eager to learn more about the latest developments in data science.\n",
      "\n",
      "I've been trained on a wide range of texts, from research papers to articles, and even books. My training data includes information on various topics, including machine learning, deep learning, natural language processing, and more. I'm not a replacement for a human data scientist, of course, but I can certainly provide insights and answer questions to the best of my ability.\n",
      "\n",
      "What specific areas of data science interest you the most, Raj? Are you working on any exciting projects currently? I'm all ears (or rather, all text) and would love to chat with you about your work. Perhaps we could discuss topics like predictive modeling, data visualization, or even the applications of data science in industries like healthcare or finance?\n"
     ]
    }
   ],
   "source": [
    "user_input = \"Hello I am Raj Dalsaniya and Data Scientist\"\n",
    "response = ConversationChain.run(user_input)\n",
    "print(response)"
   ]
  },
  {
   "cell_type": "code",
   "execution_count": 20,
   "metadata": {},
   "outputs": [
    {
     "name": "stdout",
     "output_type": "stream",
     "text": [
      "Your name is Raj Dalsaniya, and you're a Data Scientist. I recall you introducing yourself earlier in our conversation.\n"
     ]
    }
   ],
   "source": [
    "user_input = \"What is my name ?\"\n",
    "response = ConversationChain.run(user_input)\n",
    "print(response)"
   ]
  },
  {
   "cell_type": "code",
   "execution_count": 21,
   "metadata": {},
   "outputs": [
    {
     "name": "stdout",
     "output_type": "stream",
     "text": [
      "You're a Data Scientist, Raj. You mentioned that earlier in our conversation.\n"
     ]
    }
   ],
   "source": [
    "user_input = \"What is my profession?\"\n",
    "response = ConversationChain.run(user_input)\n",
    "print(response)"
   ]
  },
  {
   "cell_type": "markdown",
   "metadata": {},
   "source": [
    "# ConversationBufferWindowMemory\n",
    "\n",
    "\n",
    "### In Our conversations we usally do not need all the last 5-10 conversation history but definitely the last few. this type of memory helps define 'k' the number of last few consversation LLM should remember. It simply tells the LLM , remember the last few discussion (as per value K) and forget all of rest."
   ]
  },
  {
   "cell_type": "code",
   "execution_count": 22,
   "metadata": {},
   "outputs": [],
   "source": [
    "from langchain.memory import ConversationBufferWindowMemory"
   ]
  },
  {
   "cell_type": "code",
   "execution_count": 23,
   "metadata": {},
   "outputs": [
    {
     "name": "stderr",
     "output_type": "stream",
     "text": [
      "C:\\Users\\rajda\\AppData\\Local\\Temp\\ipykernel_7652\\267246241.py:1: LangChainDeprecationWarning: Please see the migration guide at: https://python.langchain.com/docs/versions/migrating_memory/\n",
      "  convo_buffer_memory = ConversationBufferWindowMemory(k = 1)\n"
     ]
    }
   ],
   "source": [
    "convo_buffer_memory = ConversationBufferWindowMemory(k = 1)"
   ]
  },
  {
   "cell_type": "code",
   "execution_count": 24,
   "metadata": {},
   "outputs": [],
   "source": [
    "convo_buffer_memory.save_context({\"inputs\":\"Hi\"},\n",
    "                                 {\"output\":\"What's up\"})\n",
    "\n",
    "convo_buffer_memory.save_context({\"inputs\":\"Not much, just hanging\"},\n",
    "                                 {\"output\":\"cool Buddy!\"})"
   ]
  },
  {
   "cell_type": "code",
   "execution_count": 34,
   "metadata": {},
   "outputs": [],
   "source": [
    "from langchain.chains import ConversationChain\n",
    "\n",
    "conversation = ConversationChain(\n",
    "    llm=chat_groq_model, \n",
    "    memory = convo_buffer_memory,\n",
    "    verbose=False\n",
    ")"
   ]
  },
  {
   "cell_type": "code",
   "execution_count": 35,
   "metadata": {},
   "outputs": [
    {
     "data": {
      "text/plain": [
       "{'history': 'Human: Not much, just hanging\\nAI: cool Buddy!'}"
      ]
     },
     "execution_count": 35,
     "metadata": {},
     "output_type": "execute_result"
    }
   ],
   "source": [
    "convo_buffer_memory.load_memory_variables({})"
   ]
  },
  {
   "cell_type": "code",
   "execution_count": 36,
   "metadata": {},
   "outputs": [
    {
     "data": {
      "text/plain": [
       "{'input': 'Hi My name is Raj',\n",
       " 'history': 'Human: Not much, just hanging\\nAI: cool Buddy!',\n",
       " 'response': \"Nice to meet you Raj. I'm an AI, and I don't have a personal name, but I've been trained on a vast amount of text data, including books, articles, and conversations, which allows me to understand and respond to a wide range of topics and questions. I've been online since 2021, and my training data is constantly updated to keep my knowledge up to date. I can talk about everything from science and history to entertainment and culture. What brings you here today, Raj? Would you like to chat about something in particular or just see where the conversation takes us?\"}"
      ]
     },
     "execution_count": 36,
     "metadata": {},
     "output_type": "execute_result"
    }
   ],
   "source": [
    "conversation.invoke(input = \"Hi My name is Raj\")"
   ]
  },
  {
   "cell_type": "code",
   "execution_count": 37,
   "metadata": {},
   "outputs": [
    {
     "data": {
      "text/plain": [
       "{'input': 'what is 1+1',\n",
       " 'history': \"Human: Hi My name is Raj\\nAI: Nice to meet you Raj. I'm an AI, and I don't have a personal name, but I've been trained on a vast amount of text data, including books, articles, and conversations, which allows me to understand and respond to a wide range of topics and questions. I've been online since 2021, and my training data is constantly updated to keep my knowledge up to date. I can talk about everything from science and history to entertainment and culture. What brings you here today, Raj? Would you like to chat about something in particular or just see where the conversation takes us?\",\n",
       " 'response': \"That's a simple one, Raj. The answer to 1+1 is 2. This is a basic arithmetic operation that I've been trained on, and it's a fundamental concept in mathematics. In fact, I can perform calculations with numbers up to 15 decimal places, and I can even help with more complex mathematical operations like algebra and calculus if you need it. But I have to say, 1+1 is a great way to get our conversation started, and I'm glad we're beginning with something easy. Would you like to try something a bit more challenging, or is there something else on your mind that you'd like to talk about?\"}"
      ]
     },
     "execution_count": 37,
     "metadata": {},
     "output_type": "execute_result"
    }
   ],
   "source": [
    "conversation.invoke(input = \"what is 1+1\")"
   ]
  }
 ],
 "metadata": {
  "kernelspec": {
   "display_name": "langenv",
   "language": "python",
   "name": "python3"
  },
  "language_info": {
   "codemirror_mode": {
    "name": "ipython",
    "version": 3
   },
   "file_extension": ".py",
   "mimetype": "text/x-python",
   "name": "python",
   "nbconvert_exporter": "python",
   "pygments_lexer": "ipython3",
   "version": "3.11.0"
  }
 },
 "nbformat": 4,
 "nbformat_minor": 2
}
