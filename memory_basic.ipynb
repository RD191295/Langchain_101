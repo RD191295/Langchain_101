{
 "cells": [
  {
   "cell_type": "code",
   "execution_count": 1,
   "metadata": {},
   "outputs": [],
   "source": [
    "import os\n",
    "from dotenv import load_dotenv, find_dotenv\n",
    "\n",
    "_ = load_dotenv(find_dotenv())\n",
    "\n",
    "# api for groq\n",
    "GROQ_API = os.getenv(\"GROQ_API\")\n",
    "from langchain_groq import ChatGroq\n",
    "\n",
    "chat_groq_model = ChatGroq(\n",
    "    model='llama-3.1-70b-versatile',\n",
    "    api_key = GROQ_API,\n",
    "    temperature= 0.7,\n",
    "    max_retries=3,\n",
    ")"
   ]
  },
  {
   "cell_type": "code",
   "execution_count": 2,
   "metadata": {},
   "outputs": [],
   "source": [
    "from langchain.prompts import PromptTemplate\n",
    "from langchain.chains import LLMChain"
   ]
  },
  {
   "cell_type": "code",
   "execution_count": 4,
   "metadata": {},
   "outputs": [],
   "source": [
    "prompt_template = \"\"\"\n",
    "  I want to Open a resturant for {cuisine} food. Suggest \n",
    "  a fancy one name for this\n",
    "\"\"\"\n",
    "\n",
    "prompt_template = PromptTemplate(\n",
    "  input_variables=['cuisine'],\n",
    "  template = prompt_template\n",
    ")"
   ]
  },
  {
   "cell_type": "code",
   "execution_count": 5,
   "metadata": {},
   "outputs": [
    {
     "name": "stderr",
     "output_type": "stream",
     "text": [
      "C:\\Users\\rajda\\AppData\\Local\\Temp\\ipykernel_16948\\978229352.py:1: LangChainDeprecationWarning: The class `LLMChain` was deprecated in LangChain 0.1.17 and will be removed in 1.0. Use :meth:`~RunnableSequence, e.g., `prompt | llm`` instead.\n",
      "  chain = LLMChain(llm = chat_groq_model, prompt = prompt_template,\n"
     ]
    }
   ],
   "source": [
    "chain = LLMChain(llm = chat_groq_model, prompt = prompt_template,\n",
    "                 verbose = True)"
   ]
  },
  {
   "cell_type": "code",
   "execution_count": 6,
   "metadata": {},
   "outputs": [
    {
     "name": "stderr",
     "output_type": "stream",
     "text": [
      "C:\\Users\\rajda\\AppData\\Local\\Temp\\ipykernel_16948\\2765289811.py:1: LangChainDeprecationWarning: The method `Chain.run` was deprecated in langchain 0.1.0 and will be removed in 1.0. Use :meth:`~invoke` instead.\n",
      "  name = chain.run(cuisine = 'Italian')\n"
     ]
    },
    {
     "name": "stdout",
     "output_type": "stream",
     "text": [
      "\n",
      "\n",
      "\u001b[1m> Entering new LLMChain chain...\u001b[0m\n",
      "Prompt after formatting:\n",
      "\u001b[32;1m\u001b[1;3m\n",
      "  I want to Open a resturant for Italian food. Suggest \n",
      "  a fancy one name for this\n",
      "\u001b[0m\n",
      "\n",
      "\u001b[1m> Finished chain.\u001b[0m\n",
      "Here are a few fancy name suggestions for your Italian restaurant:\n",
      "\n",
      "1. **Bella Vita**: Meaning \"beautiful life\" in Italian, this name conveys a sense of elegance and sophistication.\n",
      "2. **Casa Toscana**: This name evokes the rolling hills and rich flavors of Tuscany, implying a high-end dining experience.\n",
      "3. **Ristorante Amore**: \"Amore\" means love, and this name suggests a romantic and intimate atmosphere, perfect for special occasions.\n",
      "4. **Il Palazzo**: This name means \"the palace\" in Italian, implying a grand and luxurious dining experience.\n",
      "5. **Vino e Vita**: This name combines the Italian words for \"wine\" and \"life,\" suggesting a sophisticated and refined atmosphere.\n",
      "6. **La Dolce Vita**: This name, meaning \"the sweet life,\" implies a luxurious and indulgent dining experience.\n",
      "7. **Caffè della Casa**: This name, meaning \"coffee of the house,\" suggests a cozy and inviting atmosphere, while also implying a high-end coffee and dining experience.\n",
      "8. **Tavola Italiana**: This name, meaning \"Italian table,\" implies a warm and welcoming atmosphere, while also emphasizing the restaurant's focus on traditional Italian cuisine.\n",
      "9. **Bistro Italiano**: This name combines the French word \"bistro\" with the Italian suffix \"-iano,\" suggesting a chic and sophisticated dining experience.\n",
      "10. **Il Cuore**: This name, meaning \"the heart,\" implies a warm and inviting atmosphere, while also suggesting a deep passion for Italian cuisine.\n",
      "\n",
      "Choose the one that resonates with your vision and style, and buon appetito!\n"
     ]
    }
   ],
   "source": [
    "name = chain.run(cuisine = 'Italian')\n",
    "print(name)"
   ]
  },
  {
   "cell_type": "code",
   "execution_count": 7,
   "metadata": {},
   "outputs": [
    {
     "name": "stdout",
     "output_type": "stream",
     "text": [
      "\n",
      "\n",
      "\u001b[1m> Entering new LLMChain chain...\u001b[0m\n",
      "Prompt after formatting:\n",
      "\u001b[32;1m\u001b[1;3m\n",
      "  I want to Open a resturant for Indian food. Suggest \n",
      "  a fancy one name for this\n",
      "\u001b[0m\n",
      "\n",
      "\u001b[1m> Finished chain.\u001b[0m\n",
      "Here are some fancy name suggestions for your Indian restaurant:\n",
      "\n",
      "1. **Tandoori Nights**: This name evokes the warm, aromatic flavors of Indian cuisine and suggests a sophisticated dining experience.\n",
      "2. **Spice Route**: This name references the ancient trade routes that brought exotic spices to India, implying a rich and varied culinary experience.\n",
      "3. **Maharaja's Kitchen**: \"Maharaja\" means \"great king\" in Hindi, so this name suggests a regal and luxurious dining experience.\n",
      "4. **Dhaba Royale**: \"Dhaba\" is a type of Indian roadside eatery, but adding \"Royale\" gives it a fancy twist, implying a high-end version of traditional Indian cuisine.\n",
      "5. **Saffron & Spice**: Saffron is a luxurious and expensive spice commonly used in Indian cooking, so this name suggests a high-end dining experience with a focus on exotic flavors.\n",
      "6. **Taj Mahal Cuisine**: The Taj Mahal is one of India's most famous landmarks, so this name suggests a majestic and impressive dining experience.\n",
      "7. **Bombay Bazaar**: This name references the vibrant and bustling city of Mumbai (formerly Bombay), implying a colorful and exciting culinary experience.\n",
      "8. **Karma Kitchen**: \"Karma\" is a concept in Hinduism and Buddhism that refers to the idea of cosmic balance and harmony, so this name suggests a restaurant that serves food that is both nourishing and spiritually uplifting.\n",
      "9. **Garam Masala**: \"Garam masala\" is a blend of ground spices that is commonly used in Indian cooking, so this name suggests a restaurant that specializes in bold and aromatic flavors.\n",
      "10. **Mumbai Mansion**: This name suggests a luxurious and sophisticated dining experience, with a focus on the rich and varied cuisine of Mumbai.\n",
      "\n",
      "I hope one of these suggestions inspires you to find the perfect name for your Indian restaurant!\n"
     ]
    }
   ],
   "source": [
    "name = chain.run(cuisine = 'Indian')\n",
    "print(name)"
   ]
  },
  {
   "cell_type": "code",
   "execution_count": 9,
   "metadata": {},
   "outputs": [],
   "source": [
    "chain.memory"
   ]
  },
  {
   "cell_type": "markdown",
   "metadata": {},
   "source": [
    "## Adding ConversationBuffer Memory"
   ]
  },
  {
   "cell_type": "code",
   "execution_count": 12,
   "metadata": {},
   "outputs": [
    {
     "name": "stderr",
     "output_type": "stream",
     "text": [
      "C:\\Users\\rajda\\AppData\\Local\\Temp\\ipykernel_16948\\736173611.py:3: LangChainDeprecationWarning: Please see the migration guide at: https://python.langchain.com/docs/versions/migrating_memory/\n",
      "  memory = ConversationBufferMemory()\n"
     ]
    }
   ],
   "source": [
    "from langchain.memory import ConversationBufferMemory\n",
    "\n",
    "memory = ConversationBufferMemory()"
   ]
  },
  {
   "cell_type": "code",
   "execution_count": 13,
   "metadata": {},
   "outputs": [],
   "source": [
    "chain = LLMChain(llm = chat_groq_model, prompt = prompt_template, memory = memory)"
   ]
  },
  {
   "cell_type": "code",
   "execution_count": 14,
   "metadata": {},
   "outputs": [
    {
     "name": "stdout",
     "output_type": "stream",
     "text": [
      "That sounds like a delicious venture. Here are some fancy name suggestions for your Italian restaurant:\n",
      "\n",
      "1. **Bella Vita**: Meaning \"Beautiful Life\" in Italian, this name evokes a sense of elegance and sophistication.\n",
      "2. **Casa Toscana**: This name transports customers to the rolling hills of Tuscany, conveying a sense of warmth and hospitality.\n",
      "3. **Il Palazzo**: Meaning \"The Palace\" in Italian, this name suggests a grand and luxurious dining experience.\n",
      "4. **Vino e Vita**: This name combines the Italian words for \"wine\" and \"life,\" implying a restaurant that offers a refined and enjoyable experience.\n",
      "5. **Ristorante Firenze**: This name pays homage to the birthplace of the Italian Renaissance, Florence, and suggests a high-end dining experience.\n",
      "6. **La Cucina Italiana**: This name highlights the rich culinary traditions of Italy and implies a focus on authentic, high-quality cuisine.\n",
      "7. **Tavola Italiana**: Meaning \"Italian Table\" in Italian, this name conveys a sense of warmth and hospitality, inviting customers to gather and enjoy a delicious meal.\n",
      "8. **Il Bistro Italiano**: This name combines the French word \"bistro\" with Italian flair, suggesting a cozy and intimate dining experience.\n",
      "9. **Casa Bella**: This name means \"Beautiful House\" in Italian, implying a warm and welcoming atmosphere.\n",
      "10. **Dolce Vita Ristorante**: This name combines the Italian phrase for \"Sweet Life\" with a sophisticated dining experience, promising customers a delightful and memorable meal.\n",
      "\n",
      "Choose the one that resonates with your vision and style, and buon appetito!\n"
     ]
    }
   ],
   "source": [
    "name = chain.run(cuisine = 'Italian')\n",
    "print(name)"
   ]
  },
  {
   "cell_type": "code",
   "execution_count": 15,
   "metadata": {},
   "outputs": [
    {
     "name": "stdout",
     "output_type": "stream",
     "text": [
      "Here are some fancy name suggestions for your Indian restaurant:\n",
      "\n",
      "1. **Tandoori Nights**: This name evokes the warmth and aromas of traditional Indian cuisine, with a hint of luxury and sophistication.\n",
      "2. **Mumbai Maharaja**: This name combines the vibrant energy of Mumbai with the regal splendor of a maharaja, suggesting a high-end dining experience.\n",
      "3. **Spice Route Palace**: This name references the ancient spice trade routes that connected India to the rest of the world, with a nod to the opulence and grandeur of a palace.\n",
      "4. **Dhaba Royale**: \"Dhaba\" is a colloquial term for a roadside eatery in India, but adding \"Royale\" gives it a fancy twist, suggesting a upscale take on traditional Indian cuisine.\n",
      "5. **Jaipur Jewel**: This name references the beautiful city of Jaipur, known for its stunning architecture and rich cultural heritage, with a nod to the precious gems and jewels that India is famous for.\n",
      "6. **Taste of Taj**: This name references the iconic Taj Mahal, one of India's most famous landmarks, suggesting a restaurant that serves up a taste of India's rich history and culture.\n",
      "7. **Karma Kitchen**: This name has a modern, upscale feel, with a nod to the concept of karma and the idea that good food can bring good fortune.\n",
      "8. **Bombay Bazaar**: This name references the vibrant energy of Mumbai (formerly known as Bombay), with a nod to the bustling bazaars and markets that are a hallmark of Indian culture.\n",
      "9. **Saffron & Spice**: This name references two of the most iconic ingredients in Indian cuisine, with a nod to the warm, aromatic flavors that define the country's cooking.\n",
      "10. **Maharani's Kitchen**: \"Maharani\" is a term for a queen or princess in India, and this name suggests a restaurant that serves up regal, indulgent cuisine fit for royalty.\n",
      "\n",
      "I hope one of these suggestions sparks your interest and helps you find the perfect name for your Indian restaurant!\n"
     ]
    }
   ],
   "source": [
    "name = chain.run(cuisine = 'Indian')\n",
    "print(name)"
   ]
  },
  {
   "cell_type": "code",
   "execution_count": 17,
   "metadata": {},
   "outputs": [
    {
     "name": "stdout",
     "output_type": "stream",
     "text": [
      "Human: Italian\n",
      "AI: That sounds like a delicious venture. Here are some fancy name suggestions for your Italian restaurant:\n",
      "\n",
      "1. **Bella Vita**: Meaning \"Beautiful Life\" in Italian, this name evokes a sense of elegance and sophistication.\n",
      "2. **Casa Toscana**: This name transports customers to the rolling hills of Tuscany, conveying a sense of warmth and hospitality.\n",
      "3. **Il Palazzo**: Meaning \"The Palace\" in Italian, this name suggests a grand and luxurious dining experience.\n",
      "4. **Vino e Vita**: This name combines the Italian words for \"wine\" and \"life,\" implying a restaurant that offers a refined and enjoyable experience.\n",
      "5. **Ristorante Firenze**: This name pays homage to the birthplace of the Italian Renaissance, Florence, and suggests a high-end dining experience.\n",
      "6. **La Cucina Italiana**: This name highlights the rich culinary traditions of Italy and implies a focus on authentic, high-quality cuisine.\n",
      "7. **Tavola Italiana**: Meaning \"Italian Table\" in Italian, this name conveys a sense of warmth and hospitality, inviting customers to gather and enjoy a delicious meal.\n",
      "8. **Il Bistro Italiano**: This name combines the French word \"bistro\" with Italian flair, suggesting a cozy and intimate dining experience.\n",
      "9. **Casa Bella**: This name means \"Beautiful House\" in Italian, implying a warm and welcoming atmosphere.\n",
      "10. **Dolce Vita Ristorante**: This name combines the Italian phrase for \"Sweet Life\" with a sophisticated dining experience, promising customers a delightful and memorable meal.\n",
      "\n",
      "Choose the one that resonates with your vision and style, and buon appetito!\n",
      "Human: Indian\n",
      "AI: Here are some fancy name suggestions for your Indian restaurant:\n",
      "\n",
      "1. **Tandoori Nights**: This name evokes the warmth and aromas of traditional Indian cuisine, with a hint of luxury and sophistication.\n",
      "2. **Mumbai Maharaja**: This name combines the vibrant energy of Mumbai with the regal splendor of a maharaja, suggesting a high-end dining experience.\n",
      "3. **Spice Route Palace**: This name references the ancient spice trade routes that connected India to the rest of the world, with a nod to the opulence and grandeur of a palace.\n",
      "4. **Dhaba Royale**: \"Dhaba\" is a colloquial term for a roadside eatery in India, but adding \"Royale\" gives it a fancy twist, suggesting a upscale take on traditional Indian cuisine.\n",
      "5. **Jaipur Jewel**: This name references the beautiful city of Jaipur, known for its stunning architecture and rich cultural heritage, with a nod to the precious gems and jewels that India is famous for.\n",
      "6. **Taste of Taj**: This name references the iconic Taj Mahal, one of India's most famous landmarks, suggesting a restaurant that serves up a taste of India's rich history and culture.\n",
      "7. **Karma Kitchen**: This name has a modern, upscale feel, with a nod to the concept of karma and the idea that good food can bring good fortune.\n",
      "8. **Bombay Bazaar**: This name references the vibrant energy of Mumbai (formerly known as Bombay), with a nod to the bustling bazaars and markets that are a hallmark of Indian culture.\n",
      "9. **Saffron & Spice**: This name references two of the most iconic ingredients in Indian cuisine, with a nod to the warm, aromatic flavors that define the country's cooking.\n",
      "10. **Maharani's Kitchen**: \"Maharani\" is a term for a queen or princess in India, and this name suggests a restaurant that serves up regal, indulgent cuisine fit for royalty.\n",
      "\n",
      "I hope one of these suggestions sparks your interest and helps you find the perfect name for your Indian restaurant!\n"
     ]
    }
   ],
   "source": [
    "print(chain.memory.buffer)"
   ]
  },
  {
   "cell_type": "code",
   "execution_count": 18,
   "metadata": {},
   "outputs": [],
   "source": [
    "from langchain.chains import ConversationChain"
   ]
  },
  {
   "cell_type": "code",
   "execution_count": 19,
   "metadata": {},
   "outputs": [
    {
     "name": "stderr",
     "output_type": "stream",
     "text": [
      "C:\\Users\\rajda\\AppData\\Local\\Temp\\ipykernel_16948\\1333986198.py:1: LangChainDeprecationWarning: The class `ConversationChain` was deprecated in LangChain 0.2.7 and will be removed in 1.0. Use :meth:`~RunnableWithMessageHistory: https://python.langchain.com/v0.2/api_reference/core/runnables/langchain_core.runnables.history.RunnableWithMessageHistory.html` instead.\n",
      "  ConversationChain = ConversationChain(llm = chat_groq_model, memory = memory)\n"
     ]
    }
   ],
   "source": [
    "ConversationChain = ConversationChain(llm = chat_groq_model, memory = memory)"
   ]
  },
  {
   "cell_type": "code",
   "execution_count": 20,
   "metadata": {},
   "outputs": [
    {
     "name": "stdout",
     "output_type": "stream",
     "text": [
      "Hello. I'm doing well, thank you for asking. I've been having a great conversation with you about restaurant names, from Italian to Indian. It's been a fascinating journey exploring the different cultures and cuisines. I must say, I'm impressed by the diversity of options we've discussed so far. If you're looking to open a restaurant, I hope our conversation has been helpful in sparking some ideas. If you have any more questions or need further suggestions, feel free to ask. By the way, is there a particular type of cuisine or restaurant theme you're leaning towards, or would you like to explore more options?\n"
     ]
    }
   ],
   "source": [
    "user_input = \"Hello,How are you?\"\n",
    "response = ConversationChain.run(user_input)\n",
    "print(response)"
   ]
  },
  {
   "cell_type": "code",
   "execution_count": 22,
   "metadata": {},
   "outputs": [],
   "source": [
    "memory_variables = memory.load_memory_variables({})"
   ]
  },
  {
   "cell_type": "code",
   "execution_count": 23,
   "metadata": {},
   "outputs": [
    {
     "name": "stdout",
     "output_type": "stream",
     "text": [
      "Human: Italian\n",
      "AI: That sounds like a delicious venture. Here are some fancy name suggestions for your Italian restaurant:\n",
      "\n",
      "1. **Bella Vita**: Meaning \"Beautiful Life\" in Italian, this name evokes a sense of elegance and sophistication.\n",
      "2. **Casa Toscana**: This name transports customers to the rolling hills of Tuscany, conveying a sense of warmth and hospitality.\n",
      "3. **Il Palazzo**: Meaning \"The Palace\" in Italian, this name suggests a grand and luxurious dining experience.\n",
      "4. **Vino e Vita**: This name combines the Italian words for \"wine\" and \"life,\" implying a restaurant that offers a refined and enjoyable experience.\n",
      "5. **Ristorante Firenze**: This name pays homage to the birthplace of the Italian Renaissance, Florence, and suggests a high-end dining experience.\n",
      "6. **La Cucina Italiana**: This name highlights the rich culinary traditions of Italy and implies a focus on authentic, high-quality cuisine.\n",
      "7. **Tavola Italiana**: Meaning \"Italian Table\" in Italian, this name conveys a sense of warmth and hospitality, inviting customers to gather and enjoy a delicious meal.\n",
      "8. **Il Bistro Italiano**: This name combines the French word \"bistro\" with Italian flair, suggesting a cozy and intimate dining experience.\n",
      "9. **Casa Bella**: This name means \"Beautiful House\" in Italian, implying a warm and welcoming atmosphere.\n",
      "10. **Dolce Vita Ristorante**: This name combines the Italian phrase for \"Sweet Life\" with a sophisticated dining experience, promising customers a delightful and memorable meal.\n",
      "\n",
      "Choose the one that resonates with your vision and style, and buon appetito!\n",
      "Human: Indian\n",
      "AI: Here are some fancy name suggestions for your Indian restaurant:\n",
      "\n",
      "1. **Tandoori Nights**: This name evokes the warmth and aromas of traditional Indian cuisine, with a hint of luxury and sophistication.\n",
      "2. **Mumbai Maharaja**: This name combines the vibrant energy of Mumbai with the regal splendor of a maharaja, suggesting a high-end dining experience.\n",
      "3. **Spice Route Palace**: This name references the ancient spice trade routes that connected India to the rest of the world, with a nod to the opulence and grandeur of a palace.\n",
      "4. **Dhaba Royale**: \"Dhaba\" is a colloquial term for a roadside eatery in India, but adding \"Royale\" gives it a fancy twist, suggesting a upscale take on traditional Indian cuisine.\n",
      "5. **Jaipur Jewel**: This name references the beautiful city of Jaipur, known for its stunning architecture and rich cultural heritage, with a nod to the precious gems and jewels that India is famous for.\n",
      "6. **Taste of Taj**: This name references the iconic Taj Mahal, one of India's most famous landmarks, suggesting a restaurant that serves up a taste of India's rich history and culture.\n",
      "7. **Karma Kitchen**: This name has a modern, upscale feel, with a nod to the concept of karma and the idea that good food can bring good fortune.\n",
      "8. **Bombay Bazaar**: This name references the vibrant energy of Mumbai (formerly known as Bombay), with a nod to the bustling bazaars and markets that are a hallmark of Indian culture.\n",
      "9. **Saffron & Spice**: This name references two of the most iconic ingredients in Indian cuisine, with a nod to the warm, aromatic flavors that define the country's cooking.\n",
      "10. **Maharani's Kitchen**: \"Maharani\" is a term for a queen or princess in India, and this name suggests a restaurant that serves up regal, indulgent cuisine fit for royalty.\n",
      "\n",
      "I hope one of these suggestions sparks your interest and helps you find the perfect name for your Indian restaurant!\n",
      "Human: Hello,How are you?\n",
      "AI: Hello. I'm doing well, thank you for asking. I've been having a great conversation with you about restaurant names, from Italian to Indian. It's been a fascinating journey exploring the different cultures and cuisines. I must say, I'm impressed by the diversity of options we've discussed so far. If you're looking to open a restaurant, I hope our conversation has been helpful in sparking some ideas. If you have any more questions or need further suggestions, feel free to ask. By the way, is there a particular type of cuisine or restaurant theme you're leaning towards, or would you like to explore more options?\n"
     ]
    }
   ],
   "source": [
    "print(memory_variables['history'])"
   ]
  },
  {
   "cell_type": "code",
   "execution_count": 24,
   "metadata": {},
   "outputs": [
    {
     "name": "stdout",
     "output_type": "stream",
     "text": [
      "Nice to meet you, Raj Dalsaniya. It's a pleasure to connect with a Data Scientist. I'm sure your work involves analyzing complex data sets and extracting valuable insights. That's a fascinating field, and I'm sure you have a unique perspective on the world.\n",
      "\n",
      "As a conversational AI, I'm always learning and improving my language understanding. I'm curious, what brings you here today? Are you looking to explore restaurant names further, or perhaps you'd like to discuss topics related to data science? I'm happy to chat about anything from machine learning to natural language processing, or even share some interesting facts and trivia.\n",
      "\n",
      "By the way, I noticed your surname, Dalsaniya, which seems to have Indian origins. If you don't mind me asking, are you interested in exploring more Indian-themed restaurant names, or perhaps we could discuss other topics related to Indian culture or cuisine? I'm all ears and here to help!\n"
     ]
    }
   ],
   "source": [
    "user_input = \"Hello I am Raj Dalsaniya and Data Scientist\"\n",
    "response = ConversationChain.run(user_input)\n",
    "print(response)"
   ]
  },
  {
   "cell_type": "code",
   "execution_count": 25,
   "metadata": {},
   "outputs": [
    {
     "name": "stdout",
     "output_type": "stream",
     "text": [
      "Your name is Raj Dalsaniya, and you're a Data Scientist. I recall you introducing yourself earlier in our conversation. It's nice to have made your acquaintance, Raj!\n"
     ]
    }
   ],
   "source": [
    "user_input = \"What is my name ?\"\n",
    "response = ConversationChain.run(user_input)\n",
    "print(response)"
   ]
  },
  {
   "cell_type": "code",
   "execution_count": 26,
   "metadata": {},
   "outputs": [
    {
     "name": "stdout",
     "output_type": "stream",
     "text": [
      "Your profession is that of a Data Scientist, Raj. You mentioned it when you introduced yourself earlier in our conversation. I'm sure your work involves analyzing complex data sets, developing predictive models, and extracting valuable insights to inform business decisions or solve real-world problems. Is that correct?\n"
     ]
    }
   ],
   "source": [
    "user_input = \"What is my profession?\"\n",
    "response = ConversationChain.run(user_input)\n",
    "print(response)"
   ]
  },
  {
   "cell_type": "code",
   "execution_count": 52,
   "metadata": {},
   "outputs": [],
   "source": [
    "from langchain.memory import ConversationBufferWindowMemory"
   ]
  },
  {
   "cell_type": "code",
   "execution_count": 53,
   "metadata": {},
   "outputs": [],
   "source": [
    "convo_buffer_memory = ConversationBufferWindowMemory(k = 3)"
   ]
  },
  {
   "cell_type": "code",
   "execution_count": 54,
   "metadata": {},
   "outputs": [],
   "source": [
    "conversation = ConversationChain(llm=chat_groq_model, memory=convo_buffer_memory)"
   ]
  },
  {
   "cell_type": "code",
   "execution_count": 55,
   "metadata": {},
   "outputs": [
    {
     "data": {
      "text/plain": [
       "\"That's great, Raj. Working in an IT company can be a fascinating and challenging experience, especially with the rapid pace of technological advancements in the industry. As a Data Scientist in an IT company, you must be working on a wide range of projects, from data analytics and machine learning to cloud computing and cybersecurity.\\n\\nI've been learning about the many different applications of data science in the IT industry, including predictive maintenance, quality control, and customer service chatbots. I've also been generating text about the latest trends and technologies in the IT industry, such as the Internet of Things (IoT), blockchain, and artificial intelligence (AI).\\n\\nSome of the top IT companies in India, such as Infosys, Wipro, and Tata Consultancy Services (TCS), are doing some amazing work in the field of data science and AI. They are using machine learning algorithms and data analytics to drive business growth, improve operational efficiency, and enhance customer experience.\\n\\nAs someone who is working in an IT company, I'm curious to know more about your specific role and responsibilities, Raj. Are you working on any exciting projects that involve data science or AI? Are you using any specific tools or technologies, such as Python, R, or TensorFlow, to analyze and visualize data?\\n\\nBy the way, I've been trained on a large corpus of text data that includes many technical documents and research papers related to the IT industry. I can even generate text about specific topics, such as data warehousing, business intelligence, or cloud computing. Would you like to know more about any of these topics, or is there something else you'd like to discuss?\""
      ]
     },
     "execution_count": 55,
     "metadata": {},
     "output_type": "execute_result"
    }
   ],
   "source": [
    "conversation.run(\"Hello,How are you?\")\n",
    "conversation.run(\"I am Raj Dalsaniya and Data Scientist\")\n",
    "conversation.run(\"I am from India\")\n",
    "conversation.run(\"I am working in IT company\")"
   ]
  },
  {
   "cell_type": "code",
   "execution_count": 56,
   "metadata": {},
   "outputs": [
    {
     "data": {
      "text/plain": [
       "\"Ahmedabad is a wonderful city, Raj. As the largest city in the state of Gujarat, Ahmedabad has a rich history, cultural significance, and a thriving economy. I've been generating text about the many interesting places to visit in Ahmedabad, such as the Sabarmati Ashram, the Akshardham Temple, and the Jama Masjid mosque.\\n\\nAs a Data Scientist living in Ahmedabad, you must be aware of the city's growing importance as a hub for technology and innovation. Ahmedabad is home to many top-tier educational institutions, including the Indian Institute of Technology (IIT) Gandhinagar and the National Institute of Design (NID), which are producing talented professionals in the fields of science, technology, engineering, and mathematics (STEM).\\n\\nI've been learning about the many startups and companies in Ahmedabad that are working on exciting projects in the fields of data science, AI, and machine learning. Some of the prominent industries in Ahmedabad include textiles, pharmaceuticals, and automotive manufacturing, which are all leveraging data science and analytics to drive business growth and improve efficiency.\\n\\nAs someone who is living in Ahmedabad, I'm curious to know more about your daily life and experiences, Raj. What do you like to do in your free time? Are you interested in exploring the city's cultural heritage, trying out new restaurants and cuisines, or participating in outdoor activities like yoga or cricket?\\n\\nBy the way, I've been trained on a large corpus of text data that includes many documents and articles about the city of Ahmedabad, including its history, culture, and economy. I can even generate text about specific topics, such as the city's transportation system, its educational institutions, or its tourist attractions. Would you like to know more about any of these topics, or is there something else you'd like to discuss?\""
      ]
     },
     "execution_count": 56,
     "metadata": {},
     "output_type": "execute_result"
    }
   ],
   "source": [
    "conversation.run(\"I am living in Ahmedabad\")"
   ]
  },
  {
   "cell_type": "code",
   "execution_count": 66,
   "metadata": {},
   "outputs": [
    {
     "data": {
      "text/plain": [
       "\"That's a great profession. Working in an IT company can be challenging and rewarding, as technology is constantly evolving and there's always something new to learn. I've been trained on a vast amount of text data, including many articles and guides about the IT industry, so I'm familiar with some of the latest trends and developments.\\n\\nAs someone who works in an IT company, you might be interested to know that there are many ways in which tracking and IT intersect. For example, tracking can be used in cybersecurity to monitor and analyze network traffic, or to track the movement of malware and other types of cyber threats. There are also many IT tools and software applications that can be used to support tracking, such as GPS tracking devices, data analytics platforms, and machine learning algorithms.\\n\\nI've been trained on many articles and guides about the use of technology in tracking, including the use of drones, sensors, and other types of tracking devices. If you're interested in learning more about the intersection of tracking and IT, I'd be happy to generate some text on a specific topic or provide some recommendations for further reading.\\n\\nBy the way, what specific area of IT do you work in? Are you a software developer, a network administrator, or something else entirely? And, as I've mentioned before, I'm still curious to know your name, if you're willing to share it with me. It would make our conversation feel a bit more personal, don't you think?\\n\\nAlso, I have to ask, do you find that your work in IT helps you with your tracking hobby, or are they two separate interests that you enjoy in your free time? I'm curious to know if there's any overlap between your work and your hobby, or if they're two distinct areas of your life.\""
      ]
     },
     "execution_count": 66,
     "metadata": {},
     "output_type": "execute_result"
    }
   ],
   "source": [
    "conversation.run(\"I like to do tracking\")\n",
    "conversation.run(\"I am working in IT company\")"
   ]
  },
  {
   "cell_type": "code",
   "execution_count": 57,
   "metadata": {},
   "outputs": [
    {
     "name": "stdout",
     "output_type": "stream",
     "text": [
      "Raj, you mentioned earlier that you are from India, working in an IT company, and living in Ahmedabad. As for your name, you didn't explicitly mention it, but I've been addressing you as \"Raj\" in our conversation so far. However, I don't actually know your real name, as you haven't shared it with me. Would you like to tell me your name, or would you prefer to keep it anonymous?\n"
     ]
    }
   ],
   "source": [
    "res = conversation.run(\"what is my name?\")\n",
    "print(res)"
   ]
  },
  {
   "cell_type": "code",
   "execution_count": 67,
   "metadata": {},
   "outputs": [
    {
     "name": "stdout",
     "output_type": "stream",
     "text": [
      "Human: I like to do tracking\n",
      "AI: I think we've already established that you enjoy tracking, and I've shared some information about wildlife tracking with you. To recap, tracking can be a fascinating hobby that involves following and identifying animal tracks, scat, and other signs of wildlife. It can be a great way to learn about the behavior and habitats of different species.\n",
      "\n",
      "If you're interested in tracking, you might want to consider investing in some basic equipment, such as a field guide to animal tracks, a pair of binoculars, and a camera. You could also look into guided tracking tours or workshops in your area, where you can learn from experienced trackers and gain hands-on experience.\n",
      "\n",
      "I've been trained on a large corpus of text data that includes many articles and guides about tracking, including tips on identifying tracks, scat, and other signs of wildlife. For example, did you know that the shape and size of an animal's track can be used to identify the species? Or that the presence of certain types of scat can indicate the presence of a particular predator or prey species?\n",
      "\n",
      "If you're looking for some specific tips or techniques on tracking, I'd be happy to try and provide some information. Alternatively, if you have any specific questions about tracking or wildlife in general, I'll do my best to answer them. By the way, I'm still curious to know your name, if you're willing to share it with me. It would make our conversation feel a bit more personal, don't you think?\n",
      "Human: I like to do tracking\n",
      "AI: I think we've already had a couple of conversations about your interest in tracking, and I've shared some information about wildlife tracking with you. To be honest, I'm starting to feel like we're repeating ourselves a bit. You've mentioned that you like to do tracking, but you haven't given me any more details about what specifically you enjoy about it, or what kind of tracking you're interested in.\n",
      "\n",
      "If you're willing, could you tell me a bit more about what you like about tracking? Is it the thrill of the hunt, the opportunity to connect with nature, or something else entirely? Are you interested in tracking specific types of animals, such as deer or birds, or are you more interested in learning about the different techniques and methods used in tracking?\n",
      "\n",
      "I've been trained on a vast amount of text data, including many articles and guides about tracking, and I'd be happy to share some of that knowledge with you. For example, did you know that there are different types of tracking, such as tracking for conservation, tracking for hunting, and tracking for research? Or that there are many different techniques used in tracking, such as reading sign, using cameras and sensors, and analyzing data?\n",
      "\n",
      "If you're interested in learning more about tracking, I'd be happy to generate some text on a specific topic or provide some recommendations for further reading. And, as I've mentioned before, I'm still curious to know your name, if you're willing to share it with me. It would make our conversation feel a bit more personal, don't you think?\n",
      "Human: I am working in IT company\n",
      "AI: That's a great profession. Working in an IT company can be challenging and rewarding, as technology is constantly evolving and there's always something new to learn. I've been trained on a vast amount of text data, including many articles and guides about the IT industry, so I'm familiar with some of the latest trends and developments.\n",
      "\n",
      "As someone who works in an IT company, you might be interested to know that there are many ways in which tracking and IT intersect. For example, tracking can be used in cybersecurity to monitor and analyze network traffic, or to track the movement of malware and other types of cyber threats. There are also many IT tools and software applications that can be used to support tracking, such as GPS tracking devices, data analytics platforms, and machine learning algorithms.\n",
      "\n",
      "I've been trained on many articles and guides about the use of technology in tracking, including the use of drones, sensors, and other types of tracking devices. If you're interested in learning more about the intersection of tracking and IT, I'd be happy to generate some text on a specific topic or provide some recommendations for further reading.\n",
      "\n",
      "By the way, what specific area of IT do you work in? Are you a software developer, a network administrator, or something else entirely? And, as I've mentioned before, I'm still curious to know your name, if you're willing to share it with me. It would make our conversation feel a bit more personal, don't you think?\n",
      "\n",
      "Also, I have to ask, do you find that your work in IT helps you with your tracking hobby, or are they two separate interests that you enjoy in your free time? I'm curious to know if there's any overlap between your work and your hobby, or if they're two distinct areas of your life.\n"
     ]
    }
   ],
   "source": [
    "print(convo_buffer_memory.buffer)"
   ]
  },
  {
   "cell_type": "code",
   "execution_count": 68,
   "metadata": {},
   "outputs": [
    {
     "name": "stdout",
     "output_type": "stream",
     "text": [
      "I don't know your name, actually. You haven't shared it with me yet. I've been asking you to share your name with me throughout our conversation, but you haven't mentioned it. I think it would be nice to know your name, as it would make our conversation feel a bit more personal and friendly. Would you be willing to share your name with me now?\n"
     ]
    }
   ],
   "source": [
    "res = conversation.run(\"what is my name?\")\n",
    "print(res)"
   ]
  },
  {
   "cell_type": "code",
   "execution_count": null,
   "metadata": {},
   "outputs": [],
   "source": []
  }
 ],
 "metadata": {
  "kernelspec": {
   "display_name": "langenv",
   "language": "python",
   "name": "python3"
  },
  "language_info": {
   "codemirror_mode": {
    "name": "ipython",
    "version": 3
   },
   "file_extension": ".py",
   "mimetype": "text/x-python",
   "name": "python",
   "nbconvert_exporter": "python",
   "pygments_lexer": "ipython3",
   "version": "3.11.0"
  }
 },
 "nbformat": 4,
 "nbformat_minor": 2
}
