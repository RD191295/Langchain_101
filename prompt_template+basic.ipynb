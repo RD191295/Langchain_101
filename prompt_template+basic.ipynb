{
 "cells": [
  {
   "cell_type": "markdown",
   "metadata": {},
   "source": [
    "## Prompt Templates\n",
    "\n",
    "\n",
    "### Prompt templates help to translate user input and parameters into instructions for a language model. This can be used to guide a model's response, helping it understand the context and generate relevant and coherent language-based output.\n",
    "\n",
    "### Prompt Templates take as input a dictionary, where each key represents a variable in the prompt template to fill in.\n",
    "\n",
    "### Prompt Templates output a PromptValue. This PromptValue can be passed to an LLM or a ChatModel, and can also be cast to a string or a list of messages. The reason this PromptValue exists is to make it easy to switch between strings and messages."
   ]
  },
  {
   "cell_type": "markdown",
   "metadata": {},
   "source": [
    "## String PromptTemplates\n",
    "\n",
    "### These prompt templates are used to format a single string, and generally are used for simpler inputs. For example, a common way to construct and use a PromptTemplate is as follows:"
   ]
  },
  {
   "cell_type": "code",
   "execution_count": 1,
   "metadata": {},
   "outputs": [],
   "source": [
    "from langchain_core.prompts import PromptTemplate\n",
    "\n",
    "prompt_template = PromptTemplate.from_template(\n",
    "    \"Tell me a {adjactive} story about {topic}.\"\n",
    ")"
   ]
  },
  {
   "cell_type": "code",
   "execution_count": 2,
   "metadata": {},
   "outputs": [
    {
     "data": {
      "text/plain": [
       "StringPromptValue(text='Tell me a curious story about the moon.')"
      ]
     },
     "execution_count": 2,
     "metadata": {},
     "output_type": "execute_result"
    }
   ],
   "source": [
    "prompt_template.invoke({\n",
    "    'adjactive': 'curious',\n",
    "    'topic': 'the moon'\n",
    "    })"
   ]
  },
  {
   "cell_type": "markdown",
   "metadata": {},
   "source": [
    "## ChatPromptTemplates\n",
    "\n",
    "### These prompt templates are used to format a list of messages. These \"templates\" consist of a list of templates themselves. For example, a common way to construct and use a ChatPromptTemplate is as follows:"
   ]
  },
  {
   "cell_type": "code",
   "execution_count": 3,
   "metadata": {},
   "outputs": [],
   "source": [
    "from langchain_core.prompts import ChatPromptTemplate\n",
    "\n",
    "chat_prompt_template = ChatPromptTemplate.from_messages(\n",
    "    [\n",
    "        (\"system\", \"You are an {profession} expert on {topic}\"),\n",
    "        (\"human\", \"Hello Mr. {profession}, can you please answer a question?\"),\n",
    "        (\"system\", \"Sure, what is your question?\"),\n",
    "        (\"human\", \"{user_input}\")\n",
    "    ]\n",
    ")"
   ]
  },
  {
   "cell_type": "code",
   "execution_count": 4,
   "metadata": {
    "vscode": {
     "languageId": "javascript"
    }
   },
   "outputs": [],
   "source": [
    "messages = chat_prompt_template.invoke({\n",
    "    'profession': 'astronomy',\n",
    "    'topic': 'the moon',\n",
    "    'user_input': 'What is the moon made of?'\n",
    "})"
   ]
  },
  {
   "cell_type": "markdown",
   "metadata": {},
   "source": [
    "## Passing Prompt template output to LLM"
   ]
  },
  {
   "cell_type": "code",
   "execution_count": 5,
   "metadata": {},
   "outputs": [],
   "source": [
    "from langchain_groq import ChatGroq\n",
    "from dotenv import load_dotenv,find_dotenv\n",
    "import os\n",
    "\n",
    "_ = load_dotenv(find_dotenv())\n",
    "\n",
    "# Load the environment variables\n",
    "groq_api = os.getenv(\"GROP_API_KEY\")"
   ]
  },
  {
   "cell_type": "code",
   "execution_count": 6,
   "metadata": {},
   "outputs": [],
   "source": [
    "chat_groq_model = ChatGroq(\n",
    "    model='llama-3.1-70b-versatile',\n",
    "    api_key = groq_api,\n",
    "    temperature= 0.1,\n",
    "    max_retries=3,\n",
    ")"
   ]
  },
  {
   "cell_type": "code",
   "execution_count": 7,
   "metadata": {},
   "outputs": [],
   "source": [
    "response = chat_groq_model.invoke(messages)"
   ]
  },
  {
   "cell_type": "code",
   "execution_count": 8,
   "metadata": {},
   "outputs": [
    {
     "name": "stdout",
     "output_type": "stream",
     "text": [
      "The moon is a fascinating topic, and I'm happy to share my knowledge with you. The moon is primarily composed of rock and metal, similar to the Earth's crust. The main components of the moon's composition are:\n",
      "\n",
      "1. **Feldspar**: A type of mineral that makes up about 50-60% of the moon's crust. Feldspar is a common mineral found in rocks on Earth, and it's also abundant on the moon.\n",
      "2. **Pyroxene**: A mineral that makes up around 20-30% of the moon's crust. Pyroxene is a type of silicate mineral that's also found in rocks on Earth.\n",
      "3. **Olivine**: A mineral that makes up around 10-20% of the moon's crust. Olivine is a type of silicate mineral that's also found in rocks on Earth.\n",
      "4. **Ilmenite**: A mineral that makes up around 5-10% of the moon's crust. Ilmenite is a type of iron-titanium oxide mineral.\n",
      "5. **Troilite**: A mineral that makes up a small percentage of the moon's crust. Troilite is a type of iron sulfide mineral.\n",
      "\n",
      "The moon's core is thought to be composed of **iron** and **silicates**, with a small amount of **sulfur** and other elements. The core is estimated to be around 350 kilometers (220 miles) in diameter, which is relatively small compared to the Earth's core.\n",
      "\n",
      "The moon's surface is also covered with a layer of **regolith**, which is a mixture of crushed rock, glass, and other debris that's been created by meteorite impacts and other geological processes. The regolith can be up to 4 meters (13 feet) thick in some areas and is an important component of the moon's surface geology.\n",
      "\n",
      "I hope that helps! Do you have any other questions about the moon?"
     ]
    }
   ],
   "source": [
    "for chunkt in chat_groq_model.stream(messages):\n",
    "    print(chunkt.content, end = \"\")"
   ]
  },
  {
   "cell_type": "markdown",
   "metadata": {},
   "source": []
  },
  {
   "cell_type": "code",
   "execution_count": null,
   "metadata": {},
   "outputs": [],
   "source": []
  }
 ],
 "metadata": {
  "kernelspec": {
   "display_name": "langenv",
   "language": "python",
   "name": "python3"
  },
  "language_info": {
   "codemirror_mode": {
    "name": "ipython",
    "version": 3
   },
   "file_extension": ".py",
   "mimetype": "text/x-python",
   "name": "python",
   "nbconvert_exporter": "python",
   "pygments_lexer": "ipython3",
   "version": "3.11.0"
  }
 },
 "nbformat": 4,
 "nbformat_minor": 2
}
