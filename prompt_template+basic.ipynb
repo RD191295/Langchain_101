{
 "cells": [
  {
   "cell_type": "markdown",
   "metadata": {},
   "source": [
    "## Prompt Templates\n",
    "\n",
    "\n",
    "### Prompt templates help to translate user input and parameters into instructions for a language model. This can be used to guide a model's response, helping it understand the context and generate relevant and coherent language-based output.\n",
    "\n",
    "### Prompt Templates take as input a dictionary, where each key represents a variable in the prompt template to fill in.\n",
    "\n",
    "### Prompt Templates output a PromptValue. This PromptValue can be passed to an LLM or a ChatModel, and can also be cast to a string or a list of messages. The reason this PromptValue exists is to make it easy to switch between strings and messages."
   ]
  },
  {
   "cell_type": "markdown",
   "metadata": {},
   "source": [
    "## String PromptTemplates\n",
    "\n",
    "### These prompt templates are used to format a single string, and generally are used for simpler inputs. For example, a common way to construct and use a PromptTemplate is as follows:"
   ]
  },
  {
   "cell_type": "code",
   "execution_count": 3,
   "metadata": {},
   "outputs": [],
   "source": [
    "from langchain_core.prompts import PromptTemplate\n",
    "\n",
    "prompt_template = PromptTemplate.from_template(\n",
    "    \"Tell me a {adjactive} story about {topic}.\"\n",
    ")"
   ]
  },
  {
   "cell_type": "code",
   "execution_count": 5,
   "metadata": {},
   "outputs": [
    {
     "data": {
      "text/plain": [
       "StringPromptValue(text='Tell me a curious story about the moon.')"
      ]
     },
     "execution_count": 5,
     "metadata": {},
     "output_type": "execute_result"
    }
   ],
   "source": [
    "prompt_template.invoke({\n",
    "    'adjactive': 'curious',\n",
    "    'topic': 'the moon'\n",
    "    })"
   ]
  },
  {
   "cell_type": "markdown",
   "metadata": {},
   "source": [
    "## ChatPromptTemplates\n",
    "\n",
    "### These prompt templates are used to format a list of messages. These \"templates\" consist of a list of templates themselves. For example, a common way to construct and use a ChatPromptTemplate is as follows:"
   ]
  },
  {
   "cell_type": "code",
   "execution_count": 9,
   "metadata": {},
   "outputs": [],
   "source": [
    "from langchain_core.prompts import ChatPromptTemplate\n",
    "\n",
    "chat_prompt_template = ChatPromptTemplate.from_messages(\n",
    "    [\n",
    "        (\"system\", \"You are an {profession} expert on {topic}\"),\n",
    "        (\"human\", \"Hello Mr. {profession}, can you please answer a question?\"),\n",
    "        (\"system\", \"Sure, what is your question?\"),\n",
    "        (\"human\", \"{user_input}\")\n",
    "    ]\n",
    ")"
   ]
  },
  {
   "cell_type": "code",
   "execution_count": 10,
   "metadata": {
    "vscode": {
     "languageId": "javascript"
    }
   },
   "outputs": [],
   "source": [
    "messages = chat_prompt_template.invoke({\n",
    "    'profession': 'astronomy',\n",
    "    'topic': 'the moon',\n",
    "    'user_input': 'What is the moon made of?'\n",
    "})"
   ]
  },
  {
   "cell_type": "markdown",
   "metadata": {},
   "source": [
    "## Passing Prompt template output to LLM"
   ]
  },
  {
   "cell_type": "code",
   "execution_count": 15,
   "metadata": {},
   "outputs": [],
   "source": [
    "from langchain_groq import ChatGroq\n",
    "from dotenv import load_dotenv,find_dotenv\n",
    "import os\n",
    "\n",
    "_ = load_dotenv(find_dotenv())\n",
    "\n",
    "# Load the environment variables\n",
    "groq_api = os.getenv(\"GROP_API_KEY\")"
   ]
  },
  {
   "cell_type": "code",
   "execution_count": 16,
   "metadata": {},
   "outputs": [],
   "source": [
    "chat_groq_model = ChatGroq(\n",
    "    model='llama-3.1-70b-versatile',\n",
    "    api_key = groq_api,\n",
    "    temperature= 0.7,\n",
    "    max_retries=3,\n",
    ")"
   ]
  },
  {
   "cell_type": "code",
   "execution_count": 17,
   "metadata": {},
   "outputs": [],
   "source": [
    "response = chat_groq_model.invoke(messages)"
   ]
  },
  {
   "cell_type": "code",
   "execution_count": 20,
   "metadata": {},
   "outputs": [
    {
     "name": "stdout",
     "output_type": "stream",
     "text": [
      "As an astronomy expert on the moon, I'm delighted to share my knowledge with you. The Moon is primarily composed of several key materials.\n",
      "\n",
      "1. **Feldspar**: This mineral makes up about 50% of the Moon's crust and is a common component of rocks on Earth as well. Feldspar is a group of minerals that contain aluminum, silicon, and oxygen.\n",
      "\n",
      "2. **Pyroxene**: This mineral accounts for around 20% of the Moon's crust. Pyroxene is a group of minerals that contain iron, calcium, and magnesium.\n",
      "\n",
      "3. **Olivine**: This mineral makes up about 10% of the Moon's crust. Olivine is a mineral that contains iron and magnesium.\n",
      "\n",
      "4. **Iron and calcium**: These metals are present in smaller amounts and are found in the form of iron oxide (also known as hematite) and calcium oxide.\n",
      "\n",
      "5. **Regolith**: The surface of the Moon is covered with a layer of regolith, which is a mixture of finely powdered rock, glass particles, and breccias (rocks formed from the fragments of other rocks). This regolith is the result of meteorite impacts and the breakdown of rocks over time.\n",
      "\n",
      "6. **KREEP**: KREEP is an acronym for potassium (K), rare earth elements (REE), and phosphorus (P). It's a type of lunar rock that's rich in these elements and is found in the form of volcanic glass and breccias.\n",
      "\n",
      "These materials are the result of a complex geological history that involved massive impacts, volcanic activity, and the cooling and solidification of the Moon's crust over billions of years.\n",
      "\n",
      "Would you like to know more about the Moon's formation and evolution?"
     ]
    }
   ],
   "source": [
    "for chunkt in chat_groq_model.stream(messages):\n",
    "    print(chunkt.content, end = \"\")"
   ]
  },
  {
   "cell_type": "code",
   "execution_count": null,
   "metadata": {},
   "outputs": [],
   "source": []
  }
 ],
 "metadata": {
  "kernelspec": {
   "display_name": "langenv",
   "language": "python",
   "name": "python3"
  },
  "language_info": {
   "codemirror_mode": {
    "name": "ipython",
    "version": 3
   },
   "file_extension": ".py",
   "mimetype": "text/x-python",
   "name": "python",
   "nbconvert_exporter": "python",
   "pygments_lexer": "ipython3",
   "version": "3.11.0"
  }
 },
 "nbformat": 4,
 "nbformat_minor": 2
}
