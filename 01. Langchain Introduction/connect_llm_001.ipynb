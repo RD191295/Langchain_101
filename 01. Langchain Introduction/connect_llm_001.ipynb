{
 "cells": [
  {
   "cell_type": "code",
   "execution_count": 1,
   "metadata": {},
   "outputs": [],
   "source": [
    "import os\n",
    "from langchain_groq import ChatGroq\n",
    "from langchain_openai import ChatOpenAI, OpenAI\n",
    "from langchain import document_loaders\n",
    "from dotenv import load_dotenv,find_dotenv"
   ]
  },
  {
   "cell_type": "code",
   "execution_count": 2,
   "metadata": {},
   "outputs": [],
   "source": [
    "_  = load_dotenv(find_dotenv())"
   ]
  },
  {
   "cell_type": "code",
   "execution_count": 3,
   "metadata": {},
   "outputs": [],
   "source": [
    "# Loading Groq API Key\n",
    "groq_api_key = os.environ[\"GROQ_API_KEY\"]"
   ]
  },
  {
   "cell_type": "code",
   "execution_count": 4,
   "metadata": {},
   "outputs": [],
   "source": [
    "chat_model = ChatGroq(\n",
    "    model= 'llama-3.1-70b-versatile',\n",
    "    api_key= groq_api_key\n",
    ")"
   ]
  },
  {
   "cell_type": "code",
   "execution_count": 5,
   "metadata": {},
   "outputs": [],
   "source": [
    "messages = [\n",
    "    (\n",
    "        \"system\",\n",
    "        \"You are a historian expert in the United state.\",\n",
    "    ),\n",
    "    (\"human\", \"Tell me one curious thing about JFK\"),\n",
    "]"
   ]
  },
  {
   "cell_type": "code",
   "execution_count": 6,
   "metadata": {},
   "outputs": [],
   "source": [
    "response = chat_model.invoke(messages)"
   ]
  },
  {
   "cell_type": "markdown",
   "metadata": {},
   "source": [
    "# Printing Output"
   ]
  },
  {
   "cell_type": "code",
   "execution_count": 7,
   "metadata": {},
   "outputs": [
    {
     "name": "stdout",
     "output_type": "stream",
     "text": [
      "One curious thing about John F. Kennedy (JFK) is that he was a best-selling author before he became the President of the United States. In 1940, at the age of 23, Kennedy wrote a book called \"Why England Slept,\" which was a critique of British policy leading up to World War II. The book was based on his Harvard thesis and became a surprise best-seller, with over 80,000 copies sold.\n",
      "\n",
      "What's even more interesting is that Kennedy's book was helped by his father, Joseph P. Kennedy Sr., who was the U.S. Ambassador to the United Kingdom at the time. Joseph Kennedy used his influence to promote the book, and it's said that he even bought thousands of copies himself to help boost sales.\n",
      "\n",
      "This literary achievement not only showcased JFK's writing skills but also helped establish him as a rising star in American politics. It's a fascinating footnote in the life of one of America's most iconic presidents!\n"
     ]
    }
   ],
   "source": [
    "print(response.content)"
   ]
  },
  {
   "cell_type": "markdown",
   "metadata": {},
   "source": [
    "Getting metadata"
   ]
  },
  {
   "cell_type": "code",
   "execution_count": 8,
   "metadata": {},
   "outputs": [
    {
     "data": {
      "text/plain": [
       "{'token_usage': {'completion_tokens': 197,\n",
       "  'prompt_tokens': 52,\n",
       "  'total_tokens': 249,\n",
       "  'completion_time': 0.954432541,\n",
       "  'prompt_time': 0.032516468,\n",
       "  'queue_time': 0.17087824100000001,\n",
       "  'total_time': 0.986949009},\n",
       " 'model_name': 'llama-3.1-70b-versatile',\n",
       " 'system_fingerprint': 'fp_c0cfa69934',\n",
       " 'finish_reason': 'stop',\n",
       " 'logprobs': None}"
      ]
     },
     "execution_count": 8,
     "metadata": {},
     "output_type": "execute_result"
    }
   ],
   "source": [
    "response.response_metadata"
   ]
  },
  {
   "cell_type": "markdown",
   "metadata": {},
   "source": [
    "Schema of response"
   ]
  },
  {
   "cell_type": "code",
   "execution_count": 9,
   "metadata": {},
   "outputs": [
    {
     "data": {
      "text/plain": [
       "{'$defs': {'InputTokenDetails': {'description': 'Breakdown of input token counts.\\n\\nDoes *not* need to sum to full input token count. Does *not* need to have all keys.\\n\\nExample:\\n\\n    .. code-block:: python\\n\\n        {\\n            \"audio\": 10,\\n            \"cache_creation\": 200,\\n            \"cache_read\": 100,\\n        }\\n\\n.. versionadded:: 0.3.9',\n",
       "   'properties': {'audio': {'title': 'Audio', 'type': 'integer'},\n",
       "    'cache_creation': {'title': 'Cache Creation', 'type': 'integer'},\n",
       "    'cache_read': {'title': 'Cache Read', 'type': 'integer'}},\n",
       "   'title': 'InputTokenDetails',\n",
       "   'type': 'object'},\n",
       "  'InvalidToolCall': {'description': 'Allowance for errors made by LLM.\\n\\nHere we add an `error` key to surface errors made during generation\\n(e.g., invalid JSON arguments.)',\n",
       "   'properties': {'name': {'anyOf': [{'type': 'string'}, {'type': 'null'}],\n",
       "     'title': 'Name'},\n",
       "    'args': {'anyOf': [{'type': 'string'}, {'type': 'null'}], 'title': 'Args'},\n",
       "    'id': {'anyOf': [{'type': 'string'}, {'type': 'null'}], 'title': 'Id'},\n",
       "    'error': {'anyOf': [{'type': 'string'}, {'type': 'null'}],\n",
       "     'title': 'Error'},\n",
       "    'type': {'const': 'invalid_tool_call',\n",
       "     'enum': ['invalid_tool_call'],\n",
       "     'title': 'Type',\n",
       "     'type': 'string'}},\n",
       "   'required': ['name', 'args', 'id', 'error'],\n",
       "   'title': 'InvalidToolCall',\n",
       "   'type': 'object'},\n",
       "  'OutputTokenDetails': {'description': 'Breakdown of output token counts.\\n\\nDoes *not* need to sum to full output token count. Does *not* need to have all keys.\\n\\nExample:\\n\\n    .. code-block:: python\\n\\n        {\\n            \"audio\": 10,\\n            \"reasoning\": 200,\\n        }\\n\\n.. versionadded:: 0.3.9',\n",
       "   'properties': {'audio': {'title': 'Audio', 'type': 'integer'},\n",
       "    'reasoning': {'title': 'Reasoning', 'type': 'integer'}},\n",
       "   'title': 'OutputTokenDetails',\n",
       "   'type': 'object'},\n",
       "  'ToolCall': {'description': 'Represents a request to call a tool.\\n\\nExample:\\n\\n    .. code-block:: python\\n\\n        {\\n            \"name\": \"foo\",\\n            \"args\": {\"a\": 1},\\n            \"id\": \"123\"\\n        }\\n\\n    This represents a request to call the tool named \"foo\" with arguments {\"a\": 1}\\n    and an identifier of \"123\".',\n",
       "   'properties': {'name': {'title': 'Name', 'type': 'string'},\n",
       "    'args': {'title': 'Args', 'type': 'object'},\n",
       "    'id': {'anyOf': [{'type': 'string'}, {'type': 'null'}], 'title': 'Id'},\n",
       "    'type': {'const': 'tool_call',\n",
       "     'enum': ['tool_call'],\n",
       "     'title': 'Type',\n",
       "     'type': 'string'}},\n",
       "   'required': ['name', 'args', 'id'],\n",
       "   'title': 'ToolCall',\n",
       "   'type': 'object'},\n",
       "  'UsageMetadata': {'description': 'Usage metadata for a message, such as token counts.\\n\\nThis is a standard representation of token usage that is consistent across models.\\n\\nExample:\\n\\n    .. code-block:: python\\n\\n        {\\n            \"input_tokens\": 350,\\n            \"output_tokens\": 240,\\n            \"total_tokens\": 590,\\n            \"input_token_details\": {\\n                \"audio\": 10,\\n                \"cache_creation\": 200,\\n                \"cache_read\": 100,\\n            },\\n            \"output_token_details\": {\\n                \"audio\": 10,\\n                \"reasoning\": 200,\\n            }\\n        }\\n\\n.. versionchanged:: 0.3.9\\n\\n    Added ``input_token_details`` and ``output_token_details``.',\n",
       "   'properties': {'input_tokens': {'title': 'Input Tokens', 'type': 'integer'},\n",
       "    'output_tokens': {'title': 'Output Tokens', 'type': 'integer'},\n",
       "    'total_tokens': {'title': 'Total Tokens', 'type': 'integer'},\n",
       "    'input_token_details': {'$ref': '#/$defs/InputTokenDetails'},\n",
       "    'output_token_details': {'$ref': '#/$defs/OutputTokenDetails'}},\n",
       "   'required': ['input_tokens', 'output_tokens', 'total_tokens'],\n",
       "   'title': 'UsageMetadata',\n",
       "   'type': 'object'}},\n",
       " 'additionalProperties': True,\n",
       " 'description': 'Message from an AI.\\n\\nAIMessage is returned from a chat model as a response to a prompt.\\n\\nThis message represents the output of the model and consists of both\\nthe raw output as returned by the model together standardized fields\\n(e.g., tool calls, usage metadata) added by the LangChain framework.',\n",
       " 'properties': {'content': {'anyOf': [{'type': 'string'},\n",
       "    {'items': {'anyOf': [{'type': 'string'}, {'type': 'object'}]},\n",
       "     'type': 'array'}],\n",
       "   'title': 'Content'},\n",
       "  'additional_kwargs': {'title': 'Additional Kwargs', 'type': 'object'},\n",
       "  'response_metadata': {'title': 'Response Metadata', 'type': 'object'},\n",
       "  'type': {'const': 'ai',\n",
       "   'default': 'ai',\n",
       "   'enum': ['ai'],\n",
       "   'title': 'Type',\n",
       "   'type': 'string'},\n",
       "  'name': {'anyOf': [{'type': 'string'}, {'type': 'null'}],\n",
       "   'default': None,\n",
       "   'title': 'Name'},\n",
       "  'id': {'anyOf': [{'type': 'string'}, {'type': 'null'}],\n",
       "   'default': None,\n",
       "   'title': 'Id'},\n",
       "  'example': {'default': False, 'title': 'Example', 'type': 'boolean'},\n",
       "  'tool_calls': {'default': [],\n",
       "   'items': {'$ref': '#/$defs/ToolCall'},\n",
       "   'title': 'Tool Calls',\n",
       "   'type': 'array'},\n",
       "  'invalid_tool_calls': {'default': [],\n",
       "   'items': {'$ref': '#/$defs/InvalidToolCall'},\n",
       "   'title': 'Invalid Tool Calls',\n",
       "   'type': 'array'},\n",
       "  'usage_metadata': {'anyOf': [{'$ref': '#/$defs/UsageMetadata'},\n",
       "    {'type': 'null'}],\n",
       "   'default': None}},\n",
       " 'required': ['content'],\n",
       " 'title': 'AIMessage',\n",
       " 'type': 'object'}"
      ]
     },
     "execution_count": 9,
     "metadata": {},
     "output_type": "execute_result"
    }
   ],
   "source": [
    "response.schema()"
   ]
  },
  {
   "cell_type": "markdown",
   "metadata": {},
   "source": [
    "### Older way to create message for LLM input ( But still popular)"
   ]
  },
  {
   "cell_type": "code",
   "execution_count": 12,
   "metadata": {},
   "outputs": [],
   "source": [
    "from langchain_core.messages import HumanMessage,SystemMessage\n",
    "from langchain_core.prompts import ChatPromptTemplate"
   ]
  },
  {
   "cell_type": "code",
   "execution_count": 13,
   "metadata": {},
   "outputs": [],
   "source": [
    "messages = [\n",
    "    SystemMessage(content=\"You are a historian expert in the United state.\"),\n",
    "    HumanMessage(content=\"Tell me five curious thing about JFK\")\n",
    "]"
   ]
  },
  {
   "cell_type": "code",
   "execution_count": 10,
   "metadata": {},
   "outputs": [],
   "source": [
    "response_v1 = chat_model.invoke(messages)"
   ]
  },
  {
   "cell_type": "code",
   "execution_count": 11,
   "metadata": {},
   "outputs": [
    {
     "name": "stdout",
     "output_type": "stream",
     "text": [
      "One curious thing about John F. Kennedy, the 35th President of the United States, is that he was a best-selling author before he became president. In fact, his book \"Profiles in Courage,\" which was published in 1955, won the Pulitzer Prize for Biography in 1957. The book tells the stories of eight U.S. senators who took unpopular stands on various issues, and it showcases Kennedy's writing skills and his interest in history and politics.\n",
      "\n",
      "What's even more interesting is that there has been some controversy over the years about how much of the book was actually written by Kennedy himself. Some historians have suggested that Kennedy's speechwriter, Theodore Sorensen, may have played a significant role in writing the book, although Kennedy's family and supporters have always maintained that he was the primary author.\n",
      "\n",
      "Regardless of who wrote it, \"Profiles in Courage\" remains a fascinating and thought-provoking book that provides insight into Kennedy's values and worldview, and it's a remarkable achievement for a young politician who would go on to become one of the most iconic leaders in American history.\n"
     ]
    }
   ],
   "source": [
    "print(response_v1.content)"
   ]
  },
  {
   "cell_type": "markdown",
   "metadata": {},
   "source": [
    "# Streaming output"
   ]
  },
  {
   "cell_type": "code",
   "execution_count": 17,
   "metadata": {},
   "outputs": [
    {
     "name": "stdout",
     "output_type": "stream",
     "text": [
      "As a historian, I'm delighted to share with you five curious things about John F. Kennedy, the 35th President of the United States:\n",
      "\n",
      "1. **JFK was a best-selling author**: Before he became President, Kennedy wrote a book called \"Profiles in Courage,\" which told the stories of eight U.S. Senators who took unpopular stands on important issues. The book won the Pulitzer Prize in 1957, making Kennedy the only U.S. President to have won a Pulitzer Prize.\n",
      "\n",
      "2. **Kennedy was a decorated war hero**: During World War II, Kennedy commanded a patrol torpedo boat, the PT-109, in the Pacific. In August 1943, his boat was struck by a Japanese destroyer, and Kennedy helped save his crew members, towing one injured man to safety with a life jacket strap clenched between his teeth. He was awarded the Navy and Marine Corps Medal for his heroism.\n",
      "\n",
      "3. **JFK had a number of health issues**: Kennedy suffered from a range of health problems, including Addison's disease, which affects the adrenal glands, and back pain due to a war injury. He also had a number of other conditions, including ulcers, colitis, and prostatitis. Despite these health issues, Kennedy's condition was not publicly disclosed during his presidency, and he was often photographed engaging in athletic activities to project an image of vigor and health.\n",
      "\n",
      "4. **Kennedy was the first Catholic President**: When Kennedy was elected in 1960, he became the first Catholic to hold the office of President. This was a significant milestone, as many Americans had previously been skeptical about the idea of a Catholic President. Kennedy's Catholicism was a major issue during the campaign, but he addressed these concerns in a speech in Houston, where he declared that he believed in the separation of church and state.\n",
      "\n",
      "5. **JFK's famous \"Ich bin ein Berliner\" speech was not entirely accurate**: In 1963, Kennedy delivered a speech in West Berlin, in which he declared, \"Ich bin ein Berliner\" (\"I am a Berliner\"). However, the phrase \"Berliner\" can also be translated to \"jelly doughnut\" in German, leading to claims that Kennedy had inadvertently declared himself to be a pastry. While this claim has been somewhat exaggerated, it is true that Kennedy's phrase was not entirely accurate, and a more precise translation would have been \"Ich bin ein Bürger von Berlin\" (\"I am a citizen of Berlin\").\n",
      "\n",
      "These are just a few of the many fascinating and curious aspects of John F. Kennedy's life and presidency."
     ]
    }
   ],
   "source": [
    "for chunk in chat_model.stream(messages):\n",
    "    print(chunk.content, end = \"\", flush= True)"
   ]
  },
  {
   "cell_type": "markdown",
   "metadata": {},
   "source": [
    "### Another old way, similar results:"
   ]
  },
  {
   "cell_type": "code",
   "execution_count": 53,
   "metadata": {},
   "outputs": [],
   "source": [
    "prompt_msg = ChatPromptTemplate(\n",
    "    [\n",
    "        (\n",
    "            \"system\",\n",
    "            \"You are expert {profession} in {topic}.\",\n",
    "        ),\n",
    "        (\"human\", \"{input}\")\n",
    "    ]\n",
    ")"
   ]
  },
  {
   "cell_type": "code",
   "execution_count": 54,
   "metadata": {},
   "outputs": [],
   "source": [
    "chain = prompt_msg | chat_model"
   ]
  },
  {
   "cell_type": "code",
   "execution_count": 57,
   "metadata": {},
   "outputs": [],
   "source": [
    "response = chain.invoke(\n",
    "    {\n",
    "        \"profession\": \"Historian\",\n",
    "        \"topic\": \"united state of america\",\n",
    "        \"input\": \"Tell me one fun fact about JFK.\",\n",
    "    }\n",
    ")"
   ]
  },
  {
   "cell_type": "code",
   "execution_count": 58,
   "metadata": {},
   "outputs": [
    {
     "data": {
      "text/plain": [
       "\"One fun fact about JFK is that he was the only U.S. president who was a recipient of the Pulitzer Prize. In 1957, John F. Kennedy won the Pulitzer Prize for Biography for his book 'Profiles in Courage,' which highlighted eight U.S. senators who risked their careers by standing up for what they believed in.\""
      ]
     },
     "execution_count": 58,
     "metadata": {},
     "output_type": "execute_result"
    }
   ],
   "source": [
    "response.content"
   ]
  }
 ],
 "metadata": {
  "kernelspec": {
   "display_name": "venv",
   "language": "python",
   "name": "python3"
  },
  "language_info": {
   "codemirror_mode": {
    "name": "ipython",
    "version": 3
   },
   "file_extension": ".py",
   "mimetype": "text/x-python",
   "name": "python",
   "nbconvert_exporter": "python",
   "pygments_lexer": "ipython3",
   "version": "3.13.1"
  }
 },
 "nbformat": 4,
 "nbformat_minor": 2
}
