{
 "cells": [
  {
   "cell_type": "markdown",
   "metadata": {},
   "source": [
    "## Prompt Templates\n",
    "\n",
    "\n",
    "### Prompt templates help to translate user input and parameters into instructions for a language model. This can be used to guide a model's response, helping it understand the context and generate relevant and coherent language-based output.\n",
    "\n",
    "### Prompt Templates take as input a dictionary, where each key represents a variable in the prompt template to fill in.\n",
    "\n",
    "### Prompt Templates output a PromptValue. This PromptValue can be passed to an LLM or a ChatModel, and can also be cast to a string or a list of messages. The reason this PromptValue exists is to make it easy to switch between strings and messages."
   ]
  },
  {
   "cell_type": "markdown",
   "metadata": {},
   "source": [
    "## String PromptTemplates\n",
    "\n",
    "### These prompt templates are used to format a single string, and generally are used for simpler inputs. For example, a common way to construct and use a PromptTemplate is as follows:"
   ]
  },
  {
   "cell_type": "code",
   "execution_count": 1,
   "metadata": {},
   "outputs": [],
   "source": [
    "from langchain_core.prompts import PromptTemplate\n",
    "\n",
    "prompt_template = PromptTemplate.from_template(\n",
    "    \"Tell me a {adjactive} story about {topic}.\"\n",
    ")"
   ]
  },
  {
   "cell_type": "code",
   "execution_count": 2,
   "metadata": {},
   "outputs": [
    {
     "data": {
      "text/plain": [
       "StringPromptValue(text='Tell me a curious story about the moon.')"
      ]
     },
     "execution_count": 2,
     "metadata": {},
     "output_type": "execute_result"
    }
   ],
   "source": [
    "prompt_template.invoke({\n",
    "    'adjactive': 'curious',\n",
    "    'topic': 'the moon'\n",
    "    })"
   ]
  },
  {
   "cell_type": "markdown",
   "metadata": {},
   "source": [
    "## ChatPromptTemplates\n",
    "\n",
    "### These prompt templates are used to format a list of messages. These \"templates\" consist of a list of templates themselves. For example, a common way to construct and use a ChatPromptTemplate is as follows:"
   ]
  },
  {
   "cell_type": "code",
   "execution_count": 3,
   "metadata": {},
   "outputs": [],
   "source": [
    "from langchain_core.prompts import ChatPromptTemplate\n",
    "\n",
    "chat_prompt_template = ChatPromptTemplate.from_messages(\n",
    "    [\n",
    "        (\"system\", \"You are an {profession} expert on {topic}\"),\n",
    "        (\"human\", \"Hello Mr. {profession}, can you please answer a question?\"),\n",
    "        (\"system\", \"Sure, what is your question?\"),\n",
    "        (\"human\", \"{user_input}\")\n",
    "    ]\n",
    ")"
   ]
  },
  {
   "cell_type": "code",
   "execution_count": 4,
   "metadata": {
    "vscode": {
     "languageId": "javascript"
    }
   },
   "outputs": [],
   "source": [
    "messages = chat_prompt_template.invoke({\n",
    "    'profession': 'astronomy',\n",
    "    'topic': 'the moon',\n",
    "    'user_input': 'What is the moon made of?'\n",
    "})"
   ]
  },
  {
   "cell_type": "markdown",
   "metadata": {},
   "source": [
    "## Passing Prompt template output to LLM"
   ]
  },
  {
   "cell_type": "code",
   "execution_count": 5,
   "metadata": {},
   "outputs": [],
   "source": [
    "from langchain_groq import ChatGroq\n",
    "from dotenv import load_dotenv,find_dotenv\n",
    "import os\n",
    "\n",
    "_ = load_dotenv(find_dotenv())\n",
    "\n",
    "# Load the environment variables\n",
    "groq_api = os.getenv(\"GROP_API_KEY\")"
   ]
  },
  {
   "cell_type": "code",
   "execution_count": 6,
   "metadata": {},
   "outputs": [],
   "source": [
    "chat_groq_model = ChatGroq(\n",
    "    model='llama-3.1-70b-versatile',\n",
    "    api_key = groq_api,\n",
    "    temperature= 0.1,\n",
    "    max_retries=3,\n",
    ")"
   ]
  },
  {
   "cell_type": "code",
   "execution_count": 7,
   "metadata": {},
   "outputs": [],
   "source": [
    "response = chat_groq_model.invoke(messages)"
   ]
  },
  {
   "cell_type": "code",
   "execution_count": 8,
   "metadata": {},
   "outputs": [
    {
     "name": "stdout",
     "output_type": "stream",
     "text": [
      "The moon is a fascinating topic, and I'm happy to share my knowledge with you. The moon is primarily composed of rock and metal, similar to the Earth's crust. The main components of the moon's composition are:\n",
      "\n",
      "1. **Feldspar**: A type of mineral that makes up about 50-60% of the moon's crust. Feldspar is a common mineral found in rocks on Earth, and it's also abundant on the moon.\n",
      "2. **Pyroxene**: A mineral that makes up around 20-30% of the moon's crust. Pyroxene is a type of silicate mineral that's also found in rocks on Earth.\n",
      "3. **Olivine**: A mineral that makes up around 10-20% of the moon's crust. Olivine is a type of silicate mineral that's also found in rocks on Earth.\n",
      "4. **Troilite**: A rare mineral that makes up a small percentage of the moon's crust. Troilite is a type of iron sulfide mineral that's not commonly found on Earth.\n",
      "5. **Metallic iron**: The moon's core is thought to be composed of metallic iron, with a small amount of sulfur and nickel.\n",
      "\n",
      "The moon's surface is also covered with a layer of **regolith**, which is a mixture of crushed rock, glass, and other debris that's been created by meteorite impacts and other geological processes.\n",
      "\n",
      "It's worth noting that the moon's composition is quite different from the Earth's. The moon has a much smaller iron core, and its crust is much thicker and more rigid than the Earth's. This is due to the moon's unique formation history, which is thought to have involved a massive collision between the Earth and a Mars-sized object called Theia.\n",
      "\n",
      "I hope that helps! Do you have any other questions about the moon?"
     ]
    }
   ],
   "source": [
    "for chunkt in chat_groq_model.stream(messages):\n",
    "    print(chunkt.content, end = \"\")"
   ]
  },
  {
   "cell_type": "markdown",
   "metadata": {},
   "source": [
    "## Old Way Prompt"
   ]
  },
  {
   "cell_type": "code",
   "execution_count": 9,
   "metadata": {},
   "outputs": [],
   "source": [
    "from langchain_core.messages import SystemMessage\n",
    "from langchain_core.prompts import HumanMessagePromptTemplate"
   ]
  },
  {
   "cell_type": "code",
   "execution_count": 10,
   "metadata": {},
   "outputs": [],
   "source": [
    "chat_template = ChatPromptTemplate.from_messages(\n",
    "    [\n",
    "        SystemMessage(\n",
    "            content = (\n",
    "                \"You are an Historian expert on the kennedy family\"\n",
    "            )\n",
    "        ),\n",
    "        HumanMessagePromptTemplate.from_template(\"{usr_input}\"),\n",
    "    ]\n",
    ")\n",
    "\n",
    "messages = chat_template.format_messages(\n",
    "    usr_input = \"Name the children and grandchildren of Joseph P. Kennedy?\"\n",
    ")\n",
    "\n",
    "\n",
    "response = chat_groq_model.invoke(messages)"
   ]
  },
  {
   "cell_type": "code",
   "execution_count": 12,
   "metadata": {},
   "outputs": [
    {
     "name": "stdout",
     "output_type": "stream",
     "text": [
      "Joseph P. Kennedy, the patriarch of the Kennedy family, had nine children with his wife Rose Kennedy. Their children are:\n",
      "\n",
      "1. Joseph P. Kennedy Jr. (1915-1944)\n",
      "2. John F. Kennedy (1917-1963)\n",
      "3. Rosemary Kennedy (1918-2005)\n",
      "4. Kathleen Kennedy (1920-1948)\n",
      "5. Eunice Kennedy (1921-2009)\n",
      "6. Patricia Kennedy (1926-2006)\n",
      "7. Robert F. Kennedy (1925-1968)\n",
      "8. Jean Kennedy (born 1928)\n",
      "9. Edward M. Kennedy (1932-2009)\n",
      "\n",
      "As for the grandchildren of Joseph P. Kennedy, there are 29 of them, spread across the nine children. Here's a list of the grandchildren by their parents:\n",
      "\n",
      "1. Joseph P. Kennedy Jr.'s children: None (he died in World War II without having children)\n",
      "2. John F. Kennedy's children:\n",
      "\t* Arabella Kennedy (stillborn in 1956)\n",
      "\t* Caroline Bouvier Kennedy (born 1957)\n",
      "\t* John Fitzgerald Kennedy Jr. (1960-1999)\n",
      "\t* Patrick Bouvier Kennedy (1963, died two days after birth)\n",
      "3. Rosemary Kennedy did not have any children due to her intellectual disability.\n",
      "4. Kathleen Kennedy's children:\n",
      "\t* William John Robert Cavendish, Marquess of Hartington (born 1941, died in infancy)\n",
      "\t* Kathleen Agnes Cavendish (born 1943, died in infancy)\n",
      "5. Eunice Kennedy's children:\n",
      "\t* Maria Shriver (born 1955)\n",
      "\t* Timothy Shriver (born 1959)\n",
      "\t* Mark Shriver (born 1964)\n",
      "\t* Anthony Shriver (born 1965)\n",
      "6. Patricia Kennedy's children:\n",
      "\t* Christopher Kennedy Lawford (born 1955)\n",
      "\t* Sydney Maleia Lawford (born 1956)\n",
      "\t* Victoria Francis Lawford (born 1958)\n",
      "\t* Robin Elizabeth Lawford (born 1961)\n",
      "7. Robert F. Kennedy's children:\n",
      "\t* Kathleen Kennedy Townsend (born 1951)\n",
      "\t* Joseph P. Kennedy II (born 1952)\n",
      "\t* Robert F. Kennedy Jr. (born 1954)\n",
      "\t* David Anthony Kennedy (1955-1984)\n",
      "\t* Mary Courtney Kennedy (born 1956)\n",
      "\t* Michael LeMoyne Kennedy (1958-1997)\n",
      "\t* Mary Richardson Kennedy (born 1959)\n",
      "\t* Christopher George Kennedy (born 1963)\n",
      "\t* Matthew Maxwell Taylor Kennedy (born 1965)\n",
      "\t* Douglas Harriman Kennedy (born 1967)\n",
      "\t* Rory Kennedy (born 1968)\n",
      "8. Jean Kennedy's children:\n",
      "\t* Kym Maria Kennedy (born 1956)\n",
      "\t* James Christopher Kennedy (born 1957)\n",
      "\t* Maria Shriver Kennedy (born 1959)\n",
      "\t* Matthew Rauch Kennedy (born 1960)\n",
      "\t* Christopher George Kennedy (born 1963)\n",
      "\t* Stephen Edward Kennedy (born 1965)\n",
      "\t* William Kennedy (born 1967)\n",
      "9. Edward M. Kennedy's children:\n",
      "\t* Kara Anne Kennedy (1961-2011)\n",
      "\t* Edward Moore Kennedy Jr. (born 1962)\n",
      "\t* Patrick Joseph Kennedy (born 1967)\n",
      "\n",
      "Note: This list only includes the biological grandchildren of Joseph P. Kennedy and does not include step-grandchildren or adopted grandchildren.\n"
     ]
    }
   ],
   "source": [
    "print(response.content)"
   ]
  }
 ],
 "metadata": {
  "kernelspec": {
   "display_name": "venv",
   "language": "python",
   "name": "python3"
  },
  "language_info": {
   "codemirror_mode": {
    "name": "ipython",
    "version": 3
   },
   "file_extension": ".py",
   "mimetype": "text/x-python",
   "name": "python",
   "nbconvert_exporter": "python",
   "pygments_lexer": "ipython3",
   "version": "3.13.1"
  }
 },
 "nbformat": 4,
 "nbformat_minor": 2
}
